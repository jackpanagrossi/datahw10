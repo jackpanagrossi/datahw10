{
  "cells": [
    {
      "cell_type": "code",
      "execution_count": 1,
      "metadata": {
        "colab": {
          "base_uri": "https://localhost:8080/"
        },
        "id": "qRqO9np1E7-4",
        "outputId": "972b9198-2646-4de6-9977-d4064c118bbf"
      },
      "outputs": [
        {
          "output_type": "stream",
          "name": "stderr",
          "text": [
            "Installing package into ‘/usr/local/lib/R/site-library’\n",
            "(as ‘lib’ is unspecified)\n",
            "\n",
            "also installing the dependencies ‘iterators’, ‘foreach’, ‘shape’, ‘Rcpp’, ‘RcppEigen’\n",
            "\n",
            "\n",
            "Installing package into ‘/usr/local/lib/R/site-library’\n",
            "(as ‘lib’ is unspecified)\n",
            "\n",
            "also installing the dependencies ‘future.apply’, ‘numDeriv’, ‘progressr’, ‘SQUAREM’, ‘diagram’, ‘lava’, ‘listenv’, ‘parallelly’, ‘prodlim’, ‘future’, ‘warp’, ‘lhs’, ‘DiceDesign’, ‘patchwork’, ‘globals’, ‘clock’, ‘gower’, ‘ipred’, ‘timeDate’, ‘furrr’, ‘slider’, ‘GPfit’, ‘modelenv’, ‘conflicted’, ‘dials’, ‘hardhat’, ‘infer’, ‘modeldata’, ‘parsnip’, ‘recipes’, ‘rsample’, ‘tune’, ‘workflows’, ‘workflowsets’, ‘yardstick’\n",
            "\n",
            "\n",
            "Warning message in system(\"timedatectl\", intern = TRUE):\n",
            "“running command 'timedatectl' had status 1”\n",
            "\n",
            "Attaching package: ‘lubridate’\n",
            "\n",
            "\n",
            "The following objects are masked from ‘package:base’:\n",
            "\n",
            "    date, intersect, setdiff, union\n",
            "\n",
            "\n",
            "── \u001b[1mAttaching packages\u001b[22m ────────────────────────────────────── tidymodels 1.0.0 ──\n",
            "\n",
            "\u001b[32m✔\u001b[39m \u001b[34mbroom       \u001b[39m 1.0.4     \u001b[32m✔\u001b[39m \u001b[34mrecipes     \u001b[39m 1.0.5\n",
            "\u001b[32m✔\u001b[39m \u001b[34mdials       \u001b[39m 1.2.0     \u001b[32m✔\u001b[39m \u001b[34mrsample     \u001b[39m 1.1.1\n",
            "\u001b[32m✔\u001b[39m \u001b[34mdplyr       \u001b[39m 1.1.1     \u001b[32m✔\u001b[39m \u001b[34mtibble      \u001b[39m 3.2.1\n",
            "\u001b[32m✔\u001b[39m \u001b[34mggplot2     \u001b[39m 3.4.1     \u001b[32m✔\u001b[39m \u001b[34mtidyr       \u001b[39m 1.3.0\n",
            "\u001b[32m✔\u001b[39m \u001b[34minfer       \u001b[39m 1.0.4     \u001b[32m✔\u001b[39m \u001b[34mtune        \u001b[39m 1.1.0\n",
            "\u001b[32m✔\u001b[39m \u001b[34mmodeldata   \u001b[39m 1.1.0     \u001b[32m✔\u001b[39m \u001b[34mworkflows   \u001b[39m 1.1.3\n",
            "\u001b[32m✔\u001b[39m \u001b[34mparsnip     \u001b[39m 1.0.4     \u001b[32m✔\u001b[39m \u001b[34mworkflowsets\u001b[39m 1.0.1\n",
            "\u001b[32m✔\u001b[39m \u001b[34mpurrr       \u001b[39m 1.0.1     \u001b[32m✔\u001b[39m \u001b[34myardstick   \u001b[39m 1.1.0\n",
            "\n",
            "── \u001b[1mConflicts\u001b[22m ───────────────────────────────────────── tidymodels_conflicts() ──\n",
            "\u001b[31m✖\u001b[39m \u001b[34mpurrr\u001b[39m::\u001b[32mdiscard()\u001b[39m masks \u001b[34mscales\u001b[39m::discard()\n",
            "\u001b[31m✖\u001b[39m \u001b[34mdplyr\u001b[39m::\u001b[32mfilter()\u001b[39m  masks \u001b[34mstats\u001b[39m::filter()\n",
            "\u001b[31m✖\u001b[39m \u001b[34mdplyr\u001b[39m::\u001b[32mlag()\u001b[39m     masks \u001b[34mstats\u001b[39m::lag()\n",
            "\u001b[31m✖\u001b[39m \u001b[34mrecipes\u001b[39m::\u001b[32mstep()\u001b[39m  masks \u001b[34mstats\u001b[39m::step()\n",
            "\u001b[34m•\u001b[39m Learn how to get started at \u001b[32mhttps://www.tidymodels.org/start/\u001b[39m\n",
            "\n",
            "── \u001b[1mAttaching packages\u001b[22m ─────────────────────────────────────── tidyverse 1.3.1 ──\n",
            "\n",
            "\u001b[32m✔\u001b[39m \u001b[34mreadr  \u001b[39m 2.1.4     \u001b[32m✔\u001b[39m \u001b[34mforcats\u001b[39m 1.0.0\n",
            "\u001b[32m✔\u001b[39m \u001b[34mstringr\u001b[39m 1.4.1     \n",
            "\n",
            "── \u001b[1mConflicts\u001b[22m ────────────────────────────────────────── tidyverse_conflicts() ──\n",
            "\u001b[31m✖\u001b[39m \u001b[34mlubridate\u001b[39m::\u001b[32mas.difftime()\u001b[39m masks \u001b[34mbase\u001b[39m::as.difftime()\n",
            "\u001b[31m✖\u001b[39m \u001b[34mreadr\u001b[39m::\u001b[32mcol_factor()\u001b[39m      masks \u001b[34mscales\u001b[39m::col_factor()\n",
            "\u001b[31m✖\u001b[39m \u001b[34mlubridate\u001b[39m::\u001b[32mdate()\u001b[39m        masks \u001b[34mbase\u001b[39m::date()\n",
            "\u001b[31m✖\u001b[39m \u001b[34mpurrr\u001b[39m::\u001b[32mdiscard()\u001b[39m         masks \u001b[34mscales\u001b[39m::discard()\n",
            "\u001b[31m✖\u001b[39m \u001b[34mdplyr\u001b[39m::\u001b[32mfilter()\u001b[39m          masks \u001b[34mstats\u001b[39m::filter()\n",
            "\u001b[31m✖\u001b[39m \u001b[34mstringr\u001b[39m::\u001b[32mfixed()\u001b[39m         masks \u001b[34mrecipes\u001b[39m::fixed()\n",
            "\u001b[31m✖\u001b[39m \u001b[34mlubridate\u001b[39m::\u001b[32mintersect()\u001b[39m   masks \u001b[34mbase\u001b[39m::intersect()\n",
            "\u001b[31m✖\u001b[39m \u001b[34mdplyr\u001b[39m::\u001b[32mlag()\u001b[39m             masks \u001b[34mstats\u001b[39m::lag()\n",
            "\u001b[31m✖\u001b[39m \u001b[34mlubridate\u001b[39m::\u001b[32msetdiff()\u001b[39m     masks \u001b[34mbase\u001b[39m::setdiff()\n",
            "\u001b[31m✖\u001b[39m \u001b[34mreadr\u001b[39m::\u001b[32mspec()\u001b[39m            masks \u001b[34myardstick\u001b[39m::spec()\n",
            "\u001b[31m✖\u001b[39m \u001b[34mlubridate\u001b[39m::\u001b[32munion()\u001b[39m       masks \u001b[34mbase\u001b[39m::union()\n",
            "\n"
          ]
        }
      ],
      "source": [
        "options(repr.plot.width= 8, repr.plot.height=6)\n",
        "install.packages('glmnet')\n",
        "install.packages('tidymodels')\n",
        "library(lubridate)\n",
        "library(tidymodels)\n",
        "library(tidyverse)"
      ]
    },
    {
      "cell_type": "code",
      "source": [
        "install.packages(\"backports\")"
      ],
      "metadata": {
        "colab": {
          "base_uri": "https://localhost:8080/"
        },
        "id": "4f28fJnvjJtU",
        "outputId": "493bc469-14d4-40ed-ea22-9e6d74f09f37"
      },
      "execution_count": 6,
      "outputs": [
        {
          "output_type": "stream",
          "name": "stderr",
          "text": [
            "Installing package into ‘/usr/local/lib/R/site-library’\n",
            "(as ‘lib’ is unspecified)\n",
            "\n"
          ]
        }
      ]
    },
    {
      "cell_type": "code",
      "source": [
        "pga <- read_csv('https://github.com/jackpanagrossi/datahw10/blob/main/ASA%20All%20PGA%20Raw%20Data%20-%20Tourn%20Level.csv?raw=true')"
      ],
      "metadata": {
        "colab": {
          "base_uri": "https://localhost:8080/"
        },
        "id": "l_VeTBfnkBjr",
        "outputId": "80e35fc4-d031-4949-f218-e97daf9f4bae"
      },
      "execution_count": 158,
      "outputs": [
        {
          "output_type": "stream",
          "name": "stderr",
          "text": [
            "\u001b[1mRows: \u001b[22m\u001b[34m36864\u001b[39m \u001b[1mColumns: \u001b[22m\u001b[34m37\u001b[39m\n",
            "\u001b[36m──\u001b[39m \u001b[1mColumn specification\u001b[22m \u001b[36m────────────────────────────────────────────────────────\u001b[39m\n",
            "\u001b[1mDelimiter:\u001b[22m \",\"\n",
            "\u001b[31mchr\u001b[39m   (5): Player_initial_last, player, tournament name, course, Finish\n",
            "\u001b[32mdbl\u001b[39m  (28): tournament id, player id, hole_par, strokes, hole_DKP, hole_FDP, ...\n",
            "\u001b[33mlgl\u001b[39m   (3): Unnamed: 2, Unnamed: 3, Unnamed: 4\n",
            "\u001b[34mdate\u001b[39m  (1): date\n",
            "\n",
            "\u001b[36mℹ\u001b[39m Use `spec()` to retrieve the full column specification for this data.\n",
            "\u001b[36mℹ\u001b[39m Specify the column types or set `show_col_types = FALSE` to quiet this message.\n"
          ]
        }
      ]
    },
    {
      "cell_type": "code",
      "source": [
        "pga"
      ],
      "metadata": {
        "colab": {
          "base_uri": "https://localhost:8080/",
          "height": 1000
        },
        "id": "KiIjvDOLzrbN",
        "outputId": "af8e756d-6642-4f37-e517-92f3334a0fc7"
      },
      "execution_count": 3,
      "outputs": [
        {
          "output_type": "display_data",
          "data": {
            "text/html": [
              "<table class=\"dataframe\">\n",
              "<caption>A spec_tbl_df: 36864 × 37</caption>\n",
              "<thead>\n",
              "\t<tr><th scope=col>Player_initial_last</th><th scope=col>tournament id</th><th scope=col>player id</th><th scope=col>hole_par</th><th scope=col>strokes</th><th scope=col>hole_DKP</th><th scope=col>hole_FDP</th><th scope=col>hole_SDP</th><th scope=col>streak_DKP</th><th scope=col>streak_FDP</th><th scope=col>⋯</th><th scope=col>purse</th><th scope=col>season</th><th scope=col>no_cut</th><th scope=col>Finish</th><th scope=col>sg_putt</th><th scope=col>sg_arg</th><th scope=col>sg_app</th><th scope=col>sg_ott</th><th scope=col>sg_t2g</th><th scope=col>sg_total</th></tr>\n",
              "\t<tr><th scope=col>&lt;chr&gt;</th><th scope=col>&lt;dbl&gt;</th><th scope=col>&lt;dbl&gt;</th><th scope=col>&lt;dbl&gt;</th><th scope=col>&lt;dbl&gt;</th><th scope=col>&lt;dbl&gt;</th><th scope=col>&lt;dbl&gt;</th><th scope=col>&lt;dbl&gt;</th><th scope=col>&lt;dbl&gt;</th><th scope=col>&lt;dbl&gt;</th><th scope=col>⋯</th><th scope=col>&lt;dbl&gt;</th><th scope=col>&lt;dbl&gt;</th><th scope=col>&lt;dbl&gt;</th><th scope=col>&lt;chr&gt;</th><th scope=col>&lt;dbl&gt;</th><th scope=col>&lt;dbl&gt;</th><th scope=col>&lt;dbl&gt;</th><th scope=col>&lt;dbl&gt;</th><th scope=col>&lt;dbl&gt;</th><th scope=col>&lt;dbl&gt;</th></tr>\n",
              "</thead>\n",
              "<tbody>\n",
              "\t<tr><td>A. Ancer     </td><td>401353224</td><td>   9261</td><td>288</td><td>289</td><td>60.0</td><td>51.1</td><td>56</td><td>3</td><td> 7.6</td><td>⋯</td><td>12</td><td>2022</td><td>0</td><td>T32</td><td> 0.20</td><td>-0.13</td><td>-0.08</td><td> 0.86</td><td> 0.65</td><td> 0.85</td></tr>\n",
              "\t<tr><td>A. Hadwin    </td><td>401353224</td><td>   5548</td><td>288</td><td>286</td><td>72.5</td><td>61.5</td><td>61</td><td>8</td><td>13.0</td><td>⋯</td><td>12</td><td>2022</td><td>0</td><td>T18</td><td> 0.36</td><td> 0.75</td><td> 0.31</td><td> 0.18</td><td> 1.24</td><td> 1.60</td></tr>\n",
              "\t<tr><td>A. Lahiri    </td><td>401353224</td><td>   4989</td><td>144</td><td>147</td><td>21.5</td><td>17.4</td><td>27</td><td>0</td><td> 0.0</td><td>⋯</td><td>12</td><td>2022</td><td>0</td><td>CUT</td><td>-0.56</td><td> 0.74</td><td>-1.09</td><td> 0.37</td><td> 0.02</td><td>-0.54</td></tr>\n",
              "\t<tr><td>A. Long      </td><td>401353224</td><td>   6015</td><td>144</td><td>151</td><td>20.5</td><td>13.6</td><td>17</td><td>0</td><td> 0.4</td><td>⋯</td><td>12</td><td>2022</td><td>0</td><td>CUT</td><td>-1.46</td><td>-1.86</td><td>-0.02</td><td> 0.80</td><td>-1.08</td><td>-2.54</td></tr>\n",
              "\t<tr><td>A. Noren     </td><td>401353224</td><td>   3832</td><td>144</td><td>148</td><td>23.5</td><td>18.1</td><td>23</td><td>0</td><td> 1.2</td><td>⋯</td><td>12</td><td>2022</td><td>0</td><td>CUT</td><td> 0.53</td><td>-0.36</td><td>-1.39</td><td> 0.19</td><td>-1.56</td><td>-1.04</td></tr>\n",
              "\t<tr><td>A. Putnam    </td><td>401353224</td><td>   5502</td><td>144</td><td>151</td><td>19.5</td><td>12.0</td><td>19</td><td>0</td><td> 6.0</td><td>⋯</td><td>12</td><td>2022</td><td>0</td><td>CUT</td><td>-0.97</td><td> 0.14</td><td>-2.02</td><td> 0.31</td><td>-1.56</td><td>-2.54</td></tr>\n",
              "\t<tr><td>A. Rai       </td><td>401353224</td><td>  10906</td><td>288</td><td>287</td><td>63.0</td><td>55.7</td><td>58</td><td>3</td><td> 7.2</td><td>⋯</td><td>12</td><td>2022</td><td>0</td><td>T26</td><td> 2.05</td><td> 0.74</td><td>-1.32</td><td>-0.12</td><td>-0.70</td><td> 1.35</td></tr>\n",
              "\t<tr><td>A. Schenk    </td><td>401353224</td><td>  10372</td><td>288</td><td>287</td><td>59.5</td><td>54.0</td><td>59</td><td>0</td><td> 7.8</td><td>⋯</td><td>12</td><td>2022</td><td>0</td><td>T26</td><td>-0.96</td><td>-0.01</td><td> 1.84</td><td> 0.48</td><td> 2.31</td><td> 1.35</td></tr>\n",
              "\t<tr><td>A. Scott     </td><td>401353224</td><td>    388</td><td>288</td><td>299</td><td>48.5</td><td>34.7</td><td>48</td><td>0</td><td> 5.4</td><td>⋯</td><td>12</td><td>2022</td><td>0</td><td>T67</td><td>-0.82</td><td>-1.79</td><td> 2.00</td><td>-1.04</td><td>-0.83</td><td>-1.65</td></tr>\n",
              "\t<tr><td>A. Smalley   </td><td>401353224</td><td>   9484</td><td>144</td><td>151</td><td>18.0</td><td>10.9</td><td>20</td><td>0</td><td> 0.6</td><td>⋯</td><td>12</td><td>2022</td><td>0</td><td>CUT</td><td>-1.89</td><td>-0.71</td><td> 0.71</td><td>-0.65</td><td>-0.65</td><td>-2.54</td></tr>\n",
              "\t<tr><td>A. Svensson  </td><td>401353224</td><td>   9127</td><td>288</td><td>291</td><td>61.0</td><td>48.9</td><td>54</td><td>3</td><td> 2.0</td><td>⋯</td><td>12</td><td>2022</td><td>0</td><td>T45</td><td> 0.28</td><td>-0.02</td><td>-0.18</td><td> 0.26</td><td> 0.07</td><td> 0.35</td></tr>\n",
              "\t<tr><td>A. Wise      </td><td>401353224</td><td>  10577</td><td>288</td><td>279</td><td>72.0</td><td>69.3</td><td>72</td><td>0</td><td> 8.6</td><td>⋯</td><td>12</td><td>2022</td><td>0</td><td>2  </td><td> 1.16</td><td> 0.05</td><td> 1.96</td><td> 0.18</td><td> 2.19</td><td> 3.35</td></tr>\n",
              "\t<tr><td>B. DeChambeau</td><td>401353224</td><td>  10046</td><td>144</td><td>153</td><td>16.0</td><td> 7.9</td><td>16</td><td>0</td><td> 0.0</td><td>⋯</td><td>12</td><td>2022</td><td>0</td><td>NA </td><td>   NA</td><td>   NA</td><td>   NA</td><td>   NA</td><td>   NA</td><td>   NA</td></tr>\n",
              "\t<tr><td>B. Hagy      </td><td>401353224</td><td>   9584</td><td>144</td><td>155</td><td>19.0</td><td> 7.7</td><td>10</td><td>0</td><td> 0.8</td><td>⋯</td><td>12</td><td>2022</td><td>0</td><td>CUT</td><td>-0.94</td><td>-1.58</td><td>-1.41</td><td>-0.61</td><td>-3.60</td><td>-4.54</td></tr>\n",
              "\t<tr><td>B. Harman    </td><td>401353224</td><td>   1225</td><td>288</td><td>286</td><td>62.5</td><td>56.1</td><td>61</td><td>0</td><td> 7.8</td><td>⋯</td><td>12</td><td>2022</td><td>0</td><td>T18</td><td> 0.12</td><td> 0.66</td><td> 0.17</td><td> 0.65</td><td> 1.48</td><td> 1.60</td></tr>\n",
              "\t<tr><td>B. Hoag      </td><td>401353224</td><td>   4780</td><td>144</td><td>151</td><td>18.5</td><td>13.0</td><td>17</td><td>0</td><td> 0.2</td><td>⋯</td><td>12</td><td>2022</td><td>0</td><td>CUT</td><td>-0.93</td><td> 0.21</td><td>-1.40</td><td>-0.42</td><td>-1.60</td><td>-2.54</td></tr>\n",
              "\t<tr><td>B. Horschel  </td><td>401353224</td><td>   1651</td><td>288</td><td>275</td><td>77.0</td><td>75.5</td><td>82</td><td>6</td><td>16.2</td><td>⋯</td><td>12</td><td>2022</td><td>0</td><td>1  </td><td> 0.95</td><td> 1.31</td><td> 1.25</td><td> 0.84</td><td> 3.39</td><td> 4.35</td></tr>\n",
              "\t<tr><td>B. Hossler   </td><td>401353224</td><td>   6011</td><td>288</td><td>289</td><td>69.5</td><td>58.2</td><td>57</td><td>0</td><td>12.4</td><td>⋯</td><td>12</td><td>2022</td><td>0</td><td>T32</td><td> 1.94</td><td> 0.43</td><td>-1.50</td><td>-0.03</td><td>-1.09</td><td> 0.85</td></tr>\n",
              "\t<tr><td>B. Snedeker  </td><td>401353224</td><td>   1222</td><td>288</td><td>295</td><td>48.0</td><td>37.7</td><td>48</td><td>0</td><td> 1.0</td><td>⋯</td><td>12</td><td>2022</td><td>0</td><td>T60</td><td> 1.12</td><td> 0.25</td><td>-1.10</td><td>-0.92</td><td>-1.77</td><td>-0.65</td></tr>\n",
              "\t<tr><td>B. Steele    </td><td>401353224</td><td>   3596</td><td>288</td><td>284</td><td>65.5</td><td>60.7</td><td>63</td><td>0</td><td> 7.6</td><td>⋯</td><td>12</td><td>2022</td><td>0</td><td>T10</td><td> 0.20</td><td>-0.22</td><td> 1.26</td><td> 0.86</td><td> 1.90</td><td> 2.10</td></tr>\n",
              "\t<tr><td>B. Wu        </td><td>401353224</td><td>4355673</td><td>288</td><td>300</td><td>51.0</td><td>35.0</td><td>38</td><td>3</td><td> 2.4</td><td>⋯</td><td>12</td><td>2022</td><td>0</td><td>69 </td><td>-2.44</td><td> 0.30</td><td> 0.12</td><td> 0.12</td><td> 0.54</td><td>-1.90</td></tr>\n",
              "\t<tr><td>C. Champ     </td><td>401353224</td><td>  11098</td><td>144</td><td>149</td><td>25.0</td><td>16.7</td><td>22</td><td>0</td><td> 6.2</td><td>⋯</td><td>12</td><td>2022</td><td>0</td><td>CUT</td><td>-0.27</td><td> 0.00</td><td>-1.63</td><td> 0.36</td><td>-1.27</td><td>-1.54</td></tr>\n",
              "\t<tr><td>C. Conners   </td><td>401353224</td><td>   9126</td><td>288</td><td>285</td><td>72.5</td><td>60.2</td><td>65</td><td>3</td><td>19.4</td><td>⋯</td><td>12</td><td>2022</td><td>0</td><td>T13</td><td>-0.24</td><td>-0.47</td><td> 2.03</td><td> 0.53</td><td> 2.09</td><td> 1.85</td></tr>\n",
              "\t<tr><td>C. Davis     </td><td>401353224</td><td>  10863</td><td>288</td><td>294</td><td>51.0</td><td>37.2</td><td>54</td><td>0</td><td> 0.8</td><td>⋯</td><td>12</td><td>2022</td><td>0</td><td>T53</td><td> 0.19</td><td>-0.88</td><td> 0.88</td><td>-0.60</td><td>-0.59</td><td>-0.40</td></tr>\n",
              "\t<tr><td>C. Hoffman   </td><td>401353224</td><td>    205</td><td>144</td><td>147</td><td>26.0</td><td>20.7</td><td>24</td><td>0</td><td> 5.6</td><td>⋯</td><td>12</td><td>2022</td><td>0</td><td>CUT</td><td>-0.20</td><td>-0.47</td><td> 0.14</td><td> 0.00</td><td>-0.34</td><td>-0.54</td></tr>\n",
              "\t<tr><td>C. Howell III</td><td>401353224</td><td>    208</td><td>288</td><td>286</td><td>60.5</td><td>55.5</td><td>61</td><td>0</td><td> 6.2</td><td>⋯</td><td>12</td><td>2022</td><td>0</td><td>T18</td><td> 0.52</td><td>-0.36</td><td> 1.03</td><td> 0.40</td><td> 1.08</td><td> 1.60</td></tr>\n",
              "\t<tr><td>C. Kim       </td><td>401353224</td><td>   5724</td><td>288</td><td>299</td><td>46.0</td><td>30.9</td><td>44</td><td>0</td><td> 0.6</td><td>⋯</td><td>12</td><td>2022</td><td>0</td><td>T67</td><td>-1.40</td><td>-0.98</td><td> 0.53</td><td> 0.19</td><td>-0.26</td><td>-1.65</td></tr>\n",
              "\t<tr><td>C. Kirk      </td><td>401353224</td><td>   3449</td><td>288</td><td>294</td><td>60.0</td><td>46.3</td><td>47</td><td>0</td><td>12.4</td><td>⋯</td><td>12</td><td>2022</td><td>0</td><td>T53</td><td>-0.02</td><td> 0.45</td><td>-1.28</td><td> 0.45</td><td>-0.38</td><td>-0.40</td></tr>\n",
              "\t<tr><td>C. Luck      </td><td>401353224</td><td>  10910</td><td>144</td><td>151</td><td>21.0</td><td>13.1</td><td>18</td><td>0</td><td> 0.6</td><td>⋯</td><td>12</td><td>2022</td><td>0</td><td>CUT</td><td>-3.48</td><td>-0.10</td><td> 1.35</td><td>-0.30</td><td> 0.94</td><td>-2.54</td></tr>\n",
              "\t<tr><td>C. Morikawa  </td><td>401353224</td><td>  10592</td><td>144</td><td>148</td><td>21.0</td><td>15.4</td><td>26</td><td>0</td><td> 1.2</td><td>⋯</td><td>12</td><td>2022</td><td>0</td><td>CUT</td><td>-0.41</td><td>-1.99</td><td> 0.51</td><td> 0.86</td><td>-0.62</td><td>-1.04</td></tr>\n",
              "\t<tr><td>⋮</td><td>⋮</td><td>⋮</td><td>⋮</td><td>⋮</td><td>⋮</td><td>⋮</td><td>⋮</td><td>⋮</td><td>⋮</td><td>⋱</td><td>⋮</td><td>⋮</td><td>⋮</td><td>⋮</td><td>⋮</td><td>⋮</td><td>⋮</td><td>⋮</td><td>⋮</td><td>⋮</td></tr>\n",
              "\t<tr><td>R. Allenby    </td><td>2271</td><td>   5</td><td>288</td><td>277</td><td>78.0</td><td>74.7</td><td>76</td><td>0</td><td>11.6</td><td>⋯</td><td>6</td><td>2015</td><td>0</td><td>NA</td><td>NA</td><td>NA</td><td>NA</td><td>NA</td><td>NA</td><td>NA</td></tr>\n",
              "\t<tr><td>R. Armour     </td><td>2271</td><td>1750</td><td>144</td><td>146</td><td>28.5</td><td>23.3</td><td>25</td><td>3</td><td> 6.6</td><td>⋯</td><td>6</td><td>2015</td><td>0</td><td>NA</td><td>NA</td><td>NA</td><td>NA</td><td>NA</td><td>NA</td><td>NA</td></tr>\n",
              "\t<tr><td>R. Barnes     </td><td>2271</td><td> 801</td><td>144</td><td>147</td><td>21.0</td><td>17.9</td><td>26</td><td>0</td><td> 1.0</td><td>⋯</td><td>6</td><td>2015</td><td>0</td><td>NA</td><td>NA</td><td>NA</td><td>NA</td><td>NA</td><td>NA</td><td>NA</td></tr>\n",
              "\t<tr><td>R. Garrigus   </td><td>2271</td><td>1254</td><td>144</td><td>146</td><td>29.5</td><td>23.5</td><td>27</td><td>0</td><td> 1.0</td><td>⋯</td><td>6</td><td>2015</td><td>0</td><td>NA</td><td>NA</td><td>NA</td><td>NA</td><td>NA</td><td>NA</td><td>NA</td></tr>\n",
              "\t<tr><td>R. Goosen     </td><td>2271</td><td> 167</td><td>288</td><td>276</td><td>85.0</td><td>80.6</td><td>74</td><td>3</td><td>13.6</td><td>⋯</td><td>6</td><td>2015</td><td>0</td><td>NA</td><td>NA</td><td>NA</td><td>NA</td><td>NA</td><td>NA</td><td>NA</td></tr>\n",
              "\t<tr><td>R. Ishikawa   </td><td>2271</td><td>4047</td><td>288</td><td>280</td><td>79.5</td><td>72.1</td><td>71</td><td>6</td><td>14.0</td><td>⋯</td><td>6</td><td>2015</td><td>0</td><td>NA</td><td>NA</td><td>NA</td><td>NA</td><td>NA</td><td>NA</td><td>NA</td></tr>\n",
              "\t<tr><td>R. Knox       </td><td>2271</td><td>4483</td><td>288</td><td>291</td><td>61.0</td><td>50.2</td><td>53</td><td>0</td><td>12.0</td><td>⋯</td><td>6</td><td>2015</td><td>0</td><td>NA</td><td>NA</td><td>NA</td><td>NA</td><td>NA</td><td>NA</td><td>NA</td></tr>\n",
              "\t<tr><td>R. Sterne     </td><td>2271</td><td>1499</td><td>144</td><td>147</td><td>21.0</td><td>17.9</td><td>26</td><td>3</td><td> 1.2</td><td>⋯</td><td>6</td><td>2015</td><td>0</td><td>NA</td><td>NA</td><td>NA</td><td>NA</td><td>NA</td><td>NA</td><td>NA</td></tr>\n",
              "\t<tr><td>R. Streb      </td><td>2271</td><td>5619</td><td>288</td><td>283</td><td>67.5</td><td>62.4</td><td>67</td><td>3</td><td>11.8</td><td>⋯</td><td>6</td><td>2015</td><td>0</td><td>NA</td><td>NA</td><td>NA</td><td>NA</td><td>NA</td><td>NA</td><td>NA</td></tr>\n",
              "\t<tr><td>S. Appleby    </td><td>2271</td><td>  11</td><td>288</td><td>290</td><td>57.0</td><td>49.0</td><td>54</td><td>3</td><td> 7.8</td><td>⋯</td><td>6</td><td>2015</td><td>0</td><td>NA</td><td>NA</td><td>NA</td><td>NA</td><td>NA</td><td>NA</td><td>NA</td></tr>\n",
              "\t<tr><td>S. Bae        </td><td>2271</td><td>4015</td><td>288</td><td>273</td><td>86.5</td><td>84.0</td><td>81</td><td>9</td><td>20.2</td><td>⋯</td><td>6</td><td>2015</td><td>0</td><td>NA</td><td>NA</td><td>NA</td><td>NA</td><td>NA</td><td>NA</td><td>NA</td></tr>\n",
              "\t<tr><td>S. Bowditch   </td><td>2271</td><td>1112</td><td>288</td><td>275</td><td>81.5</td><td>78.8</td><td>79</td><td>0</td><td>17.4</td><td>⋯</td><td>6</td><td>2015</td><td>0</td><td>NA</td><td>NA</td><td>NA</td><td>NA</td><td>NA</td><td>NA</td><td>NA</td></tr>\n",
              "\t<tr><td>S. Brown      </td><td>2271</td><td>4591</td><td>288</td><td>278</td><td>74.5</td><td>71.9</td><td>73</td><td>6</td><td>14.4</td><td>⋯</td><td>6</td><td>2015</td><td>0</td><td>NA</td><td>NA</td><td>NA</td><td>NA</td><td>NA</td><td>NA</td><td>NA</td></tr>\n",
              "\t<tr><td>S. Langley    </td><td>2271</td><td>5506</td><td>288</td><td>279</td><td>75.0</td><td>71.5</td><td>70</td><td>3</td><td>19.2</td><td>⋯</td><td>6</td><td>2015</td><td>0</td><td>NA</td><td>NA</td><td>NA</td><td>NA</td><td>NA</td><td>NA</td><td>NA</td></tr>\n",
              "\t<tr><td>S. O'Hair     </td><td>2271</td><td>1359</td><td>144</td><td>143</td><td>28.0</td><td>26.1</td><td>32</td><td>3</td><td> 5.2</td><td>⋯</td><td>6</td><td>2015</td><td>0</td><td>NA</td><td>NA</td><td>NA</td><td>NA</td><td>NA</td><td>NA</td><td>NA</td></tr>\n",
              "\t<tr><td>S. Piercy     </td><td>2271</td><td>1037</td><td>144</td><td>147</td><td>25.0</td><td>19.1</td><td>26</td><td>0</td><td> 0.8</td><td>⋯</td><td>6</td><td>2015</td><td>0</td><td>NA</td><td>NA</td><td>NA</td><td>NA</td><td>NA</td><td>NA</td><td>NA</td></tr>\n",
              "\t<tr><td>S. Saunders   </td><td>2271</td><td>1613</td><td>288</td><td>293</td><td>46.0</td><td>39.5</td><td>52</td><td>0</td><td> 0.8</td><td>⋯</td><td>6</td><td>2015</td><td>0</td><td>NA</td><td>NA</td><td>NA</td><td>NA</td><td>NA</td><td>NA</td><td>NA</td></tr>\n",
              "\t<tr><td>S. Stallings  </td><td>2271</td><td>3378</td><td>288</td><td>281</td><td>71.5</td><td>66.0</td><td>71</td><td>0</td><td>12.6</td><td>⋯</td><td>6</td><td>2015</td><td>0</td><td>NA</td><td>NA</td><td>NA</td><td>NA</td><td>NA</td><td>NA</td><td>NA</td></tr>\n",
              "\t<tr><td>S. Stefani    </td><td>2271</td><td>4643</td><td>288</td><td>286</td><td>63.5</td><td>57.7</td><td>59</td><td>0</td><td>11.8</td><td>⋯</td><td>6</td><td>2015</td><td>0</td><td>NA</td><td>NA</td><td>NA</td><td>NA</td><td>NA</td><td>NA</td><td>NA</td></tr>\n",
              "\t<tr><td>T. Finau      </td><td>2271</td><td>2230</td><td>288</td><td>278</td><td>79.5</td><td>74.6</td><td>74</td><td>6</td><td>19.0</td><td>⋯</td><td>6</td><td>2015</td><td>0</td><td>NA</td><td>NA</td><td>NA</td><td>NA</td><td>NA</td><td>NA</td><td>NA</td></tr>\n",
              "\t<tr><td>T. Hoge       </td><td>2271</td><td>6086</td><td>144</td><td>144</td><td>27.5</td><td>24.1</td><td>31</td><td>0</td><td> 5.8</td><td>⋯</td><td>6</td><td>2015</td><td>0</td><td>NA</td><td>NA</td><td>NA</td><td>NA</td><td>NA</td><td>NA</td><td>NA</td></tr>\n",
              "\t<tr><td>T. Immelman   </td><td>2271</td><td> 215</td><td>288</td><td>285</td><td>64.0</td><td>58.3</td><td>64</td><td>0</td><td> 7.6</td><td>⋯</td><td>6</td><td>2015</td><td>0</td><td>NA</td><td>NA</td><td>NA</td><td>NA</td><td>NA</td><td>NA</td><td>NA</td></tr>\n",
              "\t<tr><td>T. Merritt    </td><td>2271</td><td>3970</td><td>144</td><td>149</td><td>21.0</td><td>15.5</td><td>22</td><td>0</td><td> 0.8</td><td>⋯</td><td>6</td><td>2015</td><td>0</td><td>NA</td><td>NA</td><td>NA</td><td>NA</td><td>NA</td><td>NA</td><td>NA</td></tr>\n",
              "\t<tr><td>T. Van Aswegen</td><td>2271</td><td>3295</td><td>288</td><td>293</td><td>52.5</td><td>43.3</td><td>52</td><td>0</td><td> 7.2</td><td>⋯</td><td>6</td><td>2015</td><td>0</td><td>NA</td><td>NA</td><td>NA</td><td>NA</td><td>NA</td><td>NA</td><td>NA</td></tr>\n",
              "\t<tr><td>T. Wilkinson  </td><td>2271</td><td>1157</td><td>288</td><td>290</td><td>55.0</td><td>48.3</td><td>57</td><td>0</td><td> 5.4</td><td>⋯</td><td>6</td><td>2015</td><td>0</td><td>NA</td><td>NA</td><td>NA</td><td>NA</td><td>NA</td><td>NA</td><td>NA</td></tr>\n",
              "\t<tr><td>V. Singh      </td><td>2271</td><td> 392</td><td>144</td><td>146</td><td>33.0</td><td>26.4</td><td>26</td><td>0</td><td> 0.6</td><td>⋯</td><td>6</td><td>2015</td><td>0</td><td>NA</td><td>NA</td><td>NA</td><td>NA</td><td>NA</td><td>NA</td><td>NA</td></tr>\n",
              "\t<tr><td>W. Kim        </td><td>2271</td><td>7082</td><td>144</td><td>150</td><td>18.5</td><td>12.9</td><td>21</td><td>0</td><td> 0.2</td><td>⋯</td><td>6</td><td>2015</td><td>0</td><td>NA</td><td>NA</td><td>NA</td><td>NA</td><td>NA</td><td>NA</td><td>NA</td></tr>\n",
              "\t<tr><td>W. McGirt     </td><td>2271</td><td>3532</td><td>216</td><td>215</td><td>44.5</td><td>40.6</td><td>45</td><td>0</td><td> 6.2</td><td>⋯</td><td>6</td><td>2015</td><td>0</td><td>NA</td><td>NA</td><td>NA</td><td>NA</td><td>NA</td><td>NA</td><td>NA</td></tr>\n",
              "\t<tr><td>Z. Blair      </td><td>2271</td><td>9040</td><td>288</td><td>278</td><td>73.0</td><td>70.8</td><td>74</td><td>3</td><td>23.2</td><td>⋯</td><td>6</td><td>2015</td><td>0</td><td>NA</td><td>NA</td><td>NA</td><td>NA</td><td>NA</td><td>NA</td><td>NA</td></tr>\n",
              "\t<tr><td>Z. Sucher     </td><td>2271</td><td>4708</td><td>144</td><td>147</td><td>22.5</td><td>18.9</td><td>28</td><td>0</td><td> 0.0</td><td>⋯</td><td>6</td><td>2015</td><td>0</td><td>NA</td><td>NA</td><td>NA</td><td>NA</td><td>NA</td><td>NA</td><td>NA</td></tr>\n",
              "</tbody>\n",
              "</table>\n"
            ],
            "text/markdown": "\nA spec_tbl_df: 36864 × 37\n\n| Player_initial_last &lt;chr&gt; | tournament id &lt;dbl&gt; | player id &lt;dbl&gt; | hole_par &lt;dbl&gt; | strokes &lt;dbl&gt; | hole_DKP &lt;dbl&gt; | hole_FDP &lt;dbl&gt; | hole_SDP &lt;dbl&gt; | streak_DKP &lt;dbl&gt; | streak_FDP &lt;dbl&gt; | ⋯ ⋯ | purse &lt;dbl&gt; | season &lt;dbl&gt; | no_cut &lt;dbl&gt; | Finish &lt;chr&gt; | sg_putt &lt;dbl&gt; | sg_arg &lt;dbl&gt; | sg_app &lt;dbl&gt; | sg_ott &lt;dbl&gt; | sg_t2g &lt;dbl&gt; | sg_total &lt;dbl&gt; |\n|---|---|---|---|---|---|---|---|---|---|---|---|---|---|---|---|---|---|---|---|---|\n| A. Ancer      | 401353224 |    9261 | 288 | 289 | 60.0 | 51.1 | 56 | 3 |  7.6 | ⋯ | 12 | 2022 | 0 | T32 |  0.20 | -0.13 | -0.08 |  0.86 |  0.65 |  0.85 |\n| A. Hadwin     | 401353224 |    5548 | 288 | 286 | 72.5 | 61.5 | 61 | 8 | 13.0 | ⋯ | 12 | 2022 | 0 | T18 |  0.36 |  0.75 |  0.31 |  0.18 |  1.24 |  1.60 |\n| A. Lahiri     | 401353224 |    4989 | 144 | 147 | 21.5 | 17.4 | 27 | 0 |  0.0 | ⋯ | 12 | 2022 | 0 | CUT | -0.56 |  0.74 | -1.09 |  0.37 |  0.02 | -0.54 |\n| A. Long       | 401353224 |    6015 | 144 | 151 | 20.5 | 13.6 | 17 | 0 |  0.4 | ⋯ | 12 | 2022 | 0 | CUT | -1.46 | -1.86 | -0.02 |  0.80 | -1.08 | -2.54 |\n| A. Noren      | 401353224 |    3832 | 144 | 148 | 23.5 | 18.1 | 23 | 0 |  1.2 | ⋯ | 12 | 2022 | 0 | CUT |  0.53 | -0.36 | -1.39 |  0.19 | -1.56 | -1.04 |\n| A. Putnam     | 401353224 |    5502 | 144 | 151 | 19.5 | 12.0 | 19 | 0 |  6.0 | ⋯ | 12 | 2022 | 0 | CUT | -0.97 |  0.14 | -2.02 |  0.31 | -1.56 | -2.54 |\n| A. Rai        | 401353224 |   10906 | 288 | 287 | 63.0 | 55.7 | 58 | 3 |  7.2 | ⋯ | 12 | 2022 | 0 | T26 |  2.05 |  0.74 | -1.32 | -0.12 | -0.70 |  1.35 |\n| A. Schenk     | 401353224 |   10372 | 288 | 287 | 59.5 | 54.0 | 59 | 0 |  7.8 | ⋯ | 12 | 2022 | 0 | T26 | -0.96 | -0.01 |  1.84 |  0.48 |  2.31 |  1.35 |\n| A. Scott      | 401353224 |     388 | 288 | 299 | 48.5 | 34.7 | 48 | 0 |  5.4 | ⋯ | 12 | 2022 | 0 | T67 | -0.82 | -1.79 |  2.00 | -1.04 | -0.83 | -1.65 |\n| A. Smalley    | 401353224 |    9484 | 144 | 151 | 18.0 | 10.9 | 20 | 0 |  0.6 | ⋯ | 12 | 2022 | 0 | CUT | -1.89 | -0.71 |  0.71 | -0.65 | -0.65 | -2.54 |\n| A. Svensson   | 401353224 |    9127 | 288 | 291 | 61.0 | 48.9 | 54 | 3 |  2.0 | ⋯ | 12 | 2022 | 0 | T45 |  0.28 | -0.02 | -0.18 |  0.26 |  0.07 |  0.35 |\n| A. Wise       | 401353224 |   10577 | 288 | 279 | 72.0 | 69.3 | 72 | 0 |  8.6 | ⋯ | 12 | 2022 | 0 | 2   |  1.16 |  0.05 |  1.96 |  0.18 |  2.19 |  3.35 |\n| B. DeChambeau | 401353224 |   10046 | 144 | 153 | 16.0 |  7.9 | 16 | 0 |  0.0 | ⋯ | 12 | 2022 | 0 | NA  |    NA |    NA |    NA |    NA |    NA |    NA |\n| B. Hagy       | 401353224 |    9584 | 144 | 155 | 19.0 |  7.7 | 10 | 0 |  0.8 | ⋯ | 12 | 2022 | 0 | CUT | -0.94 | -1.58 | -1.41 | -0.61 | -3.60 | -4.54 |\n| B. Harman     | 401353224 |    1225 | 288 | 286 | 62.5 | 56.1 | 61 | 0 |  7.8 | ⋯ | 12 | 2022 | 0 | T18 |  0.12 |  0.66 |  0.17 |  0.65 |  1.48 |  1.60 |\n| B. Hoag       | 401353224 |    4780 | 144 | 151 | 18.5 | 13.0 | 17 | 0 |  0.2 | ⋯ | 12 | 2022 | 0 | CUT | -0.93 |  0.21 | -1.40 | -0.42 | -1.60 | -2.54 |\n| B. Horschel   | 401353224 |    1651 | 288 | 275 | 77.0 | 75.5 | 82 | 6 | 16.2 | ⋯ | 12 | 2022 | 0 | 1   |  0.95 |  1.31 |  1.25 |  0.84 |  3.39 |  4.35 |\n| B. Hossler    | 401353224 |    6011 | 288 | 289 | 69.5 | 58.2 | 57 | 0 | 12.4 | ⋯ | 12 | 2022 | 0 | T32 |  1.94 |  0.43 | -1.50 | -0.03 | -1.09 |  0.85 |\n| B. Snedeker   | 401353224 |    1222 | 288 | 295 | 48.0 | 37.7 | 48 | 0 |  1.0 | ⋯ | 12 | 2022 | 0 | T60 |  1.12 |  0.25 | -1.10 | -0.92 | -1.77 | -0.65 |\n| B. Steele     | 401353224 |    3596 | 288 | 284 | 65.5 | 60.7 | 63 | 0 |  7.6 | ⋯ | 12 | 2022 | 0 | T10 |  0.20 | -0.22 |  1.26 |  0.86 |  1.90 |  2.10 |\n| B. Wu         | 401353224 | 4355673 | 288 | 300 | 51.0 | 35.0 | 38 | 3 |  2.4 | ⋯ | 12 | 2022 | 0 | 69  | -2.44 |  0.30 |  0.12 |  0.12 |  0.54 | -1.90 |\n| C. Champ      | 401353224 |   11098 | 144 | 149 | 25.0 | 16.7 | 22 | 0 |  6.2 | ⋯ | 12 | 2022 | 0 | CUT | -0.27 |  0.00 | -1.63 |  0.36 | -1.27 | -1.54 |\n| C. Conners    | 401353224 |    9126 | 288 | 285 | 72.5 | 60.2 | 65 | 3 | 19.4 | ⋯ | 12 | 2022 | 0 | T13 | -0.24 | -0.47 |  2.03 |  0.53 |  2.09 |  1.85 |\n| C. Davis      | 401353224 |   10863 | 288 | 294 | 51.0 | 37.2 | 54 | 0 |  0.8 | ⋯ | 12 | 2022 | 0 | T53 |  0.19 | -0.88 |  0.88 | -0.60 | -0.59 | -0.40 |\n| C. Hoffman    | 401353224 |     205 | 144 | 147 | 26.0 | 20.7 | 24 | 0 |  5.6 | ⋯ | 12 | 2022 | 0 | CUT | -0.20 | -0.47 |  0.14 |  0.00 | -0.34 | -0.54 |\n| C. Howell III | 401353224 |     208 | 288 | 286 | 60.5 | 55.5 | 61 | 0 |  6.2 | ⋯ | 12 | 2022 | 0 | T18 |  0.52 | -0.36 |  1.03 |  0.40 |  1.08 |  1.60 |\n| C. Kim        | 401353224 |    5724 | 288 | 299 | 46.0 | 30.9 | 44 | 0 |  0.6 | ⋯ | 12 | 2022 | 0 | T67 | -1.40 | -0.98 |  0.53 |  0.19 | -0.26 | -1.65 |\n| C. Kirk       | 401353224 |    3449 | 288 | 294 | 60.0 | 46.3 | 47 | 0 | 12.4 | ⋯ | 12 | 2022 | 0 | T53 | -0.02 |  0.45 | -1.28 |  0.45 | -0.38 | -0.40 |\n| C. Luck       | 401353224 |   10910 | 144 | 151 | 21.0 | 13.1 | 18 | 0 |  0.6 | ⋯ | 12 | 2022 | 0 | CUT | -3.48 | -0.10 |  1.35 | -0.30 |  0.94 | -2.54 |\n| C. Morikawa   | 401353224 |   10592 | 144 | 148 | 21.0 | 15.4 | 26 | 0 |  1.2 | ⋯ | 12 | 2022 | 0 | CUT | -0.41 | -1.99 |  0.51 |  0.86 | -0.62 | -1.04 |\n| ⋮ | ⋮ | ⋮ | ⋮ | ⋮ | ⋮ | ⋮ | ⋮ | ⋮ | ⋮ | ⋱ | ⋮ | ⋮ | ⋮ | ⋮ | ⋮ | ⋮ | ⋮ | ⋮ | ⋮ | ⋮ |\n| R. Allenby     | 2271 |    5 | 288 | 277 | 78.0 | 74.7 | 76 | 0 | 11.6 | ⋯ | 6 | 2015 | 0 | NA | NA | NA | NA | NA | NA | NA |\n| R. Armour      | 2271 | 1750 | 144 | 146 | 28.5 | 23.3 | 25 | 3 |  6.6 | ⋯ | 6 | 2015 | 0 | NA | NA | NA | NA | NA | NA | NA |\n| R. Barnes      | 2271 |  801 | 144 | 147 | 21.0 | 17.9 | 26 | 0 |  1.0 | ⋯ | 6 | 2015 | 0 | NA | NA | NA | NA | NA | NA | NA |\n| R. Garrigus    | 2271 | 1254 | 144 | 146 | 29.5 | 23.5 | 27 | 0 |  1.0 | ⋯ | 6 | 2015 | 0 | NA | NA | NA | NA | NA | NA | NA |\n| R. Goosen      | 2271 |  167 | 288 | 276 | 85.0 | 80.6 | 74 | 3 | 13.6 | ⋯ | 6 | 2015 | 0 | NA | NA | NA | NA | NA | NA | NA |\n| R. Ishikawa    | 2271 | 4047 | 288 | 280 | 79.5 | 72.1 | 71 | 6 | 14.0 | ⋯ | 6 | 2015 | 0 | NA | NA | NA | NA | NA | NA | NA |\n| R. Knox        | 2271 | 4483 | 288 | 291 | 61.0 | 50.2 | 53 | 0 | 12.0 | ⋯ | 6 | 2015 | 0 | NA | NA | NA | NA | NA | NA | NA |\n| R. Sterne      | 2271 | 1499 | 144 | 147 | 21.0 | 17.9 | 26 | 3 |  1.2 | ⋯ | 6 | 2015 | 0 | NA | NA | NA | NA | NA | NA | NA |\n| R. Streb       | 2271 | 5619 | 288 | 283 | 67.5 | 62.4 | 67 | 3 | 11.8 | ⋯ | 6 | 2015 | 0 | NA | NA | NA | NA | NA | NA | NA |\n| S. Appleby     | 2271 |   11 | 288 | 290 | 57.0 | 49.0 | 54 | 3 |  7.8 | ⋯ | 6 | 2015 | 0 | NA | NA | NA | NA | NA | NA | NA |\n| S. Bae         | 2271 | 4015 | 288 | 273 | 86.5 | 84.0 | 81 | 9 | 20.2 | ⋯ | 6 | 2015 | 0 | NA | NA | NA | NA | NA | NA | NA |\n| S. Bowditch    | 2271 | 1112 | 288 | 275 | 81.5 | 78.8 | 79 | 0 | 17.4 | ⋯ | 6 | 2015 | 0 | NA | NA | NA | NA | NA | NA | NA |\n| S. Brown       | 2271 | 4591 | 288 | 278 | 74.5 | 71.9 | 73 | 6 | 14.4 | ⋯ | 6 | 2015 | 0 | NA | NA | NA | NA | NA | NA | NA |\n| S. Langley     | 2271 | 5506 | 288 | 279 | 75.0 | 71.5 | 70 | 3 | 19.2 | ⋯ | 6 | 2015 | 0 | NA | NA | NA | NA | NA | NA | NA |\n| S. O'Hair      | 2271 | 1359 | 144 | 143 | 28.0 | 26.1 | 32 | 3 |  5.2 | ⋯ | 6 | 2015 | 0 | NA | NA | NA | NA | NA | NA | NA |\n| S. Piercy      | 2271 | 1037 | 144 | 147 | 25.0 | 19.1 | 26 | 0 |  0.8 | ⋯ | 6 | 2015 | 0 | NA | NA | NA | NA | NA | NA | NA |\n| S. Saunders    | 2271 | 1613 | 288 | 293 | 46.0 | 39.5 | 52 | 0 |  0.8 | ⋯ | 6 | 2015 | 0 | NA | NA | NA | NA | NA | NA | NA |\n| S. Stallings   | 2271 | 3378 | 288 | 281 | 71.5 | 66.0 | 71 | 0 | 12.6 | ⋯ | 6 | 2015 | 0 | NA | NA | NA | NA | NA | NA | NA |\n| S. Stefani     | 2271 | 4643 | 288 | 286 | 63.5 | 57.7 | 59 | 0 | 11.8 | ⋯ | 6 | 2015 | 0 | NA | NA | NA | NA | NA | NA | NA |\n| T. Finau       | 2271 | 2230 | 288 | 278 | 79.5 | 74.6 | 74 | 6 | 19.0 | ⋯ | 6 | 2015 | 0 | NA | NA | NA | NA | NA | NA | NA |\n| T. Hoge        | 2271 | 6086 | 144 | 144 | 27.5 | 24.1 | 31 | 0 |  5.8 | ⋯ | 6 | 2015 | 0 | NA | NA | NA | NA | NA | NA | NA |\n| T. Immelman    | 2271 |  215 | 288 | 285 | 64.0 | 58.3 | 64 | 0 |  7.6 | ⋯ | 6 | 2015 | 0 | NA | NA | NA | NA | NA | NA | NA |\n| T. Merritt     | 2271 | 3970 | 144 | 149 | 21.0 | 15.5 | 22 | 0 |  0.8 | ⋯ | 6 | 2015 | 0 | NA | NA | NA | NA | NA | NA | NA |\n| T. Van Aswegen | 2271 | 3295 | 288 | 293 | 52.5 | 43.3 | 52 | 0 |  7.2 | ⋯ | 6 | 2015 | 0 | NA | NA | NA | NA | NA | NA | NA |\n| T. Wilkinson   | 2271 | 1157 | 288 | 290 | 55.0 | 48.3 | 57 | 0 |  5.4 | ⋯ | 6 | 2015 | 0 | NA | NA | NA | NA | NA | NA | NA |\n| V. Singh       | 2271 |  392 | 144 | 146 | 33.0 | 26.4 | 26 | 0 |  0.6 | ⋯ | 6 | 2015 | 0 | NA | NA | NA | NA | NA | NA | NA |\n| W. Kim         | 2271 | 7082 | 144 | 150 | 18.5 | 12.9 | 21 | 0 |  0.2 | ⋯ | 6 | 2015 | 0 | NA | NA | NA | NA | NA | NA | NA |\n| W. McGirt      | 2271 | 3532 | 216 | 215 | 44.5 | 40.6 | 45 | 0 |  6.2 | ⋯ | 6 | 2015 | 0 | NA | NA | NA | NA | NA | NA | NA |\n| Z. Blair       | 2271 | 9040 | 288 | 278 | 73.0 | 70.8 | 74 | 3 | 23.2 | ⋯ | 6 | 2015 | 0 | NA | NA | NA | NA | NA | NA | NA |\n| Z. Sucher      | 2271 | 4708 | 144 | 147 | 22.5 | 18.9 | 28 | 0 |  0.0 | ⋯ | 6 | 2015 | 0 | NA | NA | NA | NA | NA | NA | NA |\n\n",
            "text/latex": "A spec\\_tbl\\_df: 36864 × 37\n\\begin{tabular}{lllllllllllllllllllll}\n Player\\_initial\\_last & tournament id & player id & hole\\_par & strokes & hole\\_DKP & hole\\_FDP & hole\\_SDP & streak\\_DKP & streak\\_FDP & ⋯ & purse & season & no\\_cut & Finish & sg\\_putt & sg\\_arg & sg\\_app & sg\\_ott & sg\\_t2g & sg\\_total\\\\\n <chr> & <dbl> & <dbl> & <dbl> & <dbl> & <dbl> & <dbl> & <dbl> & <dbl> & <dbl> & ⋯ & <dbl> & <dbl> & <dbl> & <chr> & <dbl> & <dbl> & <dbl> & <dbl> & <dbl> & <dbl>\\\\\n\\hline\n\t A. Ancer      & 401353224 &    9261 & 288 & 289 & 60.0 & 51.1 & 56 & 3 &  7.6 & ⋯ & 12 & 2022 & 0 & T32 &  0.20 & -0.13 & -0.08 &  0.86 &  0.65 &  0.85\\\\\n\t A. Hadwin     & 401353224 &    5548 & 288 & 286 & 72.5 & 61.5 & 61 & 8 & 13.0 & ⋯ & 12 & 2022 & 0 & T18 &  0.36 &  0.75 &  0.31 &  0.18 &  1.24 &  1.60\\\\\n\t A. Lahiri     & 401353224 &    4989 & 144 & 147 & 21.5 & 17.4 & 27 & 0 &  0.0 & ⋯ & 12 & 2022 & 0 & CUT & -0.56 &  0.74 & -1.09 &  0.37 &  0.02 & -0.54\\\\\n\t A. Long       & 401353224 &    6015 & 144 & 151 & 20.5 & 13.6 & 17 & 0 &  0.4 & ⋯ & 12 & 2022 & 0 & CUT & -1.46 & -1.86 & -0.02 &  0.80 & -1.08 & -2.54\\\\\n\t A. Noren      & 401353224 &    3832 & 144 & 148 & 23.5 & 18.1 & 23 & 0 &  1.2 & ⋯ & 12 & 2022 & 0 & CUT &  0.53 & -0.36 & -1.39 &  0.19 & -1.56 & -1.04\\\\\n\t A. Putnam     & 401353224 &    5502 & 144 & 151 & 19.5 & 12.0 & 19 & 0 &  6.0 & ⋯ & 12 & 2022 & 0 & CUT & -0.97 &  0.14 & -2.02 &  0.31 & -1.56 & -2.54\\\\\n\t A. Rai        & 401353224 &   10906 & 288 & 287 & 63.0 & 55.7 & 58 & 3 &  7.2 & ⋯ & 12 & 2022 & 0 & T26 &  2.05 &  0.74 & -1.32 & -0.12 & -0.70 &  1.35\\\\\n\t A. Schenk     & 401353224 &   10372 & 288 & 287 & 59.5 & 54.0 & 59 & 0 &  7.8 & ⋯ & 12 & 2022 & 0 & T26 & -0.96 & -0.01 &  1.84 &  0.48 &  2.31 &  1.35\\\\\n\t A. Scott      & 401353224 &     388 & 288 & 299 & 48.5 & 34.7 & 48 & 0 &  5.4 & ⋯ & 12 & 2022 & 0 & T67 & -0.82 & -1.79 &  2.00 & -1.04 & -0.83 & -1.65\\\\\n\t A. Smalley    & 401353224 &    9484 & 144 & 151 & 18.0 & 10.9 & 20 & 0 &  0.6 & ⋯ & 12 & 2022 & 0 & CUT & -1.89 & -0.71 &  0.71 & -0.65 & -0.65 & -2.54\\\\\n\t A. Svensson   & 401353224 &    9127 & 288 & 291 & 61.0 & 48.9 & 54 & 3 &  2.0 & ⋯ & 12 & 2022 & 0 & T45 &  0.28 & -0.02 & -0.18 &  0.26 &  0.07 &  0.35\\\\\n\t A. Wise       & 401353224 &   10577 & 288 & 279 & 72.0 & 69.3 & 72 & 0 &  8.6 & ⋯ & 12 & 2022 & 0 & 2   &  1.16 &  0.05 &  1.96 &  0.18 &  2.19 &  3.35\\\\\n\t B. DeChambeau & 401353224 &   10046 & 144 & 153 & 16.0 &  7.9 & 16 & 0 &  0.0 & ⋯ & 12 & 2022 & 0 & NA  &    NA &    NA &    NA &    NA &    NA &    NA\\\\\n\t B. Hagy       & 401353224 &    9584 & 144 & 155 & 19.0 &  7.7 & 10 & 0 &  0.8 & ⋯ & 12 & 2022 & 0 & CUT & -0.94 & -1.58 & -1.41 & -0.61 & -3.60 & -4.54\\\\\n\t B. Harman     & 401353224 &    1225 & 288 & 286 & 62.5 & 56.1 & 61 & 0 &  7.8 & ⋯ & 12 & 2022 & 0 & T18 &  0.12 &  0.66 &  0.17 &  0.65 &  1.48 &  1.60\\\\\n\t B. Hoag       & 401353224 &    4780 & 144 & 151 & 18.5 & 13.0 & 17 & 0 &  0.2 & ⋯ & 12 & 2022 & 0 & CUT & -0.93 &  0.21 & -1.40 & -0.42 & -1.60 & -2.54\\\\\n\t B. Horschel   & 401353224 &    1651 & 288 & 275 & 77.0 & 75.5 & 82 & 6 & 16.2 & ⋯ & 12 & 2022 & 0 & 1   &  0.95 &  1.31 &  1.25 &  0.84 &  3.39 &  4.35\\\\\n\t B. Hossler    & 401353224 &    6011 & 288 & 289 & 69.5 & 58.2 & 57 & 0 & 12.4 & ⋯ & 12 & 2022 & 0 & T32 &  1.94 &  0.43 & -1.50 & -0.03 & -1.09 &  0.85\\\\\n\t B. Snedeker   & 401353224 &    1222 & 288 & 295 & 48.0 & 37.7 & 48 & 0 &  1.0 & ⋯ & 12 & 2022 & 0 & T60 &  1.12 &  0.25 & -1.10 & -0.92 & -1.77 & -0.65\\\\\n\t B. Steele     & 401353224 &    3596 & 288 & 284 & 65.5 & 60.7 & 63 & 0 &  7.6 & ⋯ & 12 & 2022 & 0 & T10 &  0.20 & -0.22 &  1.26 &  0.86 &  1.90 &  2.10\\\\\n\t B. Wu         & 401353224 & 4355673 & 288 & 300 & 51.0 & 35.0 & 38 & 3 &  2.4 & ⋯ & 12 & 2022 & 0 & 69  & -2.44 &  0.30 &  0.12 &  0.12 &  0.54 & -1.90\\\\\n\t C. Champ      & 401353224 &   11098 & 144 & 149 & 25.0 & 16.7 & 22 & 0 &  6.2 & ⋯ & 12 & 2022 & 0 & CUT & -0.27 &  0.00 & -1.63 &  0.36 & -1.27 & -1.54\\\\\n\t C. Conners    & 401353224 &    9126 & 288 & 285 & 72.5 & 60.2 & 65 & 3 & 19.4 & ⋯ & 12 & 2022 & 0 & T13 & -0.24 & -0.47 &  2.03 &  0.53 &  2.09 &  1.85\\\\\n\t C. Davis      & 401353224 &   10863 & 288 & 294 & 51.0 & 37.2 & 54 & 0 &  0.8 & ⋯ & 12 & 2022 & 0 & T53 &  0.19 & -0.88 &  0.88 & -0.60 & -0.59 & -0.40\\\\\n\t C. Hoffman    & 401353224 &     205 & 144 & 147 & 26.0 & 20.7 & 24 & 0 &  5.6 & ⋯ & 12 & 2022 & 0 & CUT & -0.20 & -0.47 &  0.14 &  0.00 & -0.34 & -0.54\\\\\n\t C. Howell III & 401353224 &     208 & 288 & 286 & 60.5 & 55.5 & 61 & 0 &  6.2 & ⋯ & 12 & 2022 & 0 & T18 &  0.52 & -0.36 &  1.03 &  0.40 &  1.08 &  1.60\\\\\n\t C. Kim        & 401353224 &    5724 & 288 & 299 & 46.0 & 30.9 & 44 & 0 &  0.6 & ⋯ & 12 & 2022 & 0 & T67 & -1.40 & -0.98 &  0.53 &  0.19 & -0.26 & -1.65\\\\\n\t C. Kirk       & 401353224 &    3449 & 288 & 294 & 60.0 & 46.3 & 47 & 0 & 12.4 & ⋯ & 12 & 2022 & 0 & T53 & -0.02 &  0.45 & -1.28 &  0.45 & -0.38 & -0.40\\\\\n\t C. Luck       & 401353224 &   10910 & 144 & 151 & 21.0 & 13.1 & 18 & 0 &  0.6 & ⋯ & 12 & 2022 & 0 & CUT & -3.48 & -0.10 &  1.35 & -0.30 &  0.94 & -2.54\\\\\n\t C. Morikawa   & 401353224 &   10592 & 144 & 148 & 21.0 & 15.4 & 26 & 0 &  1.2 & ⋯ & 12 & 2022 & 0 & CUT & -0.41 & -1.99 &  0.51 &  0.86 & -0.62 & -1.04\\\\\n\t ⋮ & ⋮ & ⋮ & ⋮ & ⋮ & ⋮ & ⋮ & ⋮ & ⋮ & ⋮ & ⋱ & ⋮ & ⋮ & ⋮ & ⋮ & ⋮ & ⋮ & ⋮ & ⋮ & ⋮ & ⋮\\\\\n\t R. Allenby     & 2271 &    5 & 288 & 277 & 78.0 & 74.7 & 76 & 0 & 11.6 & ⋯ & 6 & 2015 & 0 & NA & NA & NA & NA & NA & NA & NA\\\\\n\t R. Armour      & 2271 & 1750 & 144 & 146 & 28.5 & 23.3 & 25 & 3 &  6.6 & ⋯ & 6 & 2015 & 0 & NA & NA & NA & NA & NA & NA & NA\\\\\n\t R. Barnes      & 2271 &  801 & 144 & 147 & 21.0 & 17.9 & 26 & 0 &  1.0 & ⋯ & 6 & 2015 & 0 & NA & NA & NA & NA & NA & NA & NA\\\\\n\t R. Garrigus    & 2271 & 1254 & 144 & 146 & 29.5 & 23.5 & 27 & 0 &  1.0 & ⋯ & 6 & 2015 & 0 & NA & NA & NA & NA & NA & NA & NA\\\\\n\t R. Goosen      & 2271 &  167 & 288 & 276 & 85.0 & 80.6 & 74 & 3 & 13.6 & ⋯ & 6 & 2015 & 0 & NA & NA & NA & NA & NA & NA & NA\\\\\n\t R. Ishikawa    & 2271 & 4047 & 288 & 280 & 79.5 & 72.1 & 71 & 6 & 14.0 & ⋯ & 6 & 2015 & 0 & NA & NA & NA & NA & NA & NA & NA\\\\\n\t R. Knox        & 2271 & 4483 & 288 & 291 & 61.0 & 50.2 & 53 & 0 & 12.0 & ⋯ & 6 & 2015 & 0 & NA & NA & NA & NA & NA & NA & NA\\\\\n\t R. Sterne      & 2271 & 1499 & 144 & 147 & 21.0 & 17.9 & 26 & 3 &  1.2 & ⋯ & 6 & 2015 & 0 & NA & NA & NA & NA & NA & NA & NA\\\\\n\t R. Streb       & 2271 & 5619 & 288 & 283 & 67.5 & 62.4 & 67 & 3 & 11.8 & ⋯ & 6 & 2015 & 0 & NA & NA & NA & NA & NA & NA & NA\\\\\n\t S. Appleby     & 2271 &   11 & 288 & 290 & 57.0 & 49.0 & 54 & 3 &  7.8 & ⋯ & 6 & 2015 & 0 & NA & NA & NA & NA & NA & NA & NA\\\\\n\t S. Bae         & 2271 & 4015 & 288 & 273 & 86.5 & 84.0 & 81 & 9 & 20.2 & ⋯ & 6 & 2015 & 0 & NA & NA & NA & NA & NA & NA & NA\\\\\n\t S. Bowditch    & 2271 & 1112 & 288 & 275 & 81.5 & 78.8 & 79 & 0 & 17.4 & ⋯ & 6 & 2015 & 0 & NA & NA & NA & NA & NA & NA & NA\\\\\n\t S. Brown       & 2271 & 4591 & 288 & 278 & 74.5 & 71.9 & 73 & 6 & 14.4 & ⋯ & 6 & 2015 & 0 & NA & NA & NA & NA & NA & NA & NA\\\\\n\t S. Langley     & 2271 & 5506 & 288 & 279 & 75.0 & 71.5 & 70 & 3 & 19.2 & ⋯ & 6 & 2015 & 0 & NA & NA & NA & NA & NA & NA & NA\\\\\n\t S. O'Hair      & 2271 & 1359 & 144 & 143 & 28.0 & 26.1 & 32 & 3 &  5.2 & ⋯ & 6 & 2015 & 0 & NA & NA & NA & NA & NA & NA & NA\\\\\n\t S. Piercy      & 2271 & 1037 & 144 & 147 & 25.0 & 19.1 & 26 & 0 &  0.8 & ⋯ & 6 & 2015 & 0 & NA & NA & NA & NA & NA & NA & NA\\\\\n\t S. Saunders    & 2271 & 1613 & 288 & 293 & 46.0 & 39.5 & 52 & 0 &  0.8 & ⋯ & 6 & 2015 & 0 & NA & NA & NA & NA & NA & NA & NA\\\\\n\t S. Stallings   & 2271 & 3378 & 288 & 281 & 71.5 & 66.0 & 71 & 0 & 12.6 & ⋯ & 6 & 2015 & 0 & NA & NA & NA & NA & NA & NA & NA\\\\\n\t S. Stefani     & 2271 & 4643 & 288 & 286 & 63.5 & 57.7 & 59 & 0 & 11.8 & ⋯ & 6 & 2015 & 0 & NA & NA & NA & NA & NA & NA & NA\\\\\n\t T. Finau       & 2271 & 2230 & 288 & 278 & 79.5 & 74.6 & 74 & 6 & 19.0 & ⋯ & 6 & 2015 & 0 & NA & NA & NA & NA & NA & NA & NA\\\\\n\t T. Hoge        & 2271 & 6086 & 144 & 144 & 27.5 & 24.1 & 31 & 0 &  5.8 & ⋯ & 6 & 2015 & 0 & NA & NA & NA & NA & NA & NA & NA\\\\\n\t T. Immelman    & 2271 &  215 & 288 & 285 & 64.0 & 58.3 & 64 & 0 &  7.6 & ⋯ & 6 & 2015 & 0 & NA & NA & NA & NA & NA & NA & NA\\\\\n\t T. Merritt     & 2271 & 3970 & 144 & 149 & 21.0 & 15.5 & 22 & 0 &  0.8 & ⋯ & 6 & 2015 & 0 & NA & NA & NA & NA & NA & NA & NA\\\\\n\t T. Van Aswegen & 2271 & 3295 & 288 & 293 & 52.5 & 43.3 & 52 & 0 &  7.2 & ⋯ & 6 & 2015 & 0 & NA & NA & NA & NA & NA & NA & NA\\\\\n\t T. Wilkinson   & 2271 & 1157 & 288 & 290 & 55.0 & 48.3 & 57 & 0 &  5.4 & ⋯ & 6 & 2015 & 0 & NA & NA & NA & NA & NA & NA & NA\\\\\n\t V. Singh       & 2271 &  392 & 144 & 146 & 33.0 & 26.4 & 26 & 0 &  0.6 & ⋯ & 6 & 2015 & 0 & NA & NA & NA & NA & NA & NA & NA\\\\\n\t W. Kim         & 2271 & 7082 & 144 & 150 & 18.5 & 12.9 & 21 & 0 &  0.2 & ⋯ & 6 & 2015 & 0 & NA & NA & NA & NA & NA & NA & NA\\\\\n\t W. McGirt      & 2271 & 3532 & 216 & 215 & 44.5 & 40.6 & 45 & 0 &  6.2 & ⋯ & 6 & 2015 & 0 & NA & NA & NA & NA & NA & NA & NA\\\\\n\t Z. Blair       & 2271 & 9040 & 288 & 278 & 73.0 & 70.8 & 74 & 3 & 23.2 & ⋯ & 6 & 2015 & 0 & NA & NA & NA & NA & NA & NA & NA\\\\\n\t Z. Sucher      & 2271 & 4708 & 144 & 147 & 22.5 & 18.9 & 28 & 0 &  0.0 & ⋯ & 6 & 2015 & 0 & NA & NA & NA & NA & NA & NA & NA\\\\\n\\end{tabular}\n",
            "text/plain": [
              "      Player_initial_last tournament id player id hole_par strokes hole_DKP\n",
              "1     A. Ancer            401353224        9261   288      289     60.0    \n",
              "2     A. Hadwin           401353224        5548   288      286     72.5    \n",
              "3     A. Lahiri           401353224        4989   144      147     21.5    \n",
              "4     A. Long             401353224        6015   144      151     20.5    \n",
              "5     A. Noren            401353224        3832   144      148     23.5    \n",
              "6     A. Putnam           401353224        5502   144      151     19.5    \n",
              "7     A. Rai              401353224       10906   288      287     63.0    \n",
              "8     A. Schenk           401353224       10372   288      287     59.5    \n",
              "9     A. Scott            401353224         388   288      299     48.5    \n",
              "10    A. Smalley          401353224        9484   144      151     18.0    \n",
              "11    A. Svensson         401353224        9127   288      291     61.0    \n",
              "12    A. Wise             401353224       10577   288      279     72.0    \n",
              "13    B. DeChambeau       401353224       10046   144      153     16.0    \n",
              "14    B. Hagy             401353224        9584   144      155     19.0    \n",
              "15    B. Harman           401353224        1225   288      286     62.5    \n",
              "16    B. Hoag             401353224        4780   144      151     18.5    \n",
              "17    B. Horschel         401353224        1651   288      275     77.0    \n",
              "18    B. Hossler          401353224        6011   288      289     69.5    \n",
              "19    B. Snedeker         401353224        1222   288      295     48.0    \n",
              "20    B. Steele           401353224        3596   288      284     65.5    \n",
              "21    B. Wu               401353224     4355673   288      300     51.0    \n",
              "22    C. Champ            401353224       11098   144      149     25.0    \n",
              "23    C. Conners          401353224        9126   288      285     72.5    \n",
              "24    C. Davis            401353224       10863   288      294     51.0    \n",
              "25    C. Hoffman          401353224         205   144      147     26.0    \n",
              "26    C. Howell III       401353224         208   288      286     60.5    \n",
              "27    C. Kim              401353224        5724   288      299     46.0    \n",
              "28    C. Kirk             401353224        3449   288      294     60.0    \n",
              "29    C. Luck             401353224       10910   144      151     21.0    \n",
              "30    C. Morikawa         401353224       10592   144      148     21.0    \n",
              "⋮     ⋮                   ⋮             ⋮         ⋮        ⋮       ⋮       \n",
              "36835 R. Allenby          2271             5      288      277     78.0    \n",
              "36836 R. Armour           2271          1750      144      146     28.5    \n",
              "36837 R. Barnes           2271           801      144      147     21.0    \n",
              "36838 R. Garrigus         2271          1254      144      146     29.5    \n",
              "36839 R. Goosen           2271           167      288      276     85.0    \n",
              "36840 R. Ishikawa         2271          4047      288      280     79.5    \n",
              "36841 R. Knox             2271          4483      288      291     61.0    \n",
              "36842 R. Sterne           2271          1499      144      147     21.0    \n",
              "36843 R. Streb            2271          5619      288      283     67.5    \n",
              "36844 S. Appleby          2271            11      288      290     57.0    \n",
              "36845 S. Bae              2271          4015      288      273     86.5    \n",
              "36846 S. Bowditch         2271          1112      288      275     81.5    \n",
              "36847 S. Brown            2271          4591      288      278     74.5    \n",
              "36848 S. Langley          2271          5506      288      279     75.0    \n",
              "36849 S. O'Hair           2271          1359      144      143     28.0    \n",
              "36850 S. Piercy           2271          1037      144      147     25.0    \n",
              "36851 S. Saunders         2271          1613      288      293     46.0    \n",
              "36852 S. Stallings        2271          3378      288      281     71.5    \n",
              "36853 S. Stefani          2271          4643      288      286     63.5    \n",
              "36854 T. Finau            2271          2230      288      278     79.5    \n",
              "36855 T. Hoge             2271          6086      144      144     27.5    \n",
              "36856 T. Immelman         2271           215      288      285     64.0    \n",
              "36857 T. Merritt          2271          3970      144      149     21.0    \n",
              "36858 T. Van Aswegen      2271          3295      288      293     52.5    \n",
              "36859 T. Wilkinson        2271          1157      288      290     55.0    \n",
              "36860 V. Singh            2271           392      144      146     33.0    \n",
              "36861 W. Kim              2271          7082      144      150     18.5    \n",
              "36862 W. McGirt           2271          3532      216      215     44.5    \n",
              "36863 Z. Blair            2271          9040      288      278     73.0    \n",
              "36864 Z. Sucher           2271          4708      144      147     22.5    \n",
              "      hole_FDP hole_SDP streak_DKP streak_FDP ⋯ purse season no_cut Finish\n",
              "1     51.1     56       3           7.6       ⋯ 12    2022   0      T32   \n",
              "2     61.5     61       8          13.0       ⋯ 12    2022   0      T18   \n",
              "3     17.4     27       0           0.0       ⋯ 12    2022   0      CUT   \n",
              "4     13.6     17       0           0.4       ⋯ 12    2022   0      CUT   \n",
              "5     18.1     23       0           1.2       ⋯ 12    2022   0      CUT   \n",
              "6     12.0     19       0           6.0       ⋯ 12    2022   0      CUT   \n",
              "7     55.7     58       3           7.2       ⋯ 12    2022   0      T26   \n",
              "8     54.0     59       0           7.8       ⋯ 12    2022   0      T26   \n",
              "9     34.7     48       0           5.4       ⋯ 12    2022   0      T67   \n",
              "10    10.9     20       0           0.6       ⋯ 12    2022   0      CUT   \n",
              "11    48.9     54       3           2.0       ⋯ 12    2022   0      T45   \n",
              "12    69.3     72       0           8.6       ⋯ 12    2022   0      2     \n",
              "13     7.9     16       0           0.0       ⋯ 12    2022   0      NA    \n",
              "14     7.7     10       0           0.8       ⋯ 12    2022   0      CUT   \n",
              "15    56.1     61       0           7.8       ⋯ 12    2022   0      T18   \n",
              "16    13.0     17       0           0.2       ⋯ 12    2022   0      CUT   \n",
              "17    75.5     82       6          16.2       ⋯ 12    2022   0      1     \n",
              "18    58.2     57       0          12.4       ⋯ 12    2022   0      T32   \n",
              "19    37.7     48       0           1.0       ⋯ 12    2022   0      T60   \n",
              "20    60.7     63       0           7.6       ⋯ 12    2022   0      T10   \n",
              "21    35.0     38       3           2.4       ⋯ 12    2022   0      69    \n",
              "22    16.7     22       0           6.2       ⋯ 12    2022   0      CUT   \n",
              "23    60.2     65       3          19.4       ⋯ 12    2022   0      T13   \n",
              "24    37.2     54       0           0.8       ⋯ 12    2022   0      T53   \n",
              "25    20.7     24       0           5.6       ⋯ 12    2022   0      CUT   \n",
              "26    55.5     61       0           6.2       ⋯ 12    2022   0      T18   \n",
              "27    30.9     44       0           0.6       ⋯ 12    2022   0      T67   \n",
              "28    46.3     47       0          12.4       ⋯ 12    2022   0      T53   \n",
              "29    13.1     18       0           0.6       ⋯ 12    2022   0      CUT   \n",
              "30    15.4     26       0           1.2       ⋯ 12    2022   0      CUT   \n",
              "⋮     ⋮        ⋮        ⋮          ⋮          ⋱ ⋮     ⋮      ⋮      ⋮     \n",
              "36835 74.7     76       0          11.6       ⋯ 6     2015   0      NA    \n",
              "36836 23.3     25       3           6.6       ⋯ 6     2015   0      NA    \n",
              "36837 17.9     26       0           1.0       ⋯ 6     2015   0      NA    \n",
              "36838 23.5     27       0           1.0       ⋯ 6     2015   0      NA    \n",
              "36839 80.6     74       3          13.6       ⋯ 6     2015   0      NA    \n",
              "36840 72.1     71       6          14.0       ⋯ 6     2015   0      NA    \n",
              "36841 50.2     53       0          12.0       ⋯ 6     2015   0      NA    \n",
              "36842 17.9     26       3           1.2       ⋯ 6     2015   0      NA    \n",
              "36843 62.4     67       3          11.8       ⋯ 6     2015   0      NA    \n",
              "36844 49.0     54       3           7.8       ⋯ 6     2015   0      NA    \n",
              "36845 84.0     81       9          20.2       ⋯ 6     2015   0      NA    \n",
              "36846 78.8     79       0          17.4       ⋯ 6     2015   0      NA    \n",
              "36847 71.9     73       6          14.4       ⋯ 6     2015   0      NA    \n",
              "36848 71.5     70       3          19.2       ⋯ 6     2015   0      NA    \n",
              "36849 26.1     32       3           5.2       ⋯ 6     2015   0      NA    \n",
              "36850 19.1     26       0           0.8       ⋯ 6     2015   0      NA    \n",
              "36851 39.5     52       0           0.8       ⋯ 6     2015   0      NA    \n",
              "36852 66.0     71       0          12.6       ⋯ 6     2015   0      NA    \n",
              "36853 57.7     59       0          11.8       ⋯ 6     2015   0      NA    \n",
              "36854 74.6     74       6          19.0       ⋯ 6     2015   0      NA    \n",
              "36855 24.1     31       0           5.8       ⋯ 6     2015   0      NA    \n",
              "36856 58.3     64       0           7.6       ⋯ 6     2015   0      NA    \n",
              "36857 15.5     22       0           0.8       ⋯ 6     2015   0      NA    \n",
              "36858 43.3     52       0           7.2       ⋯ 6     2015   0      NA    \n",
              "36859 48.3     57       0           5.4       ⋯ 6     2015   0      NA    \n",
              "36860 26.4     26       0           0.6       ⋯ 6     2015   0      NA    \n",
              "36861 12.9     21       0           0.2       ⋯ 6     2015   0      NA    \n",
              "36862 40.6     45       0           6.2       ⋯ 6     2015   0      NA    \n",
              "36863 70.8     74       3          23.2       ⋯ 6     2015   0      NA    \n",
              "36864 18.9     28       0           0.0       ⋯ 6     2015   0      NA    \n",
              "      sg_putt sg_arg sg_app sg_ott sg_t2g sg_total\n",
              "1      0.20   -0.13  -0.08   0.86   0.65   0.85   \n",
              "2      0.36    0.75   0.31   0.18   1.24   1.60   \n",
              "3     -0.56    0.74  -1.09   0.37   0.02  -0.54   \n",
              "4     -1.46   -1.86  -0.02   0.80  -1.08  -2.54   \n",
              "5      0.53   -0.36  -1.39   0.19  -1.56  -1.04   \n",
              "6     -0.97    0.14  -2.02   0.31  -1.56  -2.54   \n",
              "7      2.05    0.74  -1.32  -0.12  -0.70   1.35   \n",
              "8     -0.96   -0.01   1.84   0.48   2.31   1.35   \n",
              "9     -0.82   -1.79   2.00  -1.04  -0.83  -1.65   \n",
              "10    -1.89   -0.71   0.71  -0.65  -0.65  -2.54   \n",
              "11     0.28   -0.02  -0.18   0.26   0.07   0.35   \n",
              "12     1.16    0.05   1.96   0.18   2.19   3.35   \n",
              "13       NA      NA     NA     NA     NA     NA   \n",
              "14    -0.94   -1.58  -1.41  -0.61  -3.60  -4.54   \n",
              "15     0.12    0.66   0.17   0.65   1.48   1.60   \n",
              "16    -0.93    0.21  -1.40  -0.42  -1.60  -2.54   \n",
              "17     0.95    1.31   1.25   0.84   3.39   4.35   \n",
              "18     1.94    0.43  -1.50  -0.03  -1.09   0.85   \n",
              "19     1.12    0.25  -1.10  -0.92  -1.77  -0.65   \n",
              "20     0.20   -0.22   1.26   0.86   1.90   2.10   \n",
              "21    -2.44    0.30   0.12   0.12   0.54  -1.90   \n",
              "22    -0.27    0.00  -1.63   0.36  -1.27  -1.54   \n",
              "23    -0.24   -0.47   2.03   0.53   2.09   1.85   \n",
              "24     0.19   -0.88   0.88  -0.60  -0.59  -0.40   \n",
              "25    -0.20   -0.47   0.14   0.00  -0.34  -0.54   \n",
              "26     0.52   -0.36   1.03   0.40   1.08   1.60   \n",
              "27    -1.40   -0.98   0.53   0.19  -0.26  -1.65   \n",
              "28    -0.02    0.45  -1.28   0.45  -0.38  -0.40   \n",
              "29    -3.48   -0.10   1.35  -0.30   0.94  -2.54   \n",
              "30    -0.41   -1.99   0.51   0.86  -0.62  -1.04   \n",
              "⋮     ⋮       ⋮      ⋮      ⋮      ⋮      ⋮       \n",
              "36835 NA      NA     NA     NA     NA     NA      \n",
              "36836 NA      NA     NA     NA     NA     NA      \n",
              "36837 NA      NA     NA     NA     NA     NA      \n",
              "36838 NA      NA     NA     NA     NA     NA      \n",
              "36839 NA      NA     NA     NA     NA     NA      \n",
              "36840 NA      NA     NA     NA     NA     NA      \n",
              "36841 NA      NA     NA     NA     NA     NA      \n",
              "36842 NA      NA     NA     NA     NA     NA      \n",
              "36843 NA      NA     NA     NA     NA     NA      \n",
              "36844 NA      NA     NA     NA     NA     NA      \n",
              "36845 NA      NA     NA     NA     NA     NA      \n",
              "36846 NA      NA     NA     NA     NA     NA      \n",
              "36847 NA      NA     NA     NA     NA     NA      \n",
              "36848 NA      NA     NA     NA     NA     NA      \n",
              "36849 NA      NA     NA     NA     NA     NA      \n",
              "36850 NA      NA     NA     NA     NA     NA      \n",
              "36851 NA      NA     NA     NA     NA     NA      \n",
              "36852 NA      NA     NA     NA     NA     NA      \n",
              "36853 NA      NA     NA     NA     NA     NA      \n",
              "36854 NA      NA     NA     NA     NA     NA      \n",
              "36855 NA      NA     NA     NA     NA     NA      \n",
              "36856 NA      NA     NA     NA     NA     NA      \n",
              "36857 NA      NA     NA     NA     NA     NA      \n",
              "36858 NA      NA     NA     NA     NA     NA      \n",
              "36859 NA      NA     NA     NA     NA     NA      \n",
              "36860 NA      NA     NA     NA     NA     NA      \n",
              "36861 NA      NA     NA     NA     NA     NA      \n",
              "36862 NA      NA     NA     NA     NA     NA      \n",
              "36863 NA      NA     NA     NA     NA     NA      \n",
              "36864 NA      NA     NA     NA     NA     NA      "
            ]
          },
          "metadata": {}
        }
      ]
    },
    {
      "cell_type": "code",
      "source": [
        "pga_data <- pga_cut %>%  filter(!weekdays(arrival_date) %in% c('Saturday', 'Sunday')) %>%\n",
        "                   mutate(spend_weekend = if_else(stays_in_weekend_nights > 0, TRUE, FALSE)) %>%\n",
        "                   mutate(spend_weekend = factor(spend_weekend, levels = c(TRUE, FALSE))) %>%\n",
        "                   select(-stays_in_weekend_nights)"
      ],
      "metadata": {
        "id": "nj_TlhCZdWLH"
      },
      "execution_count": null,
      "outputs": []
    },
    {
      "cell_type": "code",
      "source": [
        "pga_cut <- pga %>% mutate(made_cut = if_else(Finish == \"CUT\", 0, 1)) %>% filter(!is.na(Finish)) %>% \n",
        "  select(-c(`Unnamed: 2`, `Unnamed: 3`, `Unnamed: 4`, date, Player_initial_last)) %>% drop_na()\n",
        "\n",
        "pga_cut #%>% select(made_cut)\n",
        "\n",
        "pga_cut$made_cut <- as.factor(pga_cut$made_cut)\n",
        "\n",
        "library(forcats)\n",
        "#pga_cut <- pga_cut %>% mutate(Player = fct_drop(Player_initial_last))"
      ],
      "metadata": {
        "colab": {
          "base_uri": "https://localhost:8080/",
          "height": 1000
        },
        "id": "jKPvsAqYnOGx",
        "outputId": "e77eeba1-c41a-45a0-b067-dbf5f17dd99e"
      },
      "execution_count": 159,
      "outputs": [
        {
          "output_type": "display_data",
          "data": {
            "text/html": [
              "<table class=\"dataframe\">\n",
              "<caption>A tibble: 16291 × 32</caption>\n",
              "<thead>\n",
              "\t<tr><th scope=col>tournament id</th><th scope=col>player id</th><th scope=col>hole_par</th><th scope=col>strokes</th><th scope=col>hole_DKP</th><th scope=col>hole_FDP</th><th scope=col>hole_SDP</th><th scope=col>streak_DKP</th><th scope=col>streak_FDP</th><th scope=col>streak_SDP</th><th scope=col>⋯</th><th scope=col>purse</th><th scope=col>season</th><th scope=col>no_cut</th><th scope=col>Finish</th><th scope=col>sg_putt</th><th scope=col>sg_arg</th><th scope=col>sg_app</th><th scope=col>sg_ott</th><th scope=col>sg_t2g</th><th scope=col>sg_total</th></tr>\n",
              "\t<tr><th scope=col>&lt;dbl&gt;</th><th scope=col>&lt;dbl&gt;</th><th scope=col>&lt;dbl&gt;</th><th scope=col>&lt;dbl&gt;</th><th scope=col>&lt;dbl&gt;</th><th scope=col>&lt;dbl&gt;</th><th scope=col>&lt;dbl&gt;</th><th scope=col>&lt;dbl&gt;</th><th scope=col>&lt;dbl&gt;</th><th scope=col>&lt;dbl&gt;</th><th scope=col>⋯</th><th scope=col>&lt;dbl&gt;</th><th scope=col>&lt;dbl&gt;</th><th scope=col>&lt;dbl&gt;</th><th scope=col>&lt;chr&gt;</th><th scope=col>&lt;dbl&gt;</th><th scope=col>&lt;dbl&gt;</th><th scope=col>&lt;dbl&gt;</th><th scope=col>&lt;dbl&gt;</th><th scope=col>&lt;dbl&gt;</th><th scope=col>&lt;dbl&gt;</th></tr>\n",
              "</thead>\n",
              "<tbody>\n",
              "\t<tr><td>401353224</td><td>   9261</td><td>288</td><td>289</td><td>60.0</td><td>51.1</td><td>56</td><td>3</td><td> 7.6</td><td>3</td><td>⋯</td><td>12</td><td>2022</td><td>0</td><td>T32</td><td> 0.20</td><td>-0.13</td><td>-0.08</td><td> 0.86</td><td> 0.65</td><td> 0.85</td></tr>\n",
              "\t<tr><td>401353224</td><td>   5548</td><td>288</td><td>286</td><td>72.5</td><td>61.5</td><td>61</td><td>8</td><td>13.0</td><td>3</td><td>⋯</td><td>12</td><td>2022</td><td>0</td><td>T18</td><td> 0.36</td><td> 0.75</td><td> 0.31</td><td> 0.18</td><td> 1.24</td><td> 1.60</td></tr>\n",
              "\t<tr><td>401353224</td><td>  10906</td><td>288</td><td>287</td><td>63.0</td><td>55.7</td><td>58</td><td>3</td><td> 7.2</td><td>3</td><td>⋯</td><td>12</td><td>2022</td><td>0</td><td>T26</td><td> 2.05</td><td> 0.74</td><td>-1.32</td><td>-0.12</td><td>-0.70</td><td> 1.35</td></tr>\n",
              "\t<tr><td>401353224</td><td>  10372</td><td>288</td><td>287</td><td>59.5</td><td>54.0</td><td>59</td><td>0</td><td> 7.8</td><td>0</td><td>⋯</td><td>12</td><td>2022</td><td>0</td><td>T26</td><td>-0.96</td><td>-0.01</td><td> 1.84</td><td> 0.48</td><td> 2.31</td><td> 1.35</td></tr>\n",
              "\t<tr><td>401353224</td><td>    388</td><td>288</td><td>299</td><td>48.5</td><td>34.7</td><td>48</td><td>0</td><td> 5.4</td><td>0</td><td>⋯</td><td>12</td><td>2022</td><td>0</td><td>T67</td><td>-0.82</td><td>-1.79</td><td> 2.00</td><td>-1.04</td><td>-0.83</td><td>-1.65</td></tr>\n",
              "\t<tr><td>401353224</td><td>   9127</td><td>288</td><td>291</td><td>61.0</td><td>48.9</td><td>54</td><td>3</td><td> 2.0</td><td>3</td><td>⋯</td><td>12</td><td>2022</td><td>0</td><td>T45</td><td> 0.28</td><td>-0.02</td><td>-0.18</td><td> 0.26</td><td> 0.07</td><td> 0.35</td></tr>\n",
              "\t<tr><td>401353224</td><td>  10577</td><td>288</td><td>279</td><td>72.0</td><td>69.3</td><td>72</td><td>0</td><td> 8.6</td><td>0</td><td>⋯</td><td>12</td><td>2022</td><td>0</td><td>2  </td><td> 1.16</td><td> 0.05</td><td> 1.96</td><td> 0.18</td><td> 2.19</td><td> 3.35</td></tr>\n",
              "\t<tr><td>401353224</td><td>   1225</td><td>288</td><td>286</td><td>62.5</td><td>56.1</td><td>61</td><td>0</td><td> 7.8</td><td>0</td><td>⋯</td><td>12</td><td>2022</td><td>0</td><td>T18</td><td> 0.12</td><td> 0.66</td><td> 0.17</td><td> 0.65</td><td> 1.48</td><td> 1.60</td></tr>\n",
              "\t<tr><td>401353224</td><td>   1651</td><td>288</td><td>275</td><td>77.0</td><td>75.5</td><td>82</td><td>6</td><td>16.2</td><td>8</td><td>⋯</td><td>12</td><td>2022</td><td>0</td><td>1  </td><td> 0.95</td><td> 1.31</td><td> 1.25</td><td> 0.84</td><td> 3.39</td><td> 4.35</td></tr>\n",
              "\t<tr><td>401353224</td><td>   6011</td><td>288</td><td>289</td><td>69.5</td><td>58.2</td><td>57</td><td>0</td><td>12.4</td><td>0</td><td>⋯</td><td>12</td><td>2022</td><td>0</td><td>T32</td><td> 1.94</td><td> 0.43</td><td>-1.50</td><td>-0.03</td><td>-1.09</td><td> 0.85</td></tr>\n",
              "\t<tr><td>401353224</td><td>   1222</td><td>288</td><td>295</td><td>48.0</td><td>37.7</td><td>48</td><td>0</td><td> 1.0</td><td>0</td><td>⋯</td><td>12</td><td>2022</td><td>0</td><td>T60</td><td> 1.12</td><td> 0.25</td><td>-1.10</td><td>-0.92</td><td>-1.77</td><td>-0.65</td></tr>\n",
              "\t<tr><td>401353224</td><td>   3596</td><td>288</td><td>284</td><td>65.5</td><td>60.7</td><td>63</td><td>0</td><td> 7.6</td><td>0</td><td>⋯</td><td>12</td><td>2022</td><td>0</td><td>T10</td><td> 0.20</td><td>-0.22</td><td> 1.26</td><td> 0.86</td><td> 1.90</td><td> 2.10</td></tr>\n",
              "\t<tr><td>401353224</td><td>4355673</td><td>288</td><td>300</td><td>51.0</td><td>35.0</td><td>38</td><td>3</td><td> 2.4</td><td>3</td><td>⋯</td><td>12</td><td>2022</td><td>0</td><td>69 </td><td>-2.44</td><td> 0.30</td><td> 0.12</td><td> 0.12</td><td> 0.54</td><td>-1.90</td></tr>\n",
              "\t<tr><td>401353224</td><td>   9126</td><td>288</td><td>285</td><td>72.5</td><td>60.2</td><td>65</td><td>3</td><td>19.4</td><td>3</td><td>⋯</td><td>12</td><td>2022</td><td>0</td><td>T13</td><td>-0.24</td><td>-0.47</td><td> 2.03</td><td> 0.53</td><td> 2.09</td><td> 1.85</td></tr>\n",
              "\t<tr><td>401353224</td><td>  10863</td><td>288</td><td>294</td><td>51.0</td><td>37.2</td><td>54</td><td>0</td><td> 0.8</td><td>0</td><td>⋯</td><td>12</td><td>2022</td><td>0</td><td>T53</td><td> 0.19</td><td>-0.88</td><td> 0.88</td><td>-0.60</td><td>-0.59</td><td>-0.40</td></tr>\n",
              "\t<tr><td>401353224</td><td>    208</td><td>288</td><td>286</td><td>60.5</td><td>55.5</td><td>61</td><td>0</td><td> 6.2</td><td>0</td><td>⋯</td><td>12</td><td>2022</td><td>0</td><td>T18</td><td> 0.52</td><td>-0.36</td><td> 1.03</td><td> 0.40</td><td> 1.08</td><td> 1.60</td></tr>\n",
              "\t<tr><td>401353224</td><td>   5724</td><td>288</td><td>299</td><td>46.0</td><td>30.9</td><td>44</td><td>0</td><td> 0.6</td><td>0</td><td>⋯</td><td>12</td><td>2022</td><td>0</td><td>T67</td><td>-1.40</td><td>-0.98</td><td> 0.53</td><td> 0.19</td><td>-0.26</td><td>-1.65</td></tr>\n",
              "\t<tr><td>401353224</td><td>   3449</td><td>288</td><td>294</td><td>60.0</td><td>46.3</td><td>47</td><td>0</td><td>12.4</td><td>0</td><td>⋯</td><td>12</td><td>2022</td><td>0</td><td>T53</td><td>-0.02</td><td> 0.45</td><td>-1.28</td><td> 0.45</td><td>-0.38</td><td>-0.40</td></tr>\n",
              "\t<tr><td>401353224</td><td>   5532</td><td>288</td><td>296</td><td>48.0</td><td>37.8</td><td>44</td><td>3</td><td> 6.4</td><td>3</td><td>⋯</td><td>12</td><td>2022</td><td>0</td><td>T64</td><td> 0.88</td><td>-0.44</td><td>-0.80</td><td>-0.55</td><td>-1.78</td><td>-0.90</td></tr>\n",
              "\t<tr><td>401353224</td><td>   6017</td><td>288</td><td>294</td><td>53.0</td><td>45.3</td><td>53</td><td>6</td><td> 7.6</td><td>6</td><td>⋯</td><td>12</td><td>2022</td><td>0</td><td>T53</td><td>-0.36</td><td> 0.21</td><td> 0.79</td><td>-1.05</td><td>-0.04</td><td>-0.40</td></tr>\n",
              "\t<tr><td>401353224</td><td>   9131</td><td>288</td><td>285</td><td>68.0</td><td>59.5</td><td>64</td><td>0</td><td> 6.2</td><td>0</td><td>⋯</td><td>12</td><td>2022</td><td>0</td><td>T13</td><td> 0.75</td><td> 1.38</td><td> 0.17</td><td>-0.49</td><td> 1.01</td><td> 1.76</td></tr>\n",
              "\t<tr><td>401353224</td><td>   4645</td><td>288</td><td>292</td><td>52.5</td><td>43.3</td><td>53</td><td>0</td><td> 6.0</td><td>0</td><td>⋯</td><td>12</td><td>2022</td><td>0</td><td>T48</td><td>-0.18</td><td> 0.35</td><td>-0.67</td><td> 0.59</td><td> 0.28</td><td> 0.10</td></tr>\n",
              "\t<tr><td>401353224</td><td>   1264</td><td>288</td><td>294</td><td>41.0</td><td>34.2</td><td>54</td><td>0</td><td> 1.2</td><td>0</td><td>⋯</td><td>12</td><td>2022</td><td>0</td><td>T53</td><td>-0.71</td><td> 0.52</td><td> 0.01</td><td>-0.22</td><td> 0.31</td><td>-0.40</td></tr>\n",
              "\t<tr><td>401353224</td><td>4425906</td><td>288</td><td>295</td><td>54.5</td><td>42.6</td><td>52</td><td>0</td><td> 6.0</td><td>0</td><td>⋯</td><td>12</td><td>2022</td><td>0</td><td>T60</td><td>-0.68</td><td> 0.32</td><td>-1.18</td><td> 0.89</td><td> 0.03</td><td>-0.65</td></tr>\n",
              "\t<tr><td>401353224</td><td>   9025</td><td>288</td><td>282</td><td>70.0</td><td>65.0</td><td>68</td><td>0</td><td> 7.6</td><td>0</td><td>⋯</td><td>12</td><td>2022</td><td>0</td><td>T5 </td><td> 1.65</td><td>-0.50</td><td> 1.34</td><td> 0.10</td><td> 0.95</td><td> 2.60</td></tr>\n",
              "\t<tr><td>401353224</td><td>  11456</td><td>288</td><td>295</td><td>47.0</td><td>38.6</td><td>49</td><td>3</td><td> 7.6</td><td>3</td><td>⋯</td><td>12</td><td>2022</td><td>0</td><td>T60</td><td>-0.60</td><td>-1.17</td><td> 0.41</td><td> 0.71</td><td>-0.05</td><td>-0.65</td></tr>\n",
              "\t<tr><td>401353224</td><td>   5574</td><td>288</td><td>292</td><td>54.0</td><td>44.4</td><td>52</td><td>0</td><td> 7.4</td><td>0</td><td>⋯</td><td>12</td><td>2022</td><td>0</td><td>T48</td><td> 0.09</td><td>-0.80</td><td> 1.05</td><td>-0.24</td><td> 0.01</td><td> 0.10</td></tr>\n",
              "\t<tr><td>401353224</td><td>   6701</td><td>288</td><td>290</td><td>57.5</td><td>48.5</td><td>55</td><td>3</td><td>11.8</td><td>3</td><td>⋯</td><td>12</td><td>2022</td><td>0</td><td>T37</td><td> 0.46</td><td> 0.27</td><td> 0.31</td><td>-0.43</td><td> 0.14</td><td> 0.60</td></tr>\n",
              "\t<tr><td>401353224</td><td>  10054</td><td>288</td><td>282</td><td>66.0</td><td>62.6</td><td>68</td><td>0</td><td>12.8</td><td>0</td><td>⋯</td><td>12</td><td>2022</td><td>0</td><td>T5 </td><td> 1.21</td><td> 1.76</td><td> 0.53</td><td>-0.71</td><td> 1.55</td><td> 2.76</td></tr>\n",
              "\t<tr><td>401353224</td><td>  10058</td><td>288</td><td>285</td><td>64.0</td><td>58.3</td><td>64</td><td>3</td><td> 6.8</td><td>3</td><td>⋯</td><td>12</td><td>2022</td><td>0</td><td>T13</td><td> 0.73</td><td> 0.12</td><td> 1.28</td><td>-0.29</td><td> 1.12</td><td> 1.85</td></tr>\n",
              "\t<tr><td>⋮</td><td>⋮</td><td>⋮</td><td>⋮</td><td>⋮</td><td>⋮</td><td>⋮</td><td>⋮</td><td>⋮</td><td>⋮</td><td>⋱</td><td>⋮</td><td>⋮</td><td>⋮</td><td>⋮</td><td>⋮</td><td>⋮</td><td>⋮</td><td>⋮</td><td>⋮</td><td>⋮</td></tr>\n",
              "\t<tr><td>2260</td><td>2552</td><td>284</td><td>279</td><td>65.5</td><td>60.6</td><td>67</td><td> 3</td><td> 7.2</td><td> 3</td><td>⋯</td><td>6.2</td><td>2015</td><td>0</td><td>T56</td><td> 0.45</td><td> 0.22</td><td>-1.43</td><td> 0.51</td><td>-0.70</td><td>-0.25</td></tr>\n",
              "\t<tr><td>2260</td><td>1734</td><td>284</td><td>279</td><td>73.0</td><td>64.7</td><td>66</td><td> 3</td><td>13.8</td><td> 3</td><td>⋯</td><td>6.2</td><td>2015</td><td>0</td><td>T56</td><td>-0.21</td><td> 0.13</td><td>-1.08</td><td> 0.91</td><td>-0.04</td><td>-0.25</td></tr>\n",
              "\t<tr><td>2260</td><td> 860</td><td>284</td><td>274</td><td>76.5</td><td>71.1</td><td>77</td><td> 0</td><td>11.8</td><td> 0</td><td>⋯</td><td>6.2</td><td>2015</td><td>0</td><td>T28</td><td>-1.28</td><td>-0.16</td><td> 1.74</td><td> 0.71</td><td> 2.28</td><td> 1.00</td></tr>\n",
              "\t<tr><td>2260</td><td>1077</td><td>284</td><td>266</td><td>95.5</td><td>92.9</td><td>83</td><td> 6</td><td>22.6</td><td> 6</td><td>⋯</td><td>6.2</td><td>2015</td><td>0</td><td>2  </td><td> 1.18</td><td> 0.05</td><td> 1.22</td><td> 0.55</td><td> 1.82</td><td> 3.00</td></tr>\n",
              "\t<tr><td>2260</td><td>3793</td><td>284</td><td>278</td><td>66.0</td><td>62.6</td><td>68</td><td> 3</td><td>12.0</td><td> 3</td><td>⋯</td><td>6.2</td><td>2015</td><td>0</td><td>T54</td><td>-0.67</td><td> 0.97</td><td>-0.03</td><td>-0.28</td><td> 0.67</td><td> 0.00</td></tr>\n",
              "\t<tr><td>2260</td><td>1637</td><td>284</td><td>279</td><td>67.5</td><td>62.4</td><td>67</td><td> 3</td><td> 7.2</td><td> 3</td><td>⋯</td><td>6.2</td><td>2015</td><td>0</td><td>T56</td><td>-1.05</td><td> 0.73</td><td> 0.52</td><td>-0.44</td><td> 0.80</td><td>-0.25</td></tr>\n",
              "\t<tr><td>2260</td><td>2571</td><td>284</td><td>273</td><td>80.5</td><td>76.2</td><td>73</td><td> 3</td><td>18.8</td><td> 4</td><td>⋯</td><td>6.2</td><td>2015</td><td>0</td><td>T18</td><td> 0.22</td><td>-0.28</td><td> 1.10</td><td> 0.21</td><td> 1.03</td><td> 1.25</td></tr>\n",
              "\t<tr><td>2260</td><td>3792</td><td>284</td><td>279</td><td>79.0</td><td>70.1</td><td>69</td><td> 3</td><td>17.2</td><td> 4</td><td>⋯</td><td>6.2</td><td>2015</td><td>0</td><td>T56</td><td> 0.73</td><td>-0.37</td><td>-1.34</td><td> 0.74</td><td>-0.98</td><td>-0.25</td></tr>\n",
              "\t<tr><td>2260</td><td>1042</td><td>284</td><td>272</td><td>69.0</td><td>69.4</td><td>82</td><td>11</td><td>15.8</td><td> 8</td><td>⋯</td><td>6.2</td><td>2015</td><td>0</td><td>T16</td><td> 1.19</td><td> 0.02</td><td> 0.55</td><td>-0.25</td><td> 0.31</td><td> 1.50</td></tr>\n",
              "\t<tr><td>2260</td><td> 186</td><td>142</td><td>139</td><td>31.5</td><td>30.2</td><td>35</td><td> 0</td><td> 1.2</td><td> 0</td><td>⋯</td><td>6.2</td><td>2015</td><td>0</td><td>T75</td><td> 0.44</td><td> 0.48</td><td>-0.98</td><td>-0.79</td><td>-1.28</td><td>-0.84</td></tr>\n",
              "\t<tr><td>2260</td><td>4047</td><td>284</td><td>274</td><td>73.0</td><td>70.8</td><td>74</td><td> 6</td><td>18.8</td><td> 6</td><td>⋯</td><td>6.2</td><td>2015</td><td>0</td><td>T28</td><td>-1.04</td><td> 0.08</td><td> 1.91</td><td> 0.05</td><td> 2.04</td><td> 1.00</td></tr>\n",
              "\t<tr><td>2260</td><td>4483</td><td>284</td><td>268</td><td>88.5</td><td>85.9</td><td>81</td><td> 9</td><td>30.0</td><td>10</td><td>⋯</td><td>6.2</td><td>2015</td><td>0</td><td>3  </td><td> 1.00</td><td> 1.50</td><td>-0.28</td><td> 0.28</td><td> 1.50</td><td> 2.50</td></tr>\n",
              "\t<tr><td>2260</td><td>5619</td><td>284</td><td>271</td><td>80.0</td><td>77.7</td><td>80</td><td> 3</td><td>19.2</td><td> 3</td><td>⋯</td><td>6.2</td><td>2015</td><td>0</td><td>T10</td><td> 0.52</td><td> 0.30</td><td>-0.34</td><td> 1.27</td><td> 1.23</td><td> 1.75</td></tr>\n",
              "\t<tr><td>2260</td><td>  11</td><td>142</td><td>138</td><td>32.5</td><td>31.7</td><td>37</td><td> 3</td><td>11.8</td><td> 4</td><td>⋯</td><td>6.2</td><td>2015</td><td>0</td><td>79 </td><td>-1.00</td><td> 0.41</td><td>-2.16</td><td>-0.10</td><td>-1.84</td><td>-2.84</td></tr>\n",
              "\t<tr><td>2260</td><td>4591</td><td>284</td><td>271</td><td>87.0</td><td>82.3</td><td>78</td><td> 0</td><td>16.4</td><td> 0</td><td>⋯</td><td>6.2</td><td>2015</td><td>0</td><td>T10</td><td> 0.52</td><td> 0.04</td><td> 0.94</td><td> 0.25</td><td> 1.23</td><td> 1.75</td></tr>\n",
              "\t<tr><td>2260</td><td>  78</td><td>284</td><td>275</td><td>83.0</td><td>76.3</td><td>73</td><td> 9</td><td>20.0</td><td>10</td><td>⋯</td><td>6.2</td><td>2015</td><td>0</td><td>T33</td><td>-0.83</td><td>-0.53</td><td> 1.78</td><td> 0.32</td><td> 1.58</td><td> 0.75</td></tr>\n",
              "\t<tr><td>2260</td><td>1359</td><td>284</td><td>280</td><td>70.0</td><td>63.9</td><td>63</td><td> 6</td><td>18.2</td><td> 7</td><td>⋯</td><td>6.2</td><td>2015</td><td>0</td><td>T63</td><td> 1.01</td><td>-0.08</td><td>-0.79</td><td>-0.64</td><td>-1.51</td><td>-0.50</td></tr>\n",
              "\t<tr><td>2260</td><td>1037</td><td>284</td><td>270</td><td>85.0</td><td>81.8</td><td>78</td><td> 8</td><td>19.0</td><td> 3</td><td>⋯</td><td>6.2</td><td>2015</td><td>0</td><td>T7 </td><td> 0.60</td><td> 0.75</td><td> 0.17</td><td> 0.48</td><td> 1.40</td><td> 2.00</td></tr>\n",
              "\t<tr><td>2260</td><td>1613</td><td>284</td><td>275</td><td>74.5</td><td>70.6</td><td>73</td><td> 3</td><td>18.0</td><td> 3</td><td>⋯</td><td>6.2</td><td>2015</td><td>0</td><td>T33</td><td>-0.06</td><td>-0.07</td><td> 0.45</td><td> 0.43</td><td> 0.81</td><td> 0.75</td></tr>\n",
              "\t<tr><td>2260</td><td>2230</td><td>284</td><td>270</td><td>90.0</td><td>85.7</td><td>79</td><td> 6</td><td>25.0</td><td> 6</td><td>⋯</td><td>6.2</td><td>2015</td><td>0</td><td>T7 </td><td>-0.21</td><td> 0.08</td><td> 1.12</td><td> 1.00</td><td> 2.21</td><td> 2.00</td></tr>\n",
              "\t<tr><td>2260</td><td>1798</td><td>142</td><td>138</td><td>36.0</td><td>33.4</td><td>36</td><td> 6</td><td>11.8</td><td> 7</td><td>⋯</td><td>6.2</td><td>2015</td><td>0</td><td>T72</td><td> 1.94</td><td>-1.76</td><td> 0.21</td><td>-0.90</td><td>-2.45</td><td>-0.51</td></tr>\n",
              "\t<tr><td>2260</td><td>6086</td><td>284</td><td>281</td><td>64.0</td><td>57.1</td><td>64</td><td> 3</td><td> 8.4</td><td> 3</td><td>⋯</td><td>6.2</td><td>2015</td><td>0</td><td>T67</td><td>-0.38</td><td>-0.72</td><td> 0.09</td><td> 0.26</td><td>-0.37</td><td>-0.75</td></tr>\n",
              "\t<tr><td>2260</td><td>3970</td><td>284</td><td>277</td><td>80.5</td><td>72.6</td><td>65</td><td> 3</td><td>14.2</td><td> 3</td><td>⋯</td><td>6.2</td><td>2015</td><td>0</td><td>T49</td><td> 1.05</td><td>-0.53</td><td>-0.70</td><td> 0.44</td><td>-0.80</td><td> 0.25</td></tr>\n",
              "\t<tr><td>2260</td><td> 392</td><td>284</td><td>277</td><td>75.0</td><td>69.1</td><td>66</td><td> 3</td><td>19.8</td><td> 3</td><td>⋯</td><td>6.2</td><td>2015</td><td>0</td><td>T49</td><td> 0.43</td><td> 0.00</td><td>-0.19</td><td> 0.01</td><td>-0.18</td><td> 0.25</td></tr>\n",
              "\t<tr><td>2260</td><td>5560</td><td>284</td><td>279</td><td>70.5</td><td>63.4</td><td>65</td><td> 3</td><td>18.8</td><td> 3</td><td>⋯</td><td>6.2</td><td>2015</td><td>0</td><td>T56</td><td>-0.26</td><td> 0.24</td><td> 0.08</td><td>-0.31</td><td> 0.01</td><td>-0.25</td></tr>\n",
              "\t<tr><td>2260</td><td>7082</td><td>284</td><td>277</td><td>66.0</td><td>62.5</td><td>72</td><td> 6</td><td>18.6</td><td> 7</td><td>⋯</td><td>6.2</td><td>2015</td><td>0</td><td>T49</td><td> 0.66</td><td>-0.27</td><td> 0.26</td><td>-0.39</td><td>-0.41</td><td> 0.25</td></tr>\n",
              "\t<tr><td>2260</td><td>3532</td><td>284</td><td>275</td><td>70.5</td><td>68.2</td><td>73</td><td> 0</td><td> 7.4</td><td> 0</td><td>⋯</td><td>6.2</td><td>2015</td><td>0</td><td>T33</td><td> 0.09</td><td> 0.36</td><td>-0.37</td><td> 0.66</td><td> 0.66</td><td> 0.75</td></tr>\n",
              "\t<tr><td>2260</td><td>6185</td><td>284</td><td>276</td><td>72.0</td><td>66.8</td><td>72</td><td> 6</td><td>19.2</td><td> 7</td><td>⋯</td><td>6.2</td><td>2015</td><td>0</td><td>T42</td><td> 0.55</td><td> 0.04</td><td> 0.54</td><td>-0.64</td><td>-0.05</td><td> 0.50</td></tr>\n",
              "\t<tr><td>2260</td><td>1614</td><td>284</td><td>269</td><td>86.5</td><td>84.0</td><td>81</td><td>14</td><td>24.4</td><td>10</td><td>⋯</td><td>6.2</td><td>2015</td><td>0</td><td>T4 </td><td>-0.02</td><td> 0.76</td><td> 1.23</td><td> 0.28</td><td> 2.27</td><td> 2.25</td></tr>\n",
              "\t<tr><td>2260</td><td>9040</td><td>142</td><td>140</td><td>29.0</td><td>27.6</td><td>34</td><td> 0</td><td> 0.0</td><td> 0</td><td>⋯</td><td>6.2</td><td>2015</td><td>0</td><td>T75</td><td>-0.22</td><td> 0.51</td><td>-0.56</td><td>-0.58</td><td>-0.63</td><td>-0.84</td></tr>\n",
              "</tbody>\n",
              "</table>\n"
            ],
            "text/markdown": "\nA tibble: 16291 × 32\n\n| tournament id &lt;dbl&gt; | player id &lt;dbl&gt; | hole_par &lt;dbl&gt; | strokes &lt;dbl&gt; | hole_DKP &lt;dbl&gt; | hole_FDP &lt;dbl&gt; | hole_SDP &lt;dbl&gt; | streak_DKP &lt;dbl&gt; | streak_FDP &lt;dbl&gt; | streak_SDP &lt;dbl&gt; | ⋯ ⋯ | purse &lt;dbl&gt; | season &lt;dbl&gt; | no_cut &lt;dbl&gt; | Finish &lt;chr&gt; | sg_putt &lt;dbl&gt; | sg_arg &lt;dbl&gt; | sg_app &lt;dbl&gt; | sg_ott &lt;dbl&gt; | sg_t2g &lt;dbl&gt; | sg_total &lt;dbl&gt; |\n|---|---|---|---|---|---|---|---|---|---|---|---|---|---|---|---|---|---|---|---|---|\n| 401353224 |    9261 | 288 | 289 | 60.0 | 51.1 | 56 | 3 |  7.6 | 3 | ⋯ | 12 | 2022 | 0 | T32 |  0.20 | -0.13 | -0.08 |  0.86 |  0.65 |  0.85 |\n| 401353224 |    5548 | 288 | 286 | 72.5 | 61.5 | 61 | 8 | 13.0 | 3 | ⋯ | 12 | 2022 | 0 | T18 |  0.36 |  0.75 |  0.31 |  0.18 |  1.24 |  1.60 |\n| 401353224 |   10906 | 288 | 287 | 63.0 | 55.7 | 58 | 3 |  7.2 | 3 | ⋯ | 12 | 2022 | 0 | T26 |  2.05 |  0.74 | -1.32 | -0.12 | -0.70 |  1.35 |\n| 401353224 |   10372 | 288 | 287 | 59.5 | 54.0 | 59 | 0 |  7.8 | 0 | ⋯ | 12 | 2022 | 0 | T26 | -0.96 | -0.01 |  1.84 |  0.48 |  2.31 |  1.35 |\n| 401353224 |     388 | 288 | 299 | 48.5 | 34.7 | 48 | 0 |  5.4 | 0 | ⋯ | 12 | 2022 | 0 | T67 | -0.82 | -1.79 |  2.00 | -1.04 | -0.83 | -1.65 |\n| 401353224 |    9127 | 288 | 291 | 61.0 | 48.9 | 54 | 3 |  2.0 | 3 | ⋯ | 12 | 2022 | 0 | T45 |  0.28 | -0.02 | -0.18 |  0.26 |  0.07 |  0.35 |\n| 401353224 |   10577 | 288 | 279 | 72.0 | 69.3 | 72 | 0 |  8.6 | 0 | ⋯ | 12 | 2022 | 0 | 2   |  1.16 |  0.05 |  1.96 |  0.18 |  2.19 |  3.35 |\n| 401353224 |    1225 | 288 | 286 | 62.5 | 56.1 | 61 | 0 |  7.8 | 0 | ⋯ | 12 | 2022 | 0 | T18 |  0.12 |  0.66 |  0.17 |  0.65 |  1.48 |  1.60 |\n| 401353224 |    1651 | 288 | 275 | 77.0 | 75.5 | 82 | 6 | 16.2 | 8 | ⋯ | 12 | 2022 | 0 | 1   |  0.95 |  1.31 |  1.25 |  0.84 |  3.39 |  4.35 |\n| 401353224 |    6011 | 288 | 289 | 69.5 | 58.2 | 57 | 0 | 12.4 | 0 | ⋯ | 12 | 2022 | 0 | T32 |  1.94 |  0.43 | -1.50 | -0.03 | -1.09 |  0.85 |\n| 401353224 |    1222 | 288 | 295 | 48.0 | 37.7 | 48 | 0 |  1.0 | 0 | ⋯ | 12 | 2022 | 0 | T60 |  1.12 |  0.25 | -1.10 | -0.92 | -1.77 | -0.65 |\n| 401353224 |    3596 | 288 | 284 | 65.5 | 60.7 | 63 | 0 |  7.6 | 0 | ⋯ | 12 | 2022 | 0 | T10 |  0.20 | -0.22 |  1.26 |  0.86 |  1.90 |  2.10 |\n| 401353224 | 4355673 | 288 | 300 | 51.0 | 35.0 | 38 | 3 |  2.4 | 3 | ⋯ | 12 | 2022 | 0 | 69  | -2.44 |  0.30 |  0.12 |  0.12 |  0.54 | -1.90 |\n| 401353224 |    9126 | 288 | 285 | 72.5 | 60.2 | 65 | 3 | 19.4 | 3 | ⋯ | 12 | 2022 | 0 | T13 | -0.24 | -0.47 |  2.03 |  0.53 |  2.09 |  1.85 |\n| 401353224 |   10863 | 288 | 294 | 51.0 | 37.2 | 54 | 0 |  0.8 | 0 | ⋯ | 12 | 2022 | 0 | T53 |  0.19 | -0.88 |  0.88 | -0.60 | -0.59 | -0.40 |\n| 401353224 |     208 | 288 | 286 | 60.5 | 55.5 | 61 | 0 |  6.2 | 0 | ⋯ | 12 | 2022 | 0 | T18 |  0.52 | -0.36 |  1.03 |  0.40 |  1.08 |  1.60 |\n| 401353224 |    5724 | 288 | 299 | 46.0 | 30.9 | 44 | 0 |  0.6 | 0 | ⋯ | 12 | 2022 | 0 | T67 | -1.40 | -0.98 |  0.53 |  0.19 | -0.26 | -1.65 |\n| 401353224 |    3449 | 288 | 294 | 60.0 | 46.3 | 47 | 0 | 12.4 | 0 | ⋯ | 12 | 2022 | 0 | T53 | -0.02 |  0.45 | -1.28 |  0.45 | -0.38 | -0.40 |\n| 401353224 |    5532 | 288 | 296 | 48.0 | 37.8 | 44 | 3 |  6.4 | 3 | ⋯ | 12 | 2022 | 0 | T64 |  0.88 | -0.44 | -0.80 | -0.55 | -1.78 | -0.90 |\n| 401353224 |    6017 | 288 | 294 | 53.0 | 45.3 | 53 | 6 |  7.6 | 6 | ⋯ | 12 | 2022 | 0 | T53 | -0.36 |  0.21 |  0.79 | -1.05 | -0.04 | -0.40 |\n| 401353224 |    9131 | 288 | 285 | 68.0 | 59.5 | 64 | 0 |  6.2 | 0 | ⋯ | 12 | 2022 | 0 | T13 |  0.75 |  1.38 |  0.17 | -0.49 |  1.01 |  1.76 |\n| 401353224 |    4645 | 288 | 292 | 52.5 | 43.3 | 53 | 0 |  6.0 | 0 | ⋯ | 12 | 2022 | 0 | T48 | -0.18 |  0.35 | -0.67 |  0.59 |  0.28 |  0.10 |\n| 401353224 |    1264 | 288 | 294 | 41.0 | 34.2 | 54 | 0 |  1.2 | 0 | ⋯ | 12 | 2022 | 0 | T53 | -0.71 |  0.52 |  0.01 | -0.22 |  0.31 | -0.40 |\n| 401353224 | 4425906 | 288 | 295 | 54.5 | 42.6 | 52 | 0 |  6.0 | 0 | ⋯ | 12 | 2022 | 0 | T60 | -0.68 |  0.32 | -1.18 |  0.89 |  0.03 | -0.65 |\n| 401353224 |    9025 | 288 | 282 | 70.0 | 65.0 | 68 | 0 |  7.6 | 0 | ⋯ | 12 | 2022 | 0 | T5  |  1.65 | -0.50 |  1.34 |  0.10 |  0.95 |  2.60 |\n| 401353224 |   11456 | 288 | 295 | 47.0 | 38.6 | 49 | 3 |  7.6 | 3 | ⋯ | 12 | 2022 | 0 | T60 | -0.60 | -1.17 |  0.41 |  0.71 | -0.05 | -0.65 |\n| 401353224 |    5574 | 288 | 292 | 54.0 | 44.4 | 52 | 0 |  7.4 | 0 | ⋯ | 12 | 2022 | 0 | T48 |  0.09 | -0.80 |  1.05 | -0.24 |  0.01 |  0.10 |\n| 401353224 |    6701 | 288 | 290 | 57.5 | 48.5 | 55 | 3 | 11.8 | 3 | ⋯ | 12 | 2022 | 0 | T37 |  0.46 |  0.27 |  0.31 | -0.43 |  0.14 |  0.60 |\n| 401353224 |   10054 | 288 | 282 | 66.0 | 62.6 | 68 | 0 | 12.8 | 0 | ⋯ | 12 | 2022 | 0 | T5  |  1.21 |  1.76 |  0.53 | -0.71 |  1.55 |  2.76 |\n| 401353224 |   10058 | 288 | 285 | 64.0 | 58.3 | 64 | 3 |  6.8 | 3 | ⋯ | 12 | 2022 | 0 | T13 |  0.73 |  0.12 |  1.28 | -0.29 |  1.12 |  1.85 |\n| ⋮ | ⋮ | ⋮ | ⋮ | ⋮ | ⋮ | ⋮ | ⋮ | ⋮ | ⋮ | ⋱ | ⋮ | ⋮ | ⋮ | ⋮ | ⋮ | ⋮ | ⋮ | ⋮ | ⋮ | ⋮ |\n| 2260 | 2552 | 284 | 279 | 65.5 | 60.6 | 67 |  3 |  7.2 |  3 | ⋯ | 6.2 | 2015 | 0 | T56 |  0.45 |  0.22 | -1.43 |  0.51 | -0.70 | -0.25 |\n| 2260 | 1734 | 284 | 279 | 73.0 | 64.7 | 66 |  3 | 13.8 |  3 | ⋯ | 6.2 | 2015 | 0 | T56 | -0.21 |  0.13 | -1.08 |  0.91 | -0.04 | -0.25 |\n| 2260 |  860 | 284 | 274 | 76.5 | 71.1 | 77 |  0 | 11.8 |  0 | ⋯ | 6.2 | 2015 | 0 | T28 | -1.28 | -0.16 |  1.74 |  0.71 |  2.28 |  1.00 |\n| 2260 | 1077 | 284 | 266 | 95.5 | 92.9 | 83 |  6 | 22.6 |  6 | ⋯ | 6.2 | 2015 | 0 | 2   |  1.18 |  0.05 |  1.22 |  0.55 |  1.82 |  3.00 |\n| 2260 | 3793 | 284 | 278 | 66.0 | 62.6 | 68 |  3 | 12.0 |  3 | ⋯ | 6.2 | 2015 | 0 | T54 | -0.67 |  0.97 | -0.03 | -0.28 |  0.67 |  0.00 |\n| 2260 | 1637 | 284 | 279 | 67.5 | 62.4 | 67 |  3 |  7.2 |  3 | ⋯ | 6.2 | 2015 | 0 | T56 | -1.05 |  0.73 |  0.52 | -0.44 |  0.80 | -0.25 |\n| 2260 | 2571 | 284 | 273 | 80.5 | 76.2 | 73 |  3 | 18.8 |  4 | ⋯ | 6.2 | 2015 | 0 | T18 |  0.22 | -0.28 |  1.10 |  0.21 |  1.03 |  1.25 |\n| 2260 | 3792 | 284 | 279 | 79.0 | 70.1 | 69 |  3 | 17.2 |  4 | ⋯ | 6.2 | 2015 | 0 | T56 |  0.73 | -0.37 | -1.34 |  0.74 | -0.98 | -0.25 |\n| 2260 | 1042 | 284 | 272 | 69.0 | 69.4 | 82 | 11 | 15.8 |  8 | ⋯ | 6.2 | 2015 | 0 | T16 |  1.19 |  0.02 |  0.55 | -0.25 |  0.31 |  1.50 |\n| 2260 |  186 | 142 | 139 | 31.5 | 30.2 | 35 |  0 |  1.2 |  0 | ⋯ | 6.2 | 2015 | 0 | T75 |  0.44 |  0.48 | -0.98 | -0.79 | -1.28 | -0.84 |\n| 2260 | 4047 | 284 | 274 | 73.0 | 70.8 | 74 |  6 | 18.8 |  6 | ⋯ | 6.2 | 2015 | 0 | T28 | -1.04 |  0.08 |  1.91 |  0.05 |  2.04 |  1.00 |\n| 2260 | 4483 | 284 | 268 | 88.5 | 85.9 | 81 |  9 | 30.0 | 10 | ⋯ | 6.2 | 2015 | 0 | 3   |  1.00 |  1.50 | -0.28 |  0.28 |  1.50 |  2.50 |\n| 2260 | 5619 | 284 | 271 | 80.0 | 77.7 | 80 |  3 | 19.2 |  3 | ⋯ | 6.2 | 2015 | 0 | T10 |  0.52 |  0.30 | -0.34 |  1.27 |  1.23 |  1.75 |\n| 2260 |   11 | 142 | 138 | 32.5 | 31.7 | 37 |  3 | 11.8 |  4 | ⋯ | 6.2 | 2015 | 0 | 79  | -1.00 |  0.41 | -2.16 | -0.10 | -1.84 | -2.84 |\n| 2260 | 4591 | 284 | 271 | 87.0 | 82.3 | 78 |  0 | 16.4 |  0 | ⋯ | 6.2 | 2015 | 0 | T10 |  0.52 |  0.04 |  0.94 |  0.25 |  1.23 |  1.75 |\n| 2260 |   78 | 284 | 275 | 83.0 | 76.3 | 73 |  9 | 20.0 | 10 | ⋯ | 6.2 | 2015 | 0 | T33 | -0.83 | -0.53 |  1.78 |  0.32 |  1.58 |  0.75 |\n| 2260 | 1359 | 284 | 280 | 70.0 | 63.9 | 63 |  6 | 18.2 |  7 | ⋯ | 6.2 | 2015 | 0 | T63 |  1.01 | -0.08 | -0.79 | -0.64 | -1.51 | -0.50 |\n| 2260 | 1037 | 284 | 270 | 85.0 | 81.8 | 78 |  8 | 19.0 |  3 | ⋯ | 6.2 | 2015 | 0 | T7  |  0.60 |  0.75 |  0.17 |  0.48 |  1.40 |  2.00 |\n| 2260 | 1613 | 284 | 275 | 74.5 | 70.6 | 73 |  3 | 18.0 |  3 | ⋯ | 6.2 | 2015 | 0 | T33 | -0.06 | -0.07 |  0.45 |  0.43 |  0.81 |  0.75 |\n| 2260 | 2230 | 284 | 270 | 90.0 | 85.7 | 79 |  6 | 25.0 |  6 | ⋯ | 6.2 | 2015 | 0 | T7  | -0.21 |  0.08 |  1.12 |  1.00 |  2.21 |  2.00 |\n| 2260 | 1798 | 142 | 138 | 36.0 | 33.4 | 36 |  6 | 11.8 |  7 | ⋯ | 6.2 | 2015 | 0 | T72 |  1.94 | -1.76 |  0.21 | -0.90 | -2.45 | -0.51 |\n| 2260 | 6086 | 284 | 281 | 64.0 | 57.1 | 64 |  3 |  8.4 |  3 | ⋯ | 6.2 | 2015 | 0 | T67 | -0.38 | -0.72 |  0.09 |  0.26 | -0.37 | -0.75 |\n| 2260 | 3970 | 284 | 277 | 80.5 | 72.6 | 65 |  3 | 14.2 |  3 | ⋯ | 6.2 | 2015 | 0 | T49 |  1.05 | -0.53 | -0.70 |  0.44 | -0.80 |  0.25 |\n| 2260 |  392 | 284 | 277 | 75.0 | 69.1 | 66 |  3 | 19.8 |  3 | ⋯ | 6.2 | 2015 | 0 | T49 |  0.43 |  0.00 | -0.19 |  0.01 | -0.18 |  0.25 |\n| 2260 | 5560 | 284 | 279 | 70.5 | 63.4 | 65 |  3 | 18.8 |  3 | ⋯ | 6.2 | 2015 | 0 | T56 | -0.26 |  0.24 |  0.08 | -0.31 |  0.01 | -0.25 |\n| 2260 | 7082 | 284 | 277 | 66.0 | 62.5 | 72 |  6 | 18.6 |  7 | ⋯ | 6.2 | 2015 | 0 | T49 |  0.66 | -0.27 |  0.26 | -0.39 | -0.41 |  0.25 |\n| 2260 | 3532 | 284 | 275 | 70.5 | 68.2 | 73 |  0 |  7.4 |  0 | ⋯ | 6.2 | 2015 | 0 | T33 |  0.09 |  0.36 | -0.37 |  0.66 |  0.66 |  0.75 |\n| 2260 | 6185 | 284 | 276 | 72.0 | 66.8 | 72 |  6 | 19.2 |  7 | ⋯ | 6.2 | 2015 | 0 | T42 |  0.55 |  0.04 |  0.54 | -0.64 | -0.05 |  0.50 |\n| 2260 | 1614 | 284 | 269 | 86.5 | 84.0 | 81 | 14 | 24.4 | 10 | ⋯ | 6.2 | 2015 | 0 | T4  | -0.02 |  0.76 |  1.23 |  0.28 |  2.27 |  2.25 |\n| 2260 | 9040 | 142 | 140 | 29.0 | 27.6 | 34 |  0 |  0.0 |  0 | ⋯ | 6.2 | 2015 | 0 | T75 | -0.22 |  0.51 | -0.56 | -0.58 | -0.63 | -0.84 |\n\n",
            "text/latex": "A tibble: 16291 × 32\n\\begin{tabular}{lllllllllllllllllllll}\n tournament id & player id & hole\\_par & strokes & hole\\_DKP & hole\\_FDP & hole\\_SDP & streak\\_DKP & streak\\_FDP & streak\\_SDP & ⋯ & purse & season & no\\_cut & Finish & sg\\_putt & sg\\_arg & sg\\_app & sg\\_ott & sg\\_t2g & sg\\_total\\\\\n <dbl> & <dbl> & <dbl> & <dbl> & <dbl> & <dbl> & <dbl> & <dbl> & <dbl> & <dbl> & ⋯ & <dbl> & <dbl> & <dbl> & <chr> & <dbl> & <dbl> & <dbl> & <dbl> & <dbl> & <dbl>\\\\\n\\hline\n\t 401353224 &    9261 & 288 & 289 & 60.0 & 51.1 & 56 & 3 &  7.6 & 3 & ⋯ & 12 & 2022 & 0 & T32 &  0.20 & -0.13 & -0.08 &  0.86 &  0.65 &  0.85\\\\\n\t 401353224 &    5548 & 288 & 286 & 72.5 & 61.5 & 61 & 8 & 13.0 & 3 & ⋯ & 12 & 2022 & 0 & T18 &  0.36 &  0.75 &  0.31 &  0.18 &  1.24 &  1.60\\\\\n\t 401353224 &   10906 & 288 & 287 & 63.0 & 55.7 & 58 & 3 &  7.2 & 3 & ⋯ & 12 & 2022 & 0 & T26 &  2.05 &  0.74 & -1.32 & -0.12 & -0.70 &  1.35\\\\\n\t 401353224 &   10372 & 288 & 287 & 59.5 & 54.0 & 59 & 0 &  7.8 & 0 & ⋯ & 12 & 2022 & 0 & T26 & -0.96 & -0.01 &  1.84 &  0.48 &  2.31 &  1.35\\\\\n\t 401353224 &     388 & 288 & 299 & 48.5 & 34.7 & 48 & 0 &  5.4 & 0 & ⋯ & 12 & 2022 & 0 & T67 & -0.82 & -1.79 &  2.00 & -1.04 & -0.83 & -1.65\\\\\n\t 401353224 &    9127 & 288 & 291 & 61.0 & 48.9 & 54 & 3 &  2.0 & 3 & ⋯ & 12 & 2022 & 0 & T45 &  0.28 & -0.02 & -0.18 &  0.26 &  0.07 &  0.35\\\\\n\t 401353224 &   10577 & 288 & 279 & 72.0 & 69.3 & 72 & 0 &  8.6 & 0 & ⋯ & 12 & 2022 & 0 & 2   &  1.16 &  0.05 &  1.96 &  0.18 &  2.19 &  3.35\\\\\n\t 401353224 &    1225 & 288 & 286 & 62.5 & 56.1 & 61 & 0 &  7.8 & 0 & ⋯ & 12 & 2022 & 0 & T18 &  0.12 &  0.66 &  0.17 &  0.65 &  1.48 &  1.60\\\\\n\t 401353224 &    1651 & 288 & 275 & 77.0 & 75.5 & 82 & 6 & 16.2 & 8 & ⋯ & 12 & 2022 & 0 & 1   &  0.95 &  1.31 &  1.25 &  0.84 &  3.39 &  4.35\\\\\n\t 401353224 &    6011 & 288 & 289 & 69.5 & 58.2 & 57 & 0 & 12.4 & 0 & ⋯ & 12 & 2022 & 0 & T32 &  1.94 &  0.43 & -1.50 & -0.03 & -1.09 &  0.85\\\\\n\t 401353224 &    1222 & 288 & 295 & 48.0 & 37.7 & 48 & 0 &  1.0 & 0 & ⋯ & 12 & 2022 & 0 & T60 &  1.12 &  0.25 & -1.10 & -0.92 & -1.77 & -0.65\\\\\n\t 401353224 &    3596 & 288 & 284 & 65.5 & 60.7 & 63 & 0 &  7.6 & 0 & ⋯ & 12 & 2022 & 0 & T10 &  0.20 & -0.22 &  1.26 &  0.86 &  1.90 &  2.10\\\\\n\t 401353224 & 4355673 & 288 & 300 & 51.0 & 35.0 & 38 & 3 &  2.4 & 3 & ⋯ & 12 & 2022 & 0 & 69  & -2.44 &  0.30 &  0.12 &  0.12 &  0.54 & -1.90\\\\\n\t 401353224 &    9126 & 288 & 285 & 72.5 & 60.2 & 65 & 3 & 19.4 & 3 & ⋯ & 12 & 2022 & 0 & T13 & -0.24 & -0.47 &  2.03 &  0.53 &  2.09 &  1.85\\\\\n\t 401353224 &   10863 & 288 & 294 & 51.0 & 37.2 & 54 & 0 &  0.8 & 0 & ⋯ & 12 & 2022 & 0 & T53 &  0.19 & -0.88 &  0.88 & -0.60 & -0.59 & -0.40\\\\\n\t 401353224 &     208 & 288 & 286 & 60.5 & 55.5 & 61 & 0 &  6.2 & 0 & ⋯ & 12 & 2022 & 0 & T18 &  0.52 & -0.36 &  1.03 &  0.40 &  1.08 &  1.60\\\\\n\t 401353224 &    5724 & 288 & 299 & 46.0 & 30.9 & 44 & 0 &  0.6 & 0 & ⋯ & 12 & 2022 & 0 & T67 & -1.40 & -0.98 &  0.53 &  0.19 & -0.26 & -1.65\\\\\n\t 401353224 &    3449 & 288 & 294 & 60.0 & 46.3 & 47 & 0 & 12.4 & 0 & ⋯ & 12 & 2022 & 0 & T53 & -0.02 &  0.45 & -1.28 &  0.45 & -0.38 & -0.40\\\\\n\t 401353224 &    5532 & 288 & 296 & 48.0 & 37.8 & 44 & 3 &  6.4 & 3 & ⋯ & 12 & 2022 & 0 & T64 &  0.88 & -0.44 & -0.80 & -0.55 & -1.78 & -0.90\\\\\n\t 401353224 &    6017 & 288 & 294 & 53.0 & 45.3 & 53 & 6 &  7.6 & 6 & ⋯ & 12 & 2022 & 0 & T53 & -0.36 &  0.21 &  0.79 & -1.05 & -0.04 & -0.40\\\\\n\t 401353224 &    9131 & 288 & 285 & 68.0 & 59.5 & 64 & 0 &  6.2 & 0 & ⋯ & 12 & 2022 & 0 & T13 &  0.75 &  1.38 &  0.17 & -0.49 &  1.01 &  1.76\\\\\n\t 401353224 &    4645 & 288 & 292 & 52.5 & 43.3 & 53 & 0 &  6.0 & 0 & ⋯ & 12 & 2022 & 0 & T48 & -0.18 &  0.35 & -0.67 &  0.59 &  0.28 &  0.10\\\\\n\t 401353224 &    1264 & 288 & 294 & 41.0 & 34.2 & 54 & 0 &  1.2 & 0 & ⋯ & 12 & 2022 & 0 & T53 & -0.71 &  0.52 &  0.01 & -0.22 &  0.31 & -0.40\\\\\n\t 401353224 & 4425906 & 288 & 295 & 54.5 & 42.6 & 52 & 0 &  6.0 & 0 & ⋯ & 12 & 2022 & 0 & T60 & -0.68 &  0.32 & -1.18 &  0.89 &  0.03 & -0.65\\\\\n\t 401353224 &    9025 & 288 & 282 & 70.0 & 65.0 & 68 & 0 &  7.6 & 0 & ⋯ & 12 & 2022 & 0 & T5  &  1.65 & -0.50 &  1.34 &  0.10 &  0.95 &  2.60\\\\\n\t 401353224 &   11456 & 288 & 295 & 47.0 & 38.6 & 49 & 3 &  7.6 & 3 & ⋯ & 12 & 2022 & 0 & T60 & -0.60 & -1.17 &  0.41 &  0.71 & -0.05 & -0.65\\\\\n\t 401353224 &    5574 & 288 & 292 & 54.0 & 44.4 & 52 & 0 &  7.4 & 0 & ⋯ & 12 & 2022 & 0 & T48 &  0.09 & -0.80 &  1.05 & -0.24 &  0.01 &  0.10\\\\\n\t 401353224 &    6701 & 288 & 290 & 57.5 & 48.5 & 55 & 3 & 11.8 & 3 & ⋯ & 12 & 2022 & 0 & T37 &  0.46 &  0.27 &  0.31 & -0.43 &  0.14 &  0.60\\\\\n\t 401353224 &   10054 & 288 & 282 & 66.0 & 62.6 & 68 & 0 & 12.8 & 0 & ⋯ & 12 & 2022 & 0 & T5  &  1.21 &  1.76 &  0.53 & -0.71 &  1.55 &  2.76\\\\\n\t 401353224 &   10058 & 288 & 285 & 64.0 & 58.3 & 64 & 3 &  6.8 & 3 & ⋯ & 12 & 2022 & 0 & T13 &  0.73 &  0.12 &  1.28 & -0.29 &  1.12 &  1.85\\\\\n\t ⋮ & ⋮ & ⋮ & ⋮ & ⋮ & ⋮ & ⋮ & ⋮ & ⋮ & ⋮ & ⋱ & ⋮ & ⋮ & ⋮ & ⋮ & ⋮ & ⋮ & ⋮ & ⋮ & ⋮ & ⋮\\\\\n\t 2260 & 2552 & 284 & 279 & 65.5 & 60.6 & 67 &  3 &  7.2 &  3 & ⋯ & 6.2 & 2015 & 0 & T56 &  0.45 &  0.22 & -1.43 &  0.51 & -0.70 & -0.25\\\\\n\t 2260 & 1734 & 284 & 279 & 73.0 & 64.7 & 66 &  3 & 13.8 &  3 & ⋯ & 6.2 & 2015 & 0 & T56 & -0.21 &  0.13 & -1.08 &  0.91 & -0.04 & -0.25\\\\\n\t 2260 &  860 & 284 & 274 & 76.5 & 71.1 & 77 &  0 & 11.8 &  0 & ⋯ & 6.2 & 2015 & 0 & T28 & -1.28 & -0.16 &  1.74 &  0.71 &  2.28 &  1.00\\\\\n\t 2260 & 1077 & 284 & 266 & 95.5 & 92.9 & 83 &  6 & 22.6 &  6 & ⋯ & 6.2 & 2015 & 0 & 2   &  1.18 &  0.05 &  1.22 &  0.55 &  1.82 &  3.00\\\\\n\t 2260 & 3793 & 284 & 278 & 66.0 & 62.6 & 68 &  3 & 12.0 &  3 & ⋯ & 6.2 & 2015 & 0 & T54 & -0.67 &  0.97 & -0.03 & -0.28 &  0.67 &  0.00\\\\\n\t 2260 & 1637 & 284 & 279 & 67.5 & 62.4 & 67 &  3 &  7.2 &  3 & ⋯ & 6.2 & 2015 & 0 & T56 & -1.05 &  0.73 &  0.52 & -0.44 &  0.80 & -0.25\\\\\n\t 2260 & 2571 & 284 & 273 & 80.5 & 76.2 & 73 &  3 & 18.8 &  4 & ⋯ & 6.2 & 2015 & 0 & T18 &  0.22 & -0.28 &  1.10 &  0.21 &  1.03 &  1.25\\\\\n\t 2260 & 3792 & 284 & 279 & 79.0 & 70.1 & 69 &  3 & 17.2 &  4 & ⋯ & 6.2 & 2015 & 0 & T56 &  0.73 & -0.37 & -1.34 &  0.74 & -0.98 & -0.25\\\\\n\t 2260 & 1042 & 284 & 272 & 69.0 & 69.4 & 82 & 11 & 15.8 &  8 & ⋯ & 6.2 & 2015 & 0 & T16 &  1.19 &  0.02 &  0.55 & -0.25 &  0.31 &  1.50\\\\\n\t 2260 &  186 & 142 & 139 & 31.5 & 30.2 & 35 &  0 &  1.2 &  0 & ⋯ & 6.2 & 2015 & 0 & T75 &  0.44 &  0.48 & -0.98 & -0.79 & -1.28 & -0.84\\\\\n\t 2260 & 4047 & 284 & 274 & 73.0 & 70.8 & 74 &  6 & 18.8 &  6 & ⋯ & 6.2 & 2015 & 0 & T28 & -1.04 &  0.08 &  1.91 &  0.05 &  2.04 &  1.00\\\\\n\t 2260 & 4483 & 284 & 268 & 88.5 & 85.9 & 81 &  9 & 30.0 & 10 & ⋯ & 6.2 & 2015 & 0 & 3   &  1.00 &  1.50 & -0.28 &  0.28 &  1.50 &  2.50\\\\\n\t 2260 & 5619 & 284 & 271 & 80.0 & 77.7 & 80 &  3 & 19.2 &  3 & ⋯ & 6.2 & 2015 & 0 & T10 &  0.52 &  0.30 & -0.34 &  1.27 &  1.23 &  1.75\\\\\n\t 2260 &   11 & 142 & 138 & 32.5 & 31.7 & 37 &  3 & 11.8 &  4 & ⋯ & 6.2 & 2015 & 0 & 79  & -1.00 &  0.41 & -2.16 & -0.10 & -1.84 & -2.84\\\\\n\t 2260 & 4591 & 284 & 271 & 87.0 & 82.3 & 78 &  0 & 16.4 &  0 & ⋯ & 6.2 & 2015 & 0 & T10 &  0.52 &  0.04 &  0.94 &  0.25 &  1.23 &  1.75\\\\\n\t 2260 &   78 & 284 & 275 & 83.0 & 76.3 & 73 &  9 & 20.0 & 10 & ⋯ & 6.2 & 2015 & 0 & T33 & -0.83 & -0.53 &  1.78 &  0.32 &  1.58 &  0.75\\\\\n\t 2260 & 1359 & 284 & 280 & 70.0 & 63.9 & 63 &  6 & 18.2 &  7 & ⋯ & 6.2 & 2015 & 0 & T63 &  1.01 & -0.08 & -0.79 & -0.64 & -1.51 & -0.50\\\\\n\t 2260 & 1037 & 284 & 270 & 85.0 & 81.8 & 78 &  8 & 19.0 &  3 & ⋯ & 6.2 & 2015 & 0 & T7  &  0.60 &  0.75 &  0.17 &  0.48 &  1.40 &  2.00\\\\\n\t 2260 & 1613 & 284 & 275 & 74.5 & 70.6 & 73 &  3 & 18.0 &  3 & ⋯ & 6.2 & 2015 & 0 & T33 & -0.06 & -0.07 &  0.45 &  0.43 &  0.81 &  0.75\\\\\n\t 2260 & 2230 & 284 & 270 & 90.0 & 85.7 & 79 &  6 & 25.0 &  6 & ⋯ & 6.2 & 2015 & 0 & T7  & -0.21 &  0.08 &  1.12 &  1.00 &  2.21 &  2.00\\\\\n\t 2260 & 1798 & 142 & 138 & 36.0 & 33.4 & 36 &  6 & 11.8 &  7 & ⋯ & 6.2 & 2015 & 0 & T72 &  1.94 & -1.76 &  0.21 & -0.90 & -2.45 & -0.51\\\\\n\t 2260 & 6086 & 284 & 281 & 64.0 & 57.1 & 64 &  3 &  8.4 &  3 & ⋯ & 6.2 & 2015 & 0 & T67 & -0.38 & -0.72 &  0.09 &  0.26 & -0.37 & -0.75\\\\\n\t 2260 & 3970 & 284 & 277 & 80.5 & 72.6 & 65 &  3 & 14.2 &  3 & ⋯ & 6.2 & 2015 & 0 & T49 &  1.05 & -0.53 & -0.70 &  0.44 & -0.80 &  0.25\\\\\n\t 2260 &  392 & 284 & 277 & 75.0 & 69.1 & 66 &  3 & 19.8 &  3 & ⋯ & 6.2 & 2015 & 0 & T49 &  0.43 &  0.00 & -0.19 &  0.01 & -0.18 &  0.25\\\\\n\t 2260 & 5560 & 284 & 279 & 70.5 & 63.4 & 65 &  3 & 18.8 &  3 & ⋯ & 6.2 & 2015 & 0 & T56 & -0.26 &  0.24 &  0.08 & -0.31 &  0.01 & -0.25\\\\\n\t 2260 & 7082 & 284 & 277 & 66.0 & 62.5 & 72 &  6 & 18.6 &  7 & ⋯ & 6.2 & 2015 & 0 & T49 &  0.66 & -0.27 &  0.26 & -0.39 & -0.41 &  0.25\\\\\n\t 2260 & 3532 & 284 & 275 & 70.5 & 68.2 & 73 &  0 &  7.4 &  0 & ⋯ & 6.2 & 2015 & 0 & T33 &  0.09 &  0.36 & -0.37 &  0.66 &  0.66 &  0.75\\\\\n\t 2260 & 6185 & 284 & 276 & 72.0 & 66.8 & 72 &  6 & 19.2 &  7 & ⋯ & 6.2 & 2015 & 0 & T42 &  0.55 &  0.04 &  0.54 & -0.64 & -0.05 &  0.50\\\\\n\t 2260 & 1614 & 284 & 269 & 86.5 & 84.0 & 81 & 14 & 24.4 & 10 & ⋯ & 6.2 & 2015 & 0 & T4  & -0.02 &  0.76 &  1.23 &  0.28 &  2.27 &  2.25\\\\\n\t 2260 & 9040 & 142 & 140 & 29.0 & 27.6 & 34 &  0 &  0.0 &  0 & ⋯ & 6.2 & 2015 & 0 & T75 & -0.22 &  0.51 & -0.56 & -0.58 & -0.63 & -0.84\\\\\n\\end{tabular}\n",
            "text/plain": [
              "      tournament id player id hole_par strokes hole_DKP hole_FDP hole_SDP\n",
              "1     401353224        9261   288      289     60.0     51.1     56      \n",
              "2     401353224        5548   288      286     72.5     61.5     61      \n",
              "3     401353224       10906   288      287     63.0     55.7     58      \n",
              "4     401353224       10372   288      287     59.5     54.0     59      \n",
              "5     401353224         388   288      299     48.5     34.7     48      \n",
              "6     401353224        9127   288      291     61.0     48.9     54      \n",
              "7     401353224       10577   288      279     72.0     69.3     72      \n",
              "8     401353224        1225   288      286     62.5     56.1     61      \n",
              "9     401353224        1651   288      275     77.0     75.5     82      \n",
              "10    401353224        6011   288      289     69.5     58.2     57      \n",
              "11    401353224        1222   288      295     48.0     37.7     48      \n",
              "12    401353224        3596   288      284     65.5     60.7     63      \n",
              "13    401353224     4355673   288      300     51.0     35.0     38      \n",
              "14    401353224        9126   288      285     72.5     60.2     65      \n",
              "15    401353224       10863   288      294     51.0     37.2     54      \n",
              "16    401353224         208   288      286     60.5     55.5     61      \n",
              "17    401353224        5724   288      299     46.0     30.9     44      \n",
              "18    401353224        3449   288      294     60.0     46.3     47      \n",
              "19    401353224        5532   288      296     48.0     37.8     44      \n",
              "20    401353224        6017   288      294     53.0     45.3     53      \n",
              "21    401353224        9131   288      285     68.0     59.5     64      \n",
              "22    401353224        4645   288      292     52.5     43.3     53      \n",
              "23    401353224        1264   288      294     41.0     34.2     54      \n",
              "24    401353224     4425906   288      295     54.5     42.6     52      \n",
              "25    401353224        9025   288      282     70.0     65.0     68      \n",
              "26    401353224       11456   288      295     47.0     38.6     49      \n",
              "27    401353224        5574   288      292     54.0     44.4     52      \n",
              "28    401353224        6701   288      290     57.5     48.5     55      \n",
              "29    401353224       10054   288      282     66.0     62.6     68      \n",
              "30    401353224       10058   288      285     64.0     58.3     64      \n",
              "⋮     ⋮             ⋮         ⋮        ⋮       ⋮        ⋮        ⋮       \n",
              "16262 2260          2552      284      279     65.5     60.6     67      \n",
              "16263 2260          1734      284      279     73.0     64.7     66      \n",
              "16264 2260           860      284      274     76.5     71.1     77      \n",
              "16265 2260          1077      284      266     95.5     92.9     83      \n",
              "16266 2260          3793      284      278     66.0     62.6     68      \n",
              "16267 2260          1637      284      279     67.5     62.4     67      \n",
              "16268 2260          2571      284      273     80.5     76.2     73      \n",
              "16269 2260          3792      284      279     79.0     70.1     69      \n",
              "16270 2260          1042      284      272     69.0     69.4     82      \n",
              "16271 2260           186      142      139     31.5     30.2     35      \n",
              "16272 2260          4047      284      274     73.0     70.8     74      \n",
              "16273 2260          4483      284      268     88.5     85.9     81      \n",
              "16274 2260          5619      284      271     80.0     77.7     80      \n",
              "16275 2260            11      142      138     32.5     31.7     37      \n",
              "16276 2260          4591      284      271     87.0     82.3     78      \n",
              "16277 2260            78      284      275     83.0     76.3     73      \n",
              "16278 2260          1359      284      280     70.0     63.9     63      \n",
              "16279 2260          1037      284      270     85.0     81.8     78      \n",
              "16280 2260          1613      284      275     74.5     70.6     73      \n",
              "16281 2260          2230      284      270     90.0     85.7     79      \n",
              "16282 2260          1798      142      138     36.0     33.4     36      \n",
              "16283 2260          6086      284      281     64.0     57.1     64      \n",
              "16284 2260          3970      284      277     80.5     72.6     65      \n",
              "16285 2260           392      284      277     75.0     69.1     66      \n",
              "16286 2260          5560      284      279     70.5     63.4     65      \n",
              "16287 2260          7082      284      277     66.0     62.5     72      \n",
              "16288 2260          3532      284      275     70.5     68.2     73      \n",
              "16289 2260          6185      284      276     72.0     66.8     72      \n",
              "16290 2260          1614      284      269     86.5     84.0     81      \n",
              "16291 2260          9040      142      140     29.0     27.6     34      \n",
              "      streak_DKP streak_FDP streak_SDP ⋯ purse season no_cut Finish sg_putt\n",
              "1     3           7.6       3          ⋯ 12    2022   0      T32     0.20  \n",
              "2     8          13.0       3          ⋯ 12    2022   0      T18     0.36  \n",
              "3     3           7.2       3          ⋯ 12    2022   0      T26     2.05  \n",
              "4     0           7.8       0          ⋯ 12    2022   0      T26    -0.96  \n",
              "5     0           5.4       0          ⋯ 12    2022   0      T67    -0.82  \n",
              "6     3           2.0       3          ⋯ 12    2022   0      T45     0.28  \n",
              "7     0           8.6       0          ⋯ 12    2022   0      2       1.16  \n",
              "8     0           7.8       0          ⋯ 12    2022   0      T18     0.12  \n",
              "9     6          16.2       8          ⋯ 12    2022   0      1       0.95  \n",
              "10    0          12.4       0          ⋯ 12    2022   0      T32     1.94  \n",
              "11    0           1.0       0          ⋯ 12    2022   0      T60     1.12  \n",
              "12    0           7.6       0          ⋯ 12    2022   0      T10     0.20  \n",
              "13    3           2.4       3          ⋯ 12    2022   0      69     -2.44  \n",
              "14    3          19.4       3          ⋯ 12    2022   0      T13    -0.24  \n",
              "15    0           0.8       0          ⋯ 12    2022   0      T53     0.19  \n",
              "16    0           6.2       0          ⋯ 12    2022   0      T18     0.52  \n",
              "17    0           0.6       0          ⋯ 12    2022   0      T67    -1.40  \n",
              "18    0          12.4       0          ⋯ 12    2022   0      T53    -0.02  \n",
              "19    3           6.4       3          ⋯ 12    2022   0      T64     0.88  \n",
              "20    6           7.6       6          ⋯ 12    2022   0      T53    -0.36  \n",
              "21    0           6.2       0          ⋯ 12    2022   0      T13     0.75  \n",
              "22    0           6.0       0          ⋯ 12    2022   0      T48    -0.18  \n",
              "23    0           1.2       0          ⋯ 12    2022   0      T53    -0.71  \n",
              "24    0           6.0       0          ⋯ 12    2022   0      T60    -0.68  \n",
              "25    0           7.6       0          ⋯ 12    2022   0      T5      1.65  \n",
              "26    3           7.6       3          ⋯ 12    2022   0      T60    -0.60  \n",
              "27    0           7.4       0          ⋯ 12    2022   0      T48     0.09  \n",
              "28    3          11.8       3          ⋯ 12    2022   0      T37     0.46  \n",
              "29    0          12.8       0          ⋯ 12    2022   0      T5      1.21  \n",
              "30    3           6.8       3          ⋯ 12    2022   0      T13     0.73  \n",
              "⋮     ⋮          ⋮          ⋮          ⋱ ⋮     ⋮      ⋮      ⋮      ⋮      \n",
              "16262  3          7.2        3         ⋯ 6.2   2015   0      T56     0.45  \n",
              "16263  3         13.8        3         ⋯ 6.2   2015   0      T56    -0.21  \n",
              "16264  0         11.8        0         ⋯ 6.2   2015   0      T28    -1.28  \n",
              "16265  6         22.6        6         ⋯ 6.2   2015   0      2       1.18  \n",
              "16266  3         12.0        3         ⋯ 6.2   2015   0      T54    -0.67  \n",
              "16267  3          7.2        3         ⋯ 6.2   2015   0      T56    -1.05  \n",
              "16268  3         18.8        4         ⋯ 6.2   2015   0      T18     0.22  \n",
              "16269  3         17.2        4         ⋯ 6.2   2015   0      T56     0.73  \n",
              "16270 11         15.8        8         ⋯ 6.2   2015   0      T16     1.19  \n",
              "16271  0          1.2        0         ⋯ 6.2   2015   0      T75     0.44  \n",
              "16272  6         18.8        6         ⋯ 6.2   2015   0      T28    -1.04  \n",
              "16273  9         30.0       10         ⋯ 6.2   2015   0      3       1.00  \n",
              "16274  3         19.2        3         ⋯ 6.2   2015   0      T10     0.52  \n",
              "16275  3         11.8        4         ⋯ 6.2   2015   0      79     -1.00  \n",
              "16276  0         16.4        0         ⋯ 6.2   2015   0      T10     0.52  \n",
              "16277  9         20.0       10         ⋯ 6.2   2015   0      T33    -0.83  \n",
              "16278  6         18.2        7         ⋯ 6.2   2015   0      T63     1.01  \n",
              "16279  8         19.0        3         ⋯ 6.2   2015   0      T7      0.60  \n",
              "16280  3         18.0        3         ⋯ 6.2   2015   0      T33    -0.06  \n",
              "16281  6         25.0        6         ⋯ 6.2   2015   0      T7     -0.21  \n",
              "16282  6         11.8        7         ⋯ 6.2   2015   0      T72     1.94  \n",
              "16283  3          8.4        3         ⋯ 6.2   2015   0      T67    -0.38  \n",
              "16284  3         14.2        3         ⋯ 6.2   2015   0      T49     1.05  \n",
              "16285  3         19.8        3         ⋯ 6.2   2015   0      T49     0.43  \n",
              "16286  3         18.8        3         ⋯ 6.2   2015   0      T56    -0.26  \n",
              "16287  6         18.6        7         ⋯ 6.2   2015   0      T49     0.66  \n",
              "16288  0          7.4        0         ⋯ 6.2   2015   0      T33     0.09  \n",
              "16289  6         19.2        7         ⋯ 6.2   2015   0      T42     0.55  \n",
              "16290 14         24.4       10         ⋯ 6.2   2015   0      T4     -0.02  \n",
              "16291  0          0.0        0         ⋯ 6.2   2015   0      T75    -0.22  \n",
              "      sg_arg sg_app sg_ott sg_t2g sg_total\n",
              "1     -0.13  -0.08   0.86   0.65   0.85   \n",
              "2      0.75   0.31   0.18   1.24   1.60   \n",
              "3      0.74  -1.32  -0.12  -0.70   1.35   \n",
              "4     -0.01   1.84   0.48   2.31   1.35   \n",
              "5     -1.79   2.00  -1.04  -0.83  -1.65   \n",
              "6     -0.02  -0.18   0.26   0.07   0.35   \n",
              "7      0.05   1.96   0.18   2.19   3.35   \n",
              "8      0.66   0.17   0.65   1.48   1.60   \n",
              "9      1.31   1.25   0.84   3.39   4.35   \n",
              "10     0.43  -1.50  -0.03  -1.09   0.85   \n",
              "11     0.25  -1.10  -0.92  -1.77  -0.65   \n",
              "12    -0.22   1.26   0.86   1.90   2.10   \n",
              "13     0.30   0.12   0.12   0.54  -1.90   \n",
              "14    -0.47   2.03   0.53   2.09   1.85   \n",
              "15    -0.88   0.88  -0.60  -0.59  -0.40   \n",
              "16    -0.36   1.03   0.40   1.08   1.60   \n",
              "17    -0.98   0.53   0.19  -0.26  -1.65   \n",
              "18     0.45  -1.28   0.45  -0.38  -0.40   \n",
              "19    -0.44  -0.80  -0.55  -1.78  -0.90   \n",
              "20     0.21   0.79  -1.05  -0.04  -0.40   \n",
              "21     1.38   0.17  -0.49   1.01   1.76   \n",
              "22     0.35  -0.67   0.59   0.28   0.10   \n",
              "23     0.52   0.01  -0.22   0.31  -0.40   \n",
              "24     0.32  -1.18   0.89   0.03  -0.65   \n",
              "25    -0.50   1.34   0.10   0.95   2.60   \n",
              "26    -1.17   0.41   0.71  -0.05  -0.65   \n",
              "27    -0.80   1.05  -0.24   0.01   0.10   \n",
              "28     0.27   0.31  -0.43   0.14   0.60   \n",
              "29     1.76   0.53  -0.71   1.55   2.76   \n",
              "30     0.12   1.28  -0.29   1.12   1.85   \n",
              "⋮     ⋮      ⋮      ⋮      ⋮      ⋮       \n",
              "16262  0.22  -1.43   0.51  -0.70  -0.25   \n",
              "16263  0.13  -1.08   0.91  -0.04  -0.25   \n",
              "16264 -0.16   1.74   0.71   2.28   1.00   \n",
              "16265  0.05   1.22   0.55   1.82   3.00   \n",
              "16266  0.97  -0.03  -0.28   0.67   0.00   \n",
              "16267  0.73   0.52  -0.44   0.80  -0.25   \n",
              "16268 -0.28   1.10   0.21   1.03   1.25   \n",
              "16269 -0.37  -1.34   0.74  -0.98  -0.25   \n",
              "16270  0.02   0.55  -0.25   0.31   1.50   \n",
              "16271  0.48  -0.98  -0.79  -1.28  -0.84   \n",
              "16272  0.08   1.91   0.05   2.04   1.00   \n",
              "16273  1.50  -0.28   0.28   1.50   2.50   \n",
              "16274  0.30  -0.34   1.27   1.23   1.75   \n",
              "16275  0.41  -2.16  -0.10  -1.84  -2.84   \n",
              "16276  0.04   0.94   0.25   1.23   1.75   \n",
              "16277 -0.53   1.78   0.32   1.58   0.75   \n",
              "16278 -0.08  -0.79  -0.64  -1.51  -0.50   \n",
              "16279  0.75   0.17   0.48   1.40   2.00   \n",
              "16280 -0.07   0.45   0.43   0.81   0.75   \n",
              "16281  0.08   1.12   1.00   2.21   2.00   \n",
              "16282 -1.76   0.21  -0.90  -2.45  -0.51   \n",
              "16283 -0.72   0.09   0.26  -0.37  -0.75   \n",
              "16284 -0.53  -0.70   0.44  -0.80   0.25   \n",
              "16285  0.00  -0.19   0.01  -0.18   0.25   \n",
              "16286  0.24   0.08  -0.31   0.01  -0.25   \n",
              "16287 -0.27   0.26  -0.39  -0.41   0.25   \n",
              "16288  0.36  -0.37   0.66   0.66   0.75   \n",
              "16289  0.04   0.54  -0.64  -0.05   0.50   \n",
              "16290  0.76   1.23   0.28   2.27   2.25   \n",
              "16291  0.51  -0.56  -0.58  -0.63  -0.84   "
            ]
          },
          "metadata": {}
        }
      ]
    },
    {
      "cell_type": "code",
      "source": [
        "colnames(pga_cut)"
      ],
      "metadata": {
        "colab": {
          "base_uri": "https://localhost:8080/",
          "height": 52
        },
        "id": "zirG4GfHayto",
        "outputId": "d654be39-634a-425e-a1da-d4a173059418"
      },
      "execution_count": 5,
      "outputs": [
        {
          "output_type": "display_data",
          "data": {
            "text/html": [
              "<style>\n",
              ".list-inline {list-style: none; margin:0; padding: 0}\n",
              ".list-inline>li {display: inline-block}\n",
              ".list-inline>li:not(:last-child)::after {content: \"\\00b7\"; padding: 0 .5ex}\n",
              "</style>\n",
              "<ol class=list-inline><li>'Player_initial_last'</li><li>'tournament id'</li><li>'player id'</li><li>'hole_par'</li><li>'strokes'</li><li>'hole_DKP'</li><li>'hole_FDP'</li><li>'hole_SDP'</li><li>'streak_DKP'</li><li>'streak_FDP'</li><li>'streak_SDP'</li><li>'n_rounds'</li><li>'made_cut'</li><li>'pos'</li><li>'finish_DKP'</li><li>'finish_FDP'</li><li>'finish_SDP'</li><li>'total_DKP'</li><li>'total_FDP'</li><li>'total_SDP'</li><li>'player'</li><li>'Unnamed: 2'</li><li>'Unnamed: 3'</li><li>'Unnamed: 4'</li><li>'tournament name'</li><li>'course'</li><li>'date'</li><li>'purse'</li><li>'season'</li><li>'no_cut'</li><li>'Finish'</li><li>'sg_putt'</li><li>'sg_arg'</li><li>'sg_app'</li><li>'sg_ott'</li><li>'sg_t2g'</li><li>'sg_total'</li></ol>\n"
            ],
            "text/markdown": "1. 'Player_initial_last'\n2. 'tournament id'\n3. 'player id'\n4. 'hole_par'\n5. 'strokes'\n6. 'hole_DKP'\n7. 'hole_FDP'\n8. 'hole_SDP'\n9. 'streak_DKP'\n10. 'streak_FDP'\n11. 'streak_SDP'\n12. 'n_rounds'\n13. 'made_cut'\n14. 'pos'\n15. 'finish_DKP'\n16. 'finish_FDP'\n17. 'finish_SDP'\n18. 'total_DKP'\n19. 'total_FDP'\n20. 'total_SDP'\n21. 'player'\n22. 'Unnamed: 2'\n23. 'Unnamed: 3'\n24. 'Unnamed: 4'\n25. 'tournament name'\n26. 'course'\n27. 'date'\n28. 'purse'\n29. 'season'\n30. 'no_cut'\n31. 'Finish'\n32. 'sg_putt'\n33. 'sg_arg'\n34. 'sg_app'\n35. 'sg_ott'\n36. 'sg_t2g'\n37. 'sg_total'\n\n\n",
            "text/latex": "\\begin{enumerate*}\n\\item 'Player\\_initial\\_last'\n\\item 'tournament id'\n\\item 'player id'\n\\item 'hole\\_par'\n\\item 'strokes'\n\\item 'hole\\_DKP'\n\\item 'hole\\_FDP'\n\\item 'hole\\_SDP'\n\\item 'streak\\_DKP'\n\\item 'streak\\_FDP'\n\\item 'streak\\_SDP'\n\\item 'n\\_rounds'\n\\item 'made\\_cut'\n\\item 'pos'\n\\item 'finish\\_DKP'\n\\item 'finish\\_FDP'\n\\item 'finish\\_SDP'\n\\item 'total\\_DKP'\n\\item 'total\\_FDP'\n\\item 'total\\_SDP'\n\\item 'player'\n\\item 'Unnamed: 2'\n\\item 'Unnamed: 3'\n\\item 'Unnamed: 4'\n\\item 'tournament name'\n\\item 'course'\n\\item 'date'\n\\item 'purse'\n\\item 'season'\n\\item 'no\\_cut'\n\\item 'Finish'\n\\item 'sg\\_putt'\n\\item 'sg\\_arg'\n\\item 'sg\\_app'\n\\item 'sg\\_ott'\n\\item 'sg\\_t2g'\n\\item 'sg\\_total'\n\\end{enumerate*}\n",
            "text/plain": [
              " [1] \"Player_initial_last\" \"tournament id\"       \"player id\"          \n",
              " [4] \"hole_par\"            \"strokes\"             \"hole_DKP\"           \n",
              " [7] \"hole_FDP\"            \"hole_SDP\"            \"streak_DKP\"         \n",
              "[10] \"streak_FDP\"          \"streak_SDP\"          \"n_rounds\"           \n",
              "[13] \"made_cut\"            \"pos\"                 \"finish_DKP\"         \n",
              "[16] \"finish_FDP\"          \"finish_SDP\"          \"total_DKP\"          \n",
              "[19] \"total_FDP\"           \"total_SDP\"           \"player\"             \n",
              "[22] \"Unnamed: 2\"          \"Unnamed: 3\"          \"Unnamed: 4\"         \n",
              "[25] \"tournament name\"     \"course\"              \"date\"               \n",
              "[28] \"purse\"               \"season\"              \"no_cut\"             \n",
              "[31] \"Finish\"              \"sg_putt\"             \"sg_arg\"             \n",
              "[34] \"sg_app\"              \"sg_ott\"              \"sg_t2g\"             \n",
              "[37] \"sg_total\"           "
            ]
          },
          "metadata": {}
        }
      ]
    },
    {
      "cell_type": "markdown",
      "metadata": {
        "id": "e8hi4uJOFm0N"
      },
      "source": [
        "# **Lab 14** : A predictive modeling case study\n",
        "\n",
        "**What is tidymodels ?**\n",
        "\n",
        "Much like the tidyverse consists of many core packages, such as ggplot2 and dplyr, tidymodels also consists of several core packages, including\n",
        "\n",
        "* *rsample:* for sample splitting (e.g. train/test or cross-validation)\n",
        "* *recipes:* for pre-processing\n",
        "* *parsnip:* for specifying the model\n",
        "* *yardstick:* for evaluating the model\n",
        "\n",
        "In today lab, we are learning how to build a predictive model from beginning to end using tinymodels. The material is based on section 5 in this [article](https://www.tidymodels.org/start/case-study/).\n",
        "\n",
        "Let's use the hotel booking dataset from [Antonio, Almeida, and Nunes (2019)](https://www.sciencedirect.com/science/article/pii/S2352340918315191?via%3Dihub) to predict if customers would **spend the weekend at hotels** based on the other characteristics of the stays such as which hotel the guests stay at, how much they pay, whether they have children and etc. We use a subset of the booking hotel data by removing rows of which day of arrival are either Saturday or Sunday."
      ]
    },
    {
      "cell_type": "code",
      "execution_count": 10,
      "metadata": {
        "colab": {
          "base_uri": "https://localhost:8080/"
        },
        "id": "_WRgRKBuJAui",
        "outputId": "f6c05e1f-0af3-4ec3-a022-d690a3392636"
      },
      "outputs": [
        {
          "output_type": "stream",
          "name": "stderr",
          "text": [
            "\u001b[1mRows: \u001b[22m\u001b[34m50000\u001b[39m \u001b[1mColumns: \u001b[22m\u001b[34m23\u001b[39m\n",
            "\u001b[36m──\u001b[39m \u001b[1mColumn specification\u001b[22m \u001b[36m────────────────────────────────────────────────────────\u001b[39m\n",
            "\u001b[1mDelimiter:\u001b[22m \",\"\n",
            "\u001b[31mchr\u001b[39m  (11): hotel, children, meal, country, market_segment, distribution_chan...\n",
            "\u001b[32mdbl\u001b[39m  (11): lead_time, stays_in_weekend_nights, stays_in_week_nights, adults,...\n",
            "\u001b[34mdate\u001b[39m  (1): arrival_date\n",
            "\n",
            "\u001b[36mℹ\u001b[39m Use `spec()` to retrieve the full column specification for this data.\n",
            "\u001b[36mℹ\u001b[39m Specify the column types or set `show_col_types = FALSE` to quiet this message.\n"
          ]
        },
        {
          "output_type": "stream",
          "name": "stdout",
          "text": [
            "Rows: 36,347\n",
            "Columns: 23\n",
            "$ hotel                          \u001b[3m\u001b[90m<fct>\u001b[39m\u001b[23m City_Hotel, City_Hotel, Resort_Hotel, R…\n",
            "$ lead_time                      \u001b[3m\u001b[90m<dbl>\u001b[39m\u001b[23m 217, 2, 143, 136, 47, 56, 80, 130, 27, …\n",
            "$ stays_in_week_nights           \u001b[3m\u001b[90m<dbl>\u001b[39m\u001b[23m 3, 1, 6, 4, 2, 3, 4, 2, 1, 2, 2, 2, 0, …\n",
            "$ adults                         \u001b[3m\u001b[90m<dbl>\u001b[39m\u001b[23m 2, 2, 2, 2, 2, 0, 2, 2, 1, 2, 2, 2, 1, …\n",
            "$ children                       \u001b[3m\u001b[90m<fct>\u001b[39m\u001b[23m none, none, none, none, children, child…\n",
            "$ meal                           \u001b[3m\u001b[90m<fct>\u001b[39m\u001b[23m BB, BB, HB, HB, BB, BB, BB, BB, BB, BB,…\n",
            "$ country                        \u001b[3m\u001b[90m<fct>\u001b[39m\u001b[23m DEU, PRT, ROU, PRT, ESP, ESP, FRA, FRA,…\n",
            "$ market_segment                 \u001b[3m\u001b[90m<fct>\u001b[39m\u001b[23m Offline_TA/TO, Direct, Online_TA, Direc…\n",
            "$ distribution_channel           \u001b[3m\u001b[90m<fct>\u001b[39m\u001b[23m TA/TO, Direct, TA/TO, Direct, Direct, T…\n",
            "$ is_repeated_guest              \u001b[3m\u001b[90m<dbl>\u001b[39m\u001b[23m 0, 0, 0, 0, 0, 0, 0, 0, 0, 0, 0, 0, 0, …\n",
            "$ previous_cancellations         \u001b[3m\u001b[90m<dbl>\u001b[39m\u001b[23m 0, 0, 0, 0, 0, 0, 0, 0, 0, 0, 0, 0, 0, …\n",
            "$ previous_bookings_not_canceled \u001b[3m\u001b[90m<dbl>\u001b[39m\u001b[23m 0, 0, 0, 0, 0, 0, 0, 0, 0, 0, 0, 0, 0, …\n",
            "$ reserved_room_type             \u001b[3m\u001b[90m<fct>\u001b[39m\u001b[23m A, D, A, F, C, B, D, A, D, A, D, D, E, …\n",
            "$ assigned_room_type             \u001b[3m\u001b[90m<fct>\u001b[39m\u001b[23m A, K, A, F, C, A, D, D, D, A, D, D, E, …\n",
            "$ booking_changes                \u001b[3m\u001b[90m<dbl>\u001b[39m\u001b[23m 0, 0, 0, 0, 0, 0, 0, 0, 0, 0, 0, 0, 0, …\n",
            "$ deposit_type                   \u001b[3m\u001b[90m<fct>\u001b[39m\u001b[23m No_Deposit, No_Deposit, No_Deposit, No_…\n",
            "$ days_in_waiting_list           \u001b[3m\u001b[90m<dbl>\u001b[39m\u001b[23m 0, 0, 0, 0, 0, 0, 0, 0, 0, 0, 0, 0, 0, …\n",
            "$ customer_type                  \u001b[3m\u001b[90m<fct>\u001b[39m\u001b[23m Transient-Party, Transient, Transient, …\n",
            "$ average_daily_rate             \u001b[3m\u001b[90m<dbl>\u001b[39m\u001b[23m 80.75, 170.00, 81.00, 157.60, 289.00, 8…\n",
            "$ required_car_parking_spaces    \u001b[3m\u001b[90m<fct>\u001b[39m\u001b[23m none, none, none, none, none, none, non…\n",
            "$ total_of_special_requests      \u001b[3m\u001b[90m<dbl>\u001b[39m\u001b[23m 1, 3, 1, 4, 1, 1, 1, 0, 1, 0, 0, 0, 0, …\n",
            "$ arrival_date                   \u001b[3m\u001b[90m<date>\u001b[39m\u001b[23m 2016-09-01, 2017-08-25, 2016-04-26, 20…\n",
            "$ spend_weekend                  \u001b[3m\u001b[90m<fct>\u001b[39m\u001b[23m TRUE, FALSE, TRUE, TRUE, FALSE, FALSE, …\n"
          ]
        }
      ],
      "source": [
        "# load hotel booking dataset\n",
        "hotels <- \n",
        "  read_csv('https://tidymodels.org/start/case-study/hotels.csv') %>%\n",
        "  mutate(across(where(is.character), as.factor)) \n",
        "\n",
        "data <- hotels %>%  filter(!weekdays(arrival_date) %in% c('Saturday', 'Sunday')) %>%\n",
        "                   mutate(spend_weekend = if_else(stays_in_weekend_nights > 0, TRUE, FALSE)) %>%\n",
        "                   mutate(spend_weekend = factor(spend_weekend, levels = c(TRUE, FALSE))) %>%\n",
        "                   select(-stays_in_weekend_nights)\n",
        "                 \n",
        "# initial inspection of the data\n",
        "glimpse(data)"
      ]
    },
    {
      "cell_type": "markdown",
      "metadata": {
        "id": "qYNG3Nid1rjM"
      },
      "source": [
        "#### Exercise 1: The first step in any data analysis task is data exploration. Create a plot which shows the relationship between **spend_weekend** and **stays_in_week_nights** ? "
      ]
    },
    {
      "cell_type": "code",
      "execution_count": null,
      "metadata": {
        "id": "B-PqSCe62Jpx"
      },
      "outputs": [],
      "source": [
        "# [Your answer here]"
      ]
    },
    {
      "cell_type": "code",
      "execution_count": 13,
      "metadata": {
        "id": "gMD_WupeOKNI",
        "colab": {
          "base_uri": "https://localhost:8080/",
          "height": 377
        },
        "outputId": "bf5d6afc-9f60-4ad6-e94e-3d48d46b7170"
      },
      "outputs": [
        {
          "output_type": "display_data",
          "data": {
            "text/plain": [
              "plot without title"
            ],
            "image/png": "[encoded data removed]"
          },
          "metadata": {
            "image/png": {
              "width": 480,
              "height": 360
            }
          }
        }
      ],
      "source": [
        "#@title Answer to Exercise 1\n",
        "ggplot(data = data) +\n",
        "  geom_boxplot(aes(x = spend_weekend, y = stays_in_week_nights)) +\n",
        "  xlab(\"stayed weekend\") +\n",
        "  ylab(\"Number of Weekday Stay\") +\n",
        "  theme_bw()"
      ]
    },
    {
      "cell_type": "code",
      "source": [
        "#@title pga boxplots\n",
        "\n",
        "ggplot(pga_cut, aes(x = factor(made_cut == 1), y = sg_total)) +\n",
        "  geom_boxplot() +\n",
        "  #scale_x_discrete(labels = c(\"False\", \"True\")) +\n",
        "  xlab(\"Made Cut\") +\n",
        "  ylab(\"SG Total\") +\n",
        "  ggtitle(\"SG Total for Made Cut vs. Missed Cut\")\n"
      ],
      "metadata": {
        "colab": {
          "base_uri": "https://localhost:8080/",
          "height": 377
        },
        "id": "xIVkhs-weE2p",
        "outputId": "20770998-5d79-4919-da02-71cc13e4f191"
      },
      "execution_count": 160,
      "outputs": [
        {
          "output_type": "display_data",
          "data": {
            "text/plain": [
              "plot without title"
            ],
            "image/png": "[encoded data removed]"
          },
          "metadata": {
            "image/png": {
              "width": 480,
              "height": 360
            }
          }
        }
      ]
    },
    {
      "cell_type": "markdown",
      "metadata": {
        "id": "e7FpGSBaLKEY"
      },
      "source": [
        "## DATA SPLITTING & RESAMPLING\n",
        "\n",
        "The purpose of splitting data into the different sets is to avoid overfitting. A simple yet effective strategy is to divide our data into training, validation and test set. For this case study, let’s reserve 25% of the stays to the test set. For the remaining,  let’s create a single resample called a validation set. In tidymodels, a validation set is treated as a single iteration of resampling. This will be a split from the stays that were not used for testing, which we called hotel_other."
      ]
    },
    {
      "cell_type": "code",
      "execution_count": 20,
      "metadata": {
        "id": "LiENqPocKhD5"
      },
      "outputs": [],
      "source": [
        "set.seed(123)\n",
        "\n",
        "# split data into training, validation and test set\n",
        "splits      <- initial_split(data, strata = spend_weekend)\n",
        "\n",
        "hotel_other <- training(splits)\n",
        "hotel_test  <- testing(splits)\n",
        "val_set <- validation_split(hotel_other, \n",
        "                            strata = spend_weekend, \n",
        "                            prop = 0.80)"
      ]
    },
    {
      "cell_type": "code",
      "source": [
        "set.seed(123)\n",
        "\n",
        "# split data into training, validation and test set\n",
        "pga_splits      <- initial_split(pga_cut, strata = made_cut)\n",
        "\n",
        "pga_other <- training(pga_splits)\n",
        "pga_test  <- testing(pga_splits)\n",
        "pga_validation <- validation_split(pga_other, \n",
        "                            strata = made_cut, \n",
        "                            prop = 0.80)"
      ],
      "metadata": {
        "id": "8SZJ4ZYsid0E"
      },
      "execution_count": 161,
      "outputs": []
    },
    {
      "cell_type": "markdown",
      "metadata": {
        "id": "45eYd4Zn1mfd"
      },
      "source": [
        "#### Exercise 2: verify that the percentage of test data is ~25%, and the validation set is ~20% of training data. "
      ]
    },
    {
      "cell_type": "code",
      "execution_count": null,
      "metadata": {
        "id": "YuJJr2LRQo11"
      },
      "outputs": [],
      "source": [
        "# [Your answer here]"
      ]
    },
    {
      "cell_type": "code",
      "execution_count": 162,
      "metadata": {
        "colab": {
          "base_uri": "https://localhost:8080/",
          "height": 139
        },
        "id": "uZufybFEzsCk",
        "outputId": "56cabd14-c0f6-471e-c06d-4f149e453d3e"
      },
      "outputs": [
        {
          "output_type": "stream",
          "name": "stdout",
          "text": [
            "[1] 0.2500344\n",
            "# Validation Set Split (0.8/0.2)  using stratification \n",
            "\u001b[90m# A tibble: 1 × 2\u001b[39m\n",
            "  splits               id        \n",
            "  \u001b[3m\u001b[90m<list>\u001b[39m\u001b[23m               \u001b[3m\u001b[90m<chr>\u001b[39m\u001b[23m     \n",
            "\u001b[90m1\u001b[39m \u001b[90m<split [21807/5452]>\u001b[39m validation\n"
          ]
        },
        {
          "output_type": "display_data",
          "data": {
            "text/html": [
              "0.200007337026303"
            ],
            "text/markdown": "0.200007337026303",
            "text/latex": "0.200007337026303",
            "text/plain": [
              "[1] 0.2000073"
            ]
          },
          "metadata": {}
        }
      ],
      "source": [
        "#@title Answer to Exercise 2\n",
        "print(nrow(hotel_test) / (nrow(hotel_other) + nrow(hotel_test)))\n",
        "\n",
        "print(val_set)\n",
        "5452 / (21807 + 5452)"
      ]
    },
    {
      "cell_type": "code",
      "source": [
        "#@title verification\n",
        "\n",
        "print(nrow(pga_test) / (nrow(pga_other) + nrow(pga_test)))\n",
        "\n",
        "print(pga_validation)\n",
        "4378 / (17507 + 4378)"
      ],
      "metadata": {
        "colab": {
          "base_uri": "https://localhost:8080/",
          "height": 139
        },
        "id": "yikW4gYHhPPh",
        "outputId": "38f7ecd4-fa17-43a6-d3b0-4fbcacd213e5"
      },
      "execution_count": 163,
      "outputs": [
        {
          "output_type": "stream",
          "name": "stdout",
          "text": [
            "[1] 0.2500153\n",
            "# Validation Set Split (0.8/0.2)  using stratification \n",
            "\u001b[90m# A tibble: 1 × 2\u001b[39m\n",
            "  splits              id        \n",
            "  \u001b[3m\u001b[90m<list>\u001b[39m\u001b[23m              \u001b[3m\u001b[90m<chr>\u001b[39m\u001b[23m     \n",
            "\u001b[90m1\u001b[39m \u001b[90m<split [9774/2444]>\u001b[39m validation\n"
          ]
        },
        {
          "output_type": "display_data",
          "data": {
            "text/html": [
              "0.200045693397304"
            ],
            "text/markdown": "0.200045693397304",
            "text/latex": "0.200045693397304",
            "text/plain": [
              "[1] 0.2000457"
            ]
          },
          "metadata": {}
        }
      ]
    },
    {
      "cell_type": "markdown",
      "metadata": {
        "id": "5NsII9aOLY7z"
      },
      "source": [
        "## BUILD PREDICTIVE MODELS"
      ]
    },
    {
      "cell_type": "markdown",
      "metadata": {
        "id": "xrB_dsAUSoOD"
      },
      "source": [
        "### Step 1: specify a predictive model\n",
        "\n",
        "In today class, we will build a penalized logistic regression classifier. This can be defined in tinymodels with the function logistic_reg(). The agrumemt penalty is specified with tune() function for tuning purposes to be explained shortly."
      ]
    },
    {
      "cell_type": "code",
      "execution_count": 8,
      "metadata": {
        "id": "Hyxxu0PaJVZ5"
      },
      "outputs": [],
      "source": [
        "lr_mod <- \n",
        "  logistic_reg(penalty = tune(), mixture = 1) %>% \n",
        "  set_engine(\"glmnet\")"
      ]
    },
    {
      "cell_type": "code",
      "source": [
        "pga_lr_mod <- \n",
        "  logistic_reg(penalty = 0.1, mixture = 1) %>% \n",
        "  set_engine(\"glmnet\")"
      ],
      "metadata": {
        "id": "cySjVj8pfczg"
      },
      "execution_count": 178,
      "outputs": []
    },
    {
      "cell_type": "code",
      "source": [],
      "metadata": {
        "id": "bPDXBnP4KfLw"
      },
      "execution_count": null,
      "outputs": []
    },
    {
      "cell_type": "code",
      "source": [],
      "metadata": {
        "id": "Ya0ciBpgINw_"
      },
      "execution_count": null,
      "outputs": []
    },
    {
      "cell_type": "markdown",
      "metadata": {
        "id": "uusYNreFSNhz"
      },
      "source": [
        "### Step 2: create a recipe\n",
        "\n",
        "The tidymodels package, recipes, which is designed to help you preprocess your data before training your model. Recipes are built as a series of preprocessing steps, such as:\n",
        "\n",
        "* converting qualitative predictors to indicator variables (also known as dummy variables),\n",
        "* transforming data to be on a different scale (e.g., taking the logarithm of a variable),\n",
        "* transforming whole groups of predictors together,\n",
        "* extracting key features from raw variables (e.g., getting the day of the week out of a date variable),"
      ]
    },
    {
      "cell_type": "code",
      "execution_count": 25,
      "metadata": {
        "id": "15Rjb0WPMYqU"
      },
      "outputs": [],
      "source": [
        "holidays <- c(\"AllSouls\", \"AshWednesday\", \"ChristmasEve\", \"Easter\", \n",
        "              \"ChristmasDay\", \"GoodFriday\", \"NewYearsDay\", \"PalmSunday\")\n",
        "\n",
        "lr_recipe <- \n",
        "  recipe(spend_weekend ~ ., data = hotel_other) %>% \n",
        "  step_date(arrival_date) %>% \n",
        "  step_holiday(arrival_date, holidays = holidays) %>% \n",
        "  step_rm(arrival_date) %>% \n",
        "  step_dummy(all_nominal_predictors()) %>% \n",
        "  step_zv(all_predictors()) %>% \n",
        "  step_normalize(all_predictors())"
      ]
    },
    {
      "cell_type": "code",
      "source": [
        "#@title recipe\n",
        "pga_recipe <- recipe(made_cut ~ ., data = pga_cut) %>% \n",
        "  step_mutate(across(where(is.character), as.factor)) %>% \n",
        "  step_dummy(all_nominal(), -made_cut) %>% \n",
        "  step_normalize(all_numeric(), -made_cut)  \n",
        "\n",
        "print(pga_recipe)"
      ],
      "metadata": {
        "colab": {
          "base_uri": "https://localhost:8080/"
        },
        "id": "V9sAyivhfnhF",
        "outputId": "1cf2f71e-41af-45c0-9f66-9c5c0a00ac49"
      },
      "execution_count": 165,
      "outputs": [
        {
          "output_type": "stream",
          "name": "stderr",
          "text": [
            "\n",
            "\n",
            "\u001b[36m──\u001b[39m \u001b[1mRecipe\u001b[22m \u001b[36m──────────────────────────────────────────────────────────────────────\u001b[39m\n",
            "\n",
            "\n",
            "\n",
            "── Inputs \n",
            "\n",
            "Number of variables by role\n",
            "\n",
            "outcome:    1\n",
            "predictor: 31\n",
            "\n",
            "\n",
            "\n",
            "── Operations \n",
            "\n",
            "\u001b[36m•\u001b[39m Variable mutation for: \u001b[34macross(where(is.character), as.factor)\u001b[39m\n",
            "\n",
            "\u001b[36m•\u001b[39m Dummy variables from: \u001b[34mall_nominal()\u001b[39m, \u001b[34m-made_cut\u001b[39m\n",
            "\n",
            "\u001b[36m•\u001b[39m Centering and scaling for: \u001b[34mall_numeric()\u001b[39m, \u001b[34m-made_cut\u001b[39m\n",
            "\n"
          ]
        }
      ]
    },
    {
      "cell_type": "code",
      "source": [
        "install.packages('recipes')"
      ],
      "metadata": {
        "colab": {
          "base_uri": "https://localhost:8080/"
        },
        "id": "ABEUOFbQzqq_",
        "outputId": "c751835e-634a-4437-8688-a43ff0cb6536"
      },
      "execution_count": 166,
      "outputs": [
        {
          "output_type": "stream",
          "name": "stderr",
          "text": [
            "Installing package into ‘/usr/local/lib/R/site-library’\n",
            "(as ‘lib’ is unspecified)\n",
            "\n"
          ]
        }
      ]
    },
    {
      "cell_type": "code",
      "source": [
        "library(recipes)\n",
        "library(rsample)"
      ],
      "metadata": {
        "id": "CoAjQyHPzzSl"
      },
      "execution_count": 85,
      "outputs": []
    },
    {
      "cell_type": "markdown",
      "metadata": {
        "id": "O4_QfINCO6zF"
      },
      "source": [
        "In the above receipe,\n",
        "\n",
        "* step_date() creates predictors for the year, month, and day of the week.\n",
        "* step_holiday() generates a set of indicator variables for specific holidays. Although we don’t know where these two hotels are located, we do know that the countries for origin for most stays are based in Europe.\n",
        "* step_rm() removes variables; here we’ll use it to remove the original date variable since we no longer want it in the model.\n",
        "\n",
        "Additionally, all categorical predictors (e.g., distribution_channel, hotel, …) should be converted to dummy variables, and all numeric predictors need to be centered and scaled.\n",
        "\n",
        "* step_dummy() converts characters or factors (i.e., nominal variables) into one or more numeric binary model terms for the levels of the original data.\n",
        "* step_zv() removes indicator variables that only contain a single unique value (e.g. all zeros). This is important because, for penalized models, the predictors should be centered and scaled.\n",
        "* step_normalize() centers and scales numeric variables."
      ]
    },
    {
      "cell_type": "markdown",
      "metadata": {
        "id": "29MV8TqdTI-F"
      },
      "source": [
        "### Step 3: create a workflow\n",
        "\n",
        "We will want to use our recipe across several steps as we train and test our model. We will:\n",
        "\n",
        "* Process the recipe using the training set: This involves any estimation or calculations based on the training set. For our recipe, the training set will be used to determine which predictors should be converted to dummy variables and which predictors will have zero-variance in the training set, and should be slated for removal.\n",
        "\n",
        "* Apply the recipe to the training set: We create the final predictor set on the training set.\n",
        "\n",
        "* Apply the recipe to the test set: We create the final predictor set on the test set. Nothing is recomputed and no information from the test set is used here; the dummy variable and zero-variance results from the training set are applied to the test set.\n",
        "\n",
        "To simplify this process, we can use a model workflow, which pairs a model and recipe together. "
      ]
    },
    {
      "cell_type": "code",
      "execution_count": 34,
      "metadata": {
        "id": "moC3Xvg1NohF"
      },
      "outputs": [],
      "source": [
        "lr_workflow <- \n",
        "  workflow() %>% \n",
        "  add_model(lr_mod) %>% \n",
        "  add_recipe(lr_recipe)"
      ]
    },
    {
      "cell_type": "code",
      "source": [
        "#@title workflow of pga\n",
        "\n",
        "pga_workflow <- \n",
        "  workflow() %>% \n",
        "  add_model(pga_lr_mod) %>% \n",
        "  add_recipe(pga_recipe)"
      ],
      "metadata": {
        "id": "hiJtAkBmirmR"
      },
      "execution_count": 167,
      "outputs": []
    },
    {
      "cell_type": "markdown",
      "metadata": {
        "id": "5_PWv_jMTh6W"
      },
      "source": [
        "### Step 4: tune the model & evaluate its performance metrics.\n",
        "\n",
        "Recall in Step 1 that penalty argument in logistic_reg() is specified with tune(). The penalty is a hyperparameter used by penalized logistic regression model. We tune the model hyperparameters to avoid overfitting. To tune penalty, we first create a grid of possible values."
      ]
    },
    {
      "cell_type": "code",
      "execution_count": 168,
      "metadata": {
        "colab": {
          "base_uri": "https://localhost:8080/",
          "height": 527
        },
        "id": "FUpQkla0QZkf",
        "outputId": "f7c50486-e0c9-45b0-f126-6fac196bb178"
      },
      "outputs": [
        {
          "output_type": "stream",
          "name": "stderr",
          "text": [
            "\u001b[1m\u001b[22mSelecting by penalty\n"
          ]
        },
        {
          "output_type": "display_data",
          "data": {
            "text/html": [
              "<table class=\"dataframe\">\n",
              "<caption>A tibble: 5 × 1</caption>\n",
              "<thead>\n",
              "\t<tr><th scope=col>penalty</th></tr>\n",
              "\t<tr><th scope=col>&lt;dbl&gt;</th></tr>\n",
              "</thead>\n",
              "<tbody>\n",
              "\t<tr><td>0.0001000000</td></tr>\n",
              "\t<tr><td>0.0001268961</td></tr>\n",
              "\t<tr><td>0.0001610262</td></tr>\n",
              "\t<tr><td>0.0002043360</td></tr>\n",
              "\t<tr><td>0.0002592944</td></tr>\n",
              "</tbody>\n",
              "</table>\n"
            ],
            "text/markdown": "\nA tibble: 5 × 1\n\n| penalty &lt;dbl&gt; |\n|---|\n| 0.0001000000 |\n| 0.0001268961 |\n| 0.0001610262 |\n| 0.0002043360 |\n| 0.0002592944 |\n\n",
            "text/latex": "A tibble: 5 × 1\n\\begin{tabular}{l}\n penalty\\\\\n <dbl>\\\\\n\\hline\n\t 0.0001000000\\\\\n\t 0.0001268961\\\\\n\t 0.0001610262\\\\\n\t 0.0002043360\\\\\n\t 0.0002592944\\\\\n\\end{tabular}\n",
            "text/plain": [
              "  penalty     \n",
              "1 0.0001000000\n",
              "2 0.0001268961\n",
              "3 0.0001610262\n",
              "4 0.0002043360\n",
              "5 0.0002592944"
            ]
          },
          "metadata": {}
        },
        {
          "output_type": "stream",
          "name": "stderr",
          "text": [
            "\u001b[1m\u001b[22mSelecting by penalty\n"
          ]
        },
        {
          "output_type": "display_data",
          "data": {
            "text/html": [
              "<table class=\"dataframe\">\n",
              "<caption>A tibble: 5 × 1</caption>\n",
              "<thead>\n",
              "\t<tr><th scope=col>penalty</th></tr>\n",
              "\t<tr><th scope=col>&lt;dbl&gt;</th></tr>\n",
              "</thead>\n",
              "<tbody>\n",
              "\t<tr><td>0.03856620</td></tr>\n",
              "\t<tr><td>0.04893901</td></tr>\n",
              "\t<tr><td>0.06210169</td></tr>\n",
              "\t<tr><td>0.07880463</td></tr>\n",
              "\t<tr><td>0.10000000</td></tr>\n",
              "</tbody>\n",
              "</table>\n"
            ],
            "text/markdown": "\nA tibble: 5 × 1\n\n| penalty &lt;dbl&gt; |\n|---|\n| 0.03856620 |\n| 0.04893901 |\n| 0.06210169 |\n| 0.07880463 |\n| 0.10000000 |\n\n",
            "text/latex": "A tibble: 5 × 1\n\\begin{tabular}{l}\n penalty\\\\\n <dbl>\\\\\n\\hline\n\t 0.03856620\\\\\n\t 0.04893901\\\\\n\t 0.06210169\\\\\n\t 0.07880463\\\\\n\t 0.10000000\\\\\n\\end{tabular}\n",
            "text/plain": [
              "  penalty   \n",
              "1 0.03856620\n",
              "2 0.04893901\n",
              "3 0.06210169\n",
              "4 0.07880463\n",
              "5 0.10000000"
            ]
          },
          "metadata": {}
        }
      ],
      "source": [
        "lr_reg_grid <- tibble(penalty = 10^seq(-4, -1, length.out = 30)) # create the grid of possible values to tune penalty hyperparameter\n",
        "\n",
        "lr_reg_grid %>% top_n(-5) # lowest penalty values\n",
        "\n",
        "lr_reg_grid %>% top_n(5) # highest penalty values"
      ]
    },
    {
      "cell_type": "markdown",
      "metadata": {
        "id": "yZnc-0Vl6gwl"
      },
      "source": [
        "Next, let’s use tune::tune_grid() to train these 30 penalized logistic regression models. We’ll also save the validation set predictions (via the call to control_grid()) so that diagnostic information can be available after the model fit. The area under the ROC curve will be used to quantify how well the model performs across a continuum of event thresholds "
      ]
    },
    {
      "cell_type": "code",
      "execution_count": 121,
      "metadata": {
        "id": "ScOLrgK1QekU"
      },
      "outputs": [],
      "source": [
        "lr_res <- \n",
        "  lr_workflow %>% \n",
        "  tune_grid(val_set,\n",
        "            grid = lr_reg_grid,\n",
        "            control = control_grid(save_pred = TRUE),\n",
        "            metrics = metric_set(roc_auc))"
      ]
    },
    {
      "cell_type": "code",
      "source": [
        "library(rsample)"
      ],
      "metadata": {
        "id": "HXbsjoFo8UKq"
      },
      "execution_count": 130,
      "outputs": []
    },
    {
      "cell_type": "code",
      "source": [
        "pga_res_filtered <- pga_res %>% filter(!is.na(auc))"
      ],
      "metadata": {
        "colab": {
          "base_uri": "https://localhost:8080/"
        },
        "id": "e4UkZ-JCy1UL",
        "outputId": "b668f4cf-ed64-46a7-929f-fa0d0aafd3d5"
      },
      "execution_count": 169,
      "outputs": [
        {
          "output_type": "stream",
          "name": "stderr",
          "text": [
            "Warning message:\n",
            "“\u001b[1m\u001b[22mThere was 1 warning in `filter()`.\n",
            "\u001b[1m\u001b[22m\u001b[36mℹ\u001b[39m In argument: `!is.na(auc)`.\n",
            "Caused by warning in `is.na()`:\n",
            "\u001b[33m!\u001b[39m is.na() applied to non-(list or vector) of type 'closure'”\n"
          ]
        }
      ]
    },
    {
      "cell_type": "code",
      "source": [
        "pga_res <- \n",
        "  pga_workflow %>% \n",
        "  tune_grid(pga_validation,\n",
        "            grid = lr_reg_grid,\n",
        "            control = control_grid(save_pred = TRUE),\n",
        "            metrics = metric_set(roc_auc))\n",
        "\n",
        "show_notes(.Last.tune.result)"
      ],
      "metadata": {
        "colab": {
          "base_uri": "https://localhost:8080/"
        },
        "id": "lHh57lyEslYd",
        "outputId": "33c32a2b-4895-44e7-f2ab-86e559ca66ec"
      },
      "execution_count": 172,
      "outputs": [
        {
          "output_type": "stream",
          "name": "stderr",
          "text": [
            "→ \u001b[33m\u001b[1mA\u001b[22m\u001b[39m | \u001b[33mwarning\u001b[39m: from glmnet C++ code (error code -2); Convergence for 2th lambda value not reached after maxit=100000 iterations; solutions for larger lambdas returned\n",
            "\n",
            "There were issues with some computations   \u001b[1m\u001b[33mA\u001b[39m\u001b[22m: x1\n",
            "\n",
            "→ \u001b[33m\u001b[1mB\u001b[22m\u001b[39m | \u001b[33mwarning\u001b[39m: There are new levels in a factor: Alvaro Ortiz, Hanbyeol Kim, Dean Burmester, Yuki Inamori, Mike Weir, Bernhard Langer, Jorge Campillo, Tom Lehman\n",
            "\n",
            "There were issues with some computations   \u001b[1m\u001b[33mA\u001b[39m\u001b[22m: x1\n",
            "→ \u001b[31m\u001b[1mC\u001b[22m\u001b[39m | \u001b[31merror\u001b[39m:   The glmnet model was fit with a single penalty value of 9.9e+35. Predicting with a value of 0.1 will give incorrect results from `glmnet()`.\n",
            "\n",
            "There were issues with some computations   \u001b[1m\u001b[33mA\u001b[39m\u001b[22m: x1\n",
            "There were issues with some computations   \u001b[1m\u001b[33mA\u001b[39m\u001b[22m: x1   \u001b[1m\u001b[33mB\u001b[39m\u001b[22m: x1   \u001b[1m\u001b[31mC\u001b[39m\u001b[22m: x1\n",
            "\n",
            "\n",
            "\n",
            "Warning message:\n",
            "“All models failed. Run `show_notes(.Last.tune.result)` for more information.”\n"
          ]
        },
        {
          "output_type": "stream",
          "name": "stdout",
          "text": [
            "unique notes:\n",
            "────────────────────────────────────────────────────────────────────────────────\n",
            "from glmnet C++ code (error code -2); Convergence for 2th lambda value not reached after maxit=100000 iterations; solutions for larger lambdas returned\n",
            "────────────────────────────────────────────────────────────────────────────────\n",
            "There are new levels in a factor: Alvaro Ortiz, Hanbyeol Kim, Dean Burmester, Yuki Inamori, Mike Weir, Bernhard Langer, Jorge Campillo, Tom Lehman\n",
            "────────────────────────────────────────────────────────────────────────────────\n",
            "The glmnet model was fit with a single penalty value of 9.9e+35. Predicting with a value of 0.1 will give incorrect results from `glmnet()`.\n"
          ]
        }
      ]
    },
    {
      "cell_type": "markdown",
      "metadata": {
        "id": "3v1ASd2b6mt-"
      },
      "source": [
        "It might be easier to visualize the validation set metrics by plotting the area under the ROC curve against the range of penalty values. The area under a receiver operating characteristic (ROC) curve, abbreviated as AUC, is a single scalar value that measures the overall performance of a binary classifier (Hanley and McNeil 1982). The AUC value is within the range [0.5, 1.0], where the minimum value represents the performance of a random classifier and the maximum value would correspond to a perfect classifier (e.g., with a classification error rate equivalent to zero)."
      ]
    },
    {
      "cell_type": "code",
      "execution_count": 122,
      "metadata": {
        "colab": {
          "base_uri": "https://localhost:8080/",
          "height": 377
        },
        "id": "fkolMmXmTqi4",
        "outputId": "b976f11b-d5e5-4b37-e244-601edb691570"
      },
      "outputs": [
        {
          "output_type": "display_data",
          "data": {
            "text/plain": [
              "plot without title"
            ],
            "image/png": "[encoded data removed]"
          },
          "metadata": {
            "image/png": {
              "width": 480,
              "height": 360
            }
          }
        }
      ],
      "source": [
        "lr_plot <- \n",
        "  lr_res %>% \n",
        "  collect_metrics() %>% \n",
        "  ggplot(aes(x = penalty, y = mean)) + \n",
        "  geom_point() + \n",
        "  geom_line() + \n",
        "  ylab(\"Area under the ROC Curve\") +\n",
        "  scale_x_log10(labels = scales::label_number()) +\n",
        "  theme_bw()\n",
        "\n",
        "lr_plot \n"
      ]
    },
    {
      "cell_type": "code",
      "source": [
        "#@title pga lr plot\n",
        "\n",
        "pga_plot <- \n",
        "  pga_res %>% \n",
        "  collect_metrics() %>% \n",
        "  ggplot(aes(x = penalty, y = mean)) + \n",
        "  geom_point() + \n",
        "  geom_line() + \n",
        "  ylab(\"Area under the ROC Curve\") +\n",
        "  scale_x_log10(labels = scales::label_number()) +\n",
        "  theme_bw()\n",
        "\n",
        "pga_plot "
      ],
      "metadata": {
        "colab": {
          "base_uri": "https://localhost:8080/",
          "height": 252
        },
        "id": "-A-55AEdtgYY",
        "outputId": "1fa0f7d5-32a0-4e21-9c9d-b53ba24b4754"
      },
      "execution_count": 96,
      "outputs": [
        {
          "output_type": "error",
          "ename": "ERROR",
          "evalue": "ignored",
          "traceback": [
            "\u001b[1m\u001b[33mError\u001b[39m in `estimate_tune_results()`:\u001b[22m\n\u001b[33m!\u001b[39m All models failed. Run `show_notes(.Last.tune.result)` for more information.\nTraceback:\n",
            "1. pga_res %>% collect_metrics() %>% ggplot(aes(x = penalty, y = mean))",
            "2. ggplot(., aes(x = penalty, y = mean))",
            "3. collect_metrics(.)",
            "4. collect_metrics.tune_results(.)",
            "5. estimate_tune_results(x)",
            "6. rlang::abort(\"All models failed. Run `show_notes(.Last.tune.result)` for more information.\")",
            "7. signal_abort(cnd, .file)"
          ]
        }
      ]
    },
    {
      "cell_type": "code",
      "execution_count": null,
      "metadata": {
        "colab": {
          "base_uri": "https://localhost:8080/",
          "height": 568
        },
        "id": "HPAhx38rUDJE",
        "outputId": "2a4ecd38-e2fe-4b01-f264-b912b7de4d7f"
      },
      "outputs": [
        {
          "data": {
            "text/html": [
              "<table class=\"dataframe\">\n",
              "<caption>A tibble: 15 × 7</caption>\n",
              "<thead>\n",
              "\t<tr><th scope=col>penalty</th><th scope=col>.metric</th><th scope=col>.estimator</th><th scope=col>mean</th><th scope=col>n</th><th scope=col>std_err</th><th scope=col>.config</th></tr>\n",
              "\t<tr><th scope=col>&lt;dbl&gt;</th><th scope=col>&lt;chr&gt;</th><th scope=col>&lt;chr&gt;</th><th scope=col>&lt;dbl&gt;</th><th scope=col>&lt;int&gt;</th><th scope=col>&lt;dbl&gt;</th><th scope=col>&lt;chr&gt;</th></tr>\n",
              "</thead>\n",
              "<tbody>\n",
              "\t<tr><td>0.0001000000</td><td>roc_auc</td><td>binary</td><td>0.9654189</td><td>1</td><td>NA</td><td>Preprocessor1_Model01</td></tr>\n",
              "\t<tr><td>0.0001268961</td><td>roc_auc</td><td>binary</td><td>0.9654104</td><td>1</td><td>NA</td><td>Preprocessor1_Model02</td></tr>\n",
              "\t<tr><td>0.0001610262</td><td>roc_auc</td><td>binary</td><td>0.9654304</td><td>1</td><td>NA</td><td>Preprocessor1_Model03</td></tr>\n",
              "\t<tr><td>0.0002043360</td><td>roc_auc</td><td>binary</td><td>0.9654042</td><td>1</td><td>NA</td><td>Preprocessor1_Model04</td></tr>\n",
              "\t<tr><td>0.0002592944</td><td>roc_auc</td><td>binary</td><td>0.9653791</td><td>1</td><td>NA</td><td>Preprocessor1_Model05</td></tr>\n",
              "\t<tr><td>0.0003290345</td><td>roc_auc</td><td>binary</td><td>0.9653906</td><td>1</td><td>NA</td><td>Preprocessor1_Model06</td></tr>\n",
              "\t<tr><td>0.0004175319</td><td>roc_auc</td><td>binary</td><td>0.9654431</td><td>1</td><td>NA</td><td>Preprocessor1_Model07</td></tr>\n",
              "\t<tr><td>0.0005298317</td><td>roc_auc</td><td>binary</td><td>0.9654656</td><td>1</td><td>NA</td><td>Preprocessor1_Model08</td></tr>\n",
              "\t<tr><td>0.0006723358</td><td>roc_auc</td><td>binary</td><td>0.9654708</td><td>1</td><td>NA</td><td>Preprocessor1_Model09</td></tr>\n",
              "\t<tr><td>0.0008531679</td><td>roc_auc</td><td>binary</td><td>0.9654240</td><td>1</td><td>NA</td><td>Preprocessor1_Model10</td></tr>\n",
              "\t<tr><td>0.0010826367</td><td>roc_auc</td><td>binary</td><td>0.9652972</td><td>1</td><td>NA</td><td>Preprocessor1_Model11</td></tr>\n",
              "\t<tr><td>0.0013738238</td><td>roc_auc</td><td>binary</td><td>0.9650346</td><td>1</td><td>NA</td><td>Preprocessor1_Model12</td></tr>\n",
              "\t<tr><td>0.0017433288</td><td>roc_auc</td><td>binary</td><td>0.9646832</td><td>1</td><td>NA</td><td>Preprocessor1_Model13</td></tr>\n",
              "\t<tr><td>0.0022122163</td><td>roc_auc</td><td>binary</td><td>0.9641824</td><td>1</td><td>NA</td><td>Preprocessor1_Model14</td></tr>\n",
              "\t<tr><td>0.0028072162</td><td>roc_auc</td><td>binary</td><td>0.9637120</td><td>1</td><td>NA</td><td>Preprocessor1_Model15</td></tr>\n",
              "</tbody>\n",
              "</table>\n"
            ],
            "text/latex": "A tibble: 15 × 7\n\\begin{tabular}{lllllll}\n penalty & .metric & .estimator & mean & n & std\\_err & .config\\\\\n <dbl> & <chr> & <chr> & <dbl> & <int> & <dbl> & <chr>\\\\\n\\hline\n\t 0.0001000000 & roc\\_auc & binary & 0.9654189 & 1 & NA & Preprocessor1\\_Model01\\\\\n\t 0.0001268961 & roc\\_auc & binary & 0.9654104 & 1 & NA & Preprocessor1\\_Model02\\\\\n\t 0.0001610262 & roc\\_auc & binary & 0.9654304 & 1 & NA & Preprocessor1\\_Model03\\\\\n\t 0.0002043360 & roc\\_auc & binary & 0.9654042 & 1 & NA & Preprocessor1\\_Model04\\\\\n\t 0.0002592944 & roc\\_auc & binary & 0.9653791 & 1 & NA & Preprocessor1\\_Model05\\\\\n\t 0.0003290345 & roc\\_auc & binary & 0.9653906 & 1 & NA & Preprocessor1\\_Model06\\\\\n\t 0.0004175319 & roc\\_auc & binary & 0.9654431 & 1 & NA & Preprocessor1\\_Model07\\\\\n\t 0.0005298317 & roc\\_auc & binary & 0.9654656 & 1 & NA & Preprocessor1\\_Model08\\\\\n\t 0.0006723358 & roc\\_auc & binary & 0.9654708 & 1 & NA & Preprocessor1\\_Model09\\\\\n\t 0.0008531679 & roc\\_auc & binary & 0.9654240 & 1 & NA & Preprocessor1\\_Model10\\\\\n\t 0.0010826367 & roc\\_auc & binary & 0.9652972 & 1 & NA & Preprocessor1\\_Model11\\\\\n\t 0.0013738238 & roc\\_auc & binary & 0.9650346 & 1 & NA & Preprocessor1\\_Model12\\\\\n\t 0.0017433288 & roc\\_auc & binary & 0.9646832 & 1 & NA & Preprocessor1\\_Model13\\\\\n\t 0.0022122163 & roc\\_auc & binary & 0.9641824 & 1 & NA & Preprocessor1\\_Model14\\\\\n\t 0.0028072162 & roc\\_auc & binary & 0.9637120 & 1 & NA & Preprocessor1\\_Model15\\\\\n\\end{tabular}\n",
            "text/markdown": "\nA tibble: 15 × 7\n\n| penalty &lt;dbl&gt; | .metric &lt;chr&gt; | .estimator &lt;chr&gt; | mean &lt;dbl&gt; | n &lt;int&gt; | std_err &lt;dbl&gt; | .config &lt;chr&gt; |\n|---|---|---|---|---|---|---|\n| 0.0001000000 | roc_auc | binary | 0.9654189 | 1 | NA | Preprocessor1_Model01 |\n| 0.0001268961 | roc_auc | binary | 0.9654104 | 1 | NA | Preprocessor1_Model02 |\n| 0.0001610262 | roc_auc | binary | 0.9654304 | 1 | NA | Preprocessor1_Model03 |\n| 0.0002043360 | roc_auc | binary | 0.9654042 | 1 | NA | Preprocessor1_Model04 |\n| 0.0002592944 | roc_auc | binary | 0.9653791 | 1 | NA | Preprocessor1_Model05 |\n| 0.0003290345 | roc_auc | binary | 0.9653906 | 1 | NA | Preprocessor1_Model06 |\n| 0.0004175319 | roc_auc | binary | 0.9654431 | 1 | NA | Preprocessor1_Model07 |\n| 0.0005298317 | roc_auc | binary | 0.9654656 | 1 | NA | Preprocessor1_Model08 |\n| 0.0006723358 | roc_auc | binary | 0.9654708 | 1 | NA | Preprocessor1_Model09 |\n| 0.0008531679 | roc_auc | binary | 0.9654240 | 1 | NA | Preprocessor1_Model10 |\n| 0.0010826367 | roc_auc | binary | 0.9652972 | 1 | NA | Preprocessor1_Model11 |\n| 0.0013738238 | roc_auc | binary | 0.9650346 | 1 | NA | Preprocessor1_Model12 |\n| 0.0017433288 | roc_auc | binary | 0.9646832 | 1 | NA | Preprocessor1_Model13 |\n| 0.0022122163 | roc_auc | binary | 0.9641824 | 1 | NA | Preprocessor1_Model14 |\n| 0.0028072162 | roc_auc | binary | 0.9637120 | 1 | NA | Preprocessor1_Model15 |\n\n",
            "text/plain": [
              "   penalty      .metric .estimator mean      n std_err .config              \n",
              "1  0.0001000000 roc_auc binary     0.9654189 1 NA      Preprocessor1_Model01\n",
              "2  0.0001268961 roc_auc binary     0.9654104 1 NA      Preprocessor1_Model02\n",
              "3  0.0001610262 roc_auc binary     0.9654304 1 NA      Preprocessor1_Model03\n",
              "4  0.0002043360 roc_auc binary     0.9654042 1 NA      Preprocessor1_Model04\n",
              "5  0.0002592944 roc_auc binary     0.9653791 1 NA      Preprocessor1_Model05\n",
              "6  0.0003290345 roc_auc binary     0.9653906 1 NA      Preprocessor1_Model06\n",
              "7  0.0004175319 roc_auc binary     0.9654431 1 NA      Preprocessor1_Model07\n",
              "8  0.0005298317 roc_auc binary     0.9654656 1 NA      Preprocessor1_Model08\n",
              "9  0.0006723358 roc_auc binary     0.9654708 1 NA      Preprocessor1_Model09\n",
              "10 0.0008531679 roc_auc binary     0.9654240 1 NA      Preprocessor1_Model10\n",
              "11 0.0010826367 roc_auc binary     0.9652972 1 NA      Preprocessor1_Model11\n",
              "12 0.0013738238 roc_auc binary     0.9650346 1 NA      Preprocessor1_Model12\n",
              "13 0.0017433288 roc_auc binary     0.9646832 1 NA      Preprocessor1_Model13\n",
              "14 0.0022122163 roc_auc binary     0.9641824 1 NA      Preprocessor1_Model14\n",
              "15 0.0028072162 roc_auc binary     0.9637120 1 NA      Preprocessor1_Model15"
            ]
          },
          "metadata": {},
          "output_type": "display_data"
        }
      ],
      "source": [
        "top_models <-\n",
        "  lr_res %>% \n",
        "  show_best(\"roc_auc\", n = 15) %>% \n",
        "  arrange(penalty) \n",
        "top_models"
      ]
    },
    {
      "cell_type": "markdown",
      "metadata": {
        "id": "jWinG_w-7Syx"
      },
      "source": [
        "This plots shows us that model performance is generally better at the smaller penalty values. This suggests that the majority of the predictors are important to the model. We use select_best() to pick the best penalty hyperparameter value and visualize the validation set ROC curve:"
      ]
    },
    {
      "cell_type": "code",
      "execution_count": null,
      "metadata": {
        "colab": {
          "base_uri": "https://localhost:8080/",
          "height": 129
        },
        "id": "CXoBNh6sURrv",
        "outputId": "26880093-afa1-4a43-ec58-9378c33b3d02"
      },
      "outputs": [
        {
          "data": {
            "text/html": [
              "<table class=\"dataframe\">\n",
              "<caption>A tibble: 1 × 2</caption>\n",
              "<thead>\n",
              "\t<tr><th scope=col>penalty</th><th scope=col>.config</th></tr>\n",
              "\t<tr><th scope=col>&lt;dbl&gt;</th><th scope=col>&lt;chr&gt;</th></tr>\n",
              "</thead>\n",
              "<tbody>\n",
              "\t<tr><td>0.0006723358</td><td>Preprocessor1_Model09</td></tr>\n",
              "</tbody>\n",
              "</table>\n"
            ],
            "text/latex": "A tibble: 1 × 2\n\\begin{tabular}{ll}\n penalty & .config\\\\\n <dbl> & <chr>\\\\\n\\hline\n\t 0.0006723358 & Preprocessor1\\_Model09\\\\\n\\end{tabular}\n",
            "text/markdown": "\nA tibble: 1 × 2\n\n| penalty &lt;dbl&gt; | .config &lt;chr&gt; |\n|---|---|\n| 0.0006723358 | Preprocessor1_Model09 |\n\n",
            "text/plain": [
              "  penalty      .config              \n",
              "1 0.0006723358 Preprocessor1_Model09"
            ]
          },
          "metadata": {},
          "output_type": "display_data"
        }
      ],
      "source": [
        "lr_best <- \n",
        "  lr_res %>% \n",
        "  select_best()\n",
        "\n",
        "lr_best"
      ]
    },
    {
      "cell_type": "code",
      "execution_count": null,
      "metadata": {
        "colab": {
          "base_uri": "https://localhost:8080/",
          "height": 520
        },
        "id": "DNqwg8TiVdJ0",
        "outputId": "43ecb203-516f-4e6a-c804-4c67dcb4f01a"
      },
      "outputs": [
        {
          "name": "stderr",
          "output_type": "stream",
          "text": [
            "Warning message:\n",
            "“\u001b[1m\u001b[22mReturning more (or less) than 1 row per `summarise()` group was deprecated in\n",
            "dplyr 1.1.0.\n",
            "\u001b[36mℹ\u001b[39m Please use `reframe()` instead.\n",
            "\u001b[36mℹ\u001b[39m When switching from `summarise()` to `reframe()`, remember that `reframe()`\n",
            "  always returns an ungrouped data frame and adjust accordingly.\n",
            "\u001b[36mℹ\u001b[39m The deprecated feature was likely used in the \u001b[34myardstick\u001b[39m package.\n",
            "  Please report the issue at \u001b[3m\u001b[34m<https://github.com/tidymodels/yardstick/issues>\u001b[39m\u001b[23m.”\n"
          ]
        },
        {
          "data": {
            "image/png": "[encoded data removed]",
            "text/plain": [
              "plot without title"
            ]
          },
          "metadata": {
            "image/png": {
              "height": 360,
              "width": 480
            }
          },
          "output_type": "display_data"
        }
      ],
      "source": [
        "lr_auc <- \n",
        "  lr_res %>% \n",
        "  collect_predictions(parameters = lr_best) %>% \n",
        "  roc_curve(spend_weekend, .pred_TRUE) %>% \n",
        "  mutate(model = \"Logistic Regression\")\n",
        "\n",
        "autoplot(lr_auc)\n"
      ]
    },
    {
      "cell_type": "markdown",
      "metadata": {
        "id": "f7epqRmk7s9_"
      },
      "source": [
        "An ROC curve (receiver operating characteristic curve) is a graph showing the performance of a classification model at all classification thresholds. This curve plots two parameters: Sentivity and 1 - specificity. \n",
        "\n",
        "* Sensitivity is the metric used for evaluating a model's ability to predict the true positives of each available category.\n",
        "* Specificity is the the model's ability to predict a true negative of each category available. \n",
        "\n",
        "The ROC curve shows the trade-off between sensitivity and specificity. Classifiers that give curves closer to the top-left corner indicate a better performance. "
      ]
    },
    {
      "cell_type": "markdown",
      "metadata": {
        "id": "mm4sv1N8ccQQ"
      },
      "source": [
        "## THE LAST FIT"
      ]
    },
    {
      "cell_type": "markdown",
      "metadata": {
        "id": "iQuEyy9wdJRh"
      },
      "source": [
        "Now that we picked the best logic regression penalized value. The last step is to fit the final model on all the rows of data not originally held out for testing (both the training and the validation sets combined), and then evaluate the model performance one last time with the held-out test set."
      ]
    },
    {
      "cell_type": "code",
      "execution_count": 72,
      "metadata": {
        "id": "MC52NVbmchiE"
      },
      "outputs": [],
      "source": [
        "# the last model\n",
        "last_lr_mod <- \n",
        "  logistic_reg(penalty = 0.00067, mixture = 1) %>% \n",
        "  set_engine(\"glmnet\")\n",
        "\n",
        "# the LR workflow\n",
        "last_lr_workflow <- \n",
        "  lr_workflow %>% \n",
        "  update_model(last_lr_mod)\n",
        "\n",
        "# the last fit\n",
        "set.seed(345)\n",
        "last_lr_fit <- \n",
        "  last_lr_workflow %>% \n",
        "  last_fit(splits)"
      ]
    },
    {
      "cell_type": "markdown",
      "metadata": {
        "id": "cbseA9oU3T-t"
      },
      "source": [
        "#### Exercise 3: create AUC-ROC plot for the last fitted model on the test set. How does it compare to performance over validation set in the last section ?"
      ]
    },
    {
      "cell_type": "code",
      "execution_count": null,
      "metadata": {
        "id": "Xb09oAJR3u95"
      },
      "outputs": [],
      "source": [
        "#[Your answer here]"
      ]
    },
    {
      "cell_type": "code",
      "execution_count": 73,
      "metadata": {
        "colab": {
          "base_uri": "https://localhost:8080/",
          "height": 516
        },
        "id": "oUbwj4aUrCOm",
        "outputId": "9cd68011-6d9b-4668-d3da-cdad3f83b9ea"
      },
      "outputs": [
        {
          "output_type": "stream",
          "name": "stderr",
          "text": [
            "Warning message:\n",
            "“\u001b[1m\u001b[22mReturning more (or less) than 1 row per `summarise()` group was deprecated in\n",
            "dplyr 1.1.0.\n",
            "\u001b[36mℹ\u001b[39m Please use `reframe()` instead.\n",
            "\u001b[36mℹ\u001b[39m When switching from `summarise()` to `reframe()`, remember that `reframe()`\n",
            "  always returns an ungrouped data frame and adjust accordingly.\n",
            "\u001b[36mℹ\u001b[39m The deprecated feature was likely used in the \u001b[34myardstick\u001b[39m package.\n",
            "  Please report the issue at \u001b[3m\u001b[34m<https://github.com/tidymodels/yardstick/issues>\u001b[39m\u001b[23m.”\n"
          ]
        },
        {
          "output_type": "display_data",
          "data": {
            "text/plain": [
              "plot without title"
            ],
            "image/png": "[encoded data removed]"
          },
          "metadata": {
            "image/png": {
              "width": 480,
              "height": 360
            }
          }
        }
      ],
      "source": [
        "#@title Answer to Exercise 3\n",
        "last_lr_fit %>% \n",
        "  collect_predictions() %>% \n",
        "  roc_curve(spend_weekend, .pred_TRUE) %>% \n",
        "  autoplot()\n",
        "\n",
        "# Performance over the test set is very similar to validation\n",
        "# set"
      ]
    },
    {
      "cell_type": "markdown",
      "metadata": {
        "id": "IgGQBNt_8uXe"
      },
      "source": [
        "Finally, we extract the estimated coefficients from the last fitted model and plot them out. As illustrated in the below, stay_in_week_nights and arrival_date are the two most siginifcant features in predicting if customers stay over weeekends."
      ]
    },
    {
      "cell_type": "code",
      "execution_count": null,
      "metadata": {
        "colab": {
          "base_uri": "https://localhost:8080/",
          "height": 1000
        },
        "id": "VMyfJgXCrQeA",
        "outputId": "f81d3e1e-bf74-4681-9531-8f926ac96400"
      },
      "outputs": [
        {
          "data": {
            "image/png": "[encoded data removed]",
            "text/plain": [
              "plot without title"
            ]
          },
          "metadata": {
            "image/png": {
              "height": 1800,
              "width": 360
            }
          },
          "output_type": "display_data"
        }
      ],
      "source": [
        "options(repr.plot.width= 6, repr.plot.height=30)\n",
        "\n",
        "last_lr_fit %>% \n",
        "  extract_fit_parsnip() %>%\n",
        "  tidy() %>%\n",
        "  ggplot() + geom_col(aes(y = term, x = estimate))\n"
      ]
    },
    {
      "cell_type": "code",
      "source": [
        "options(repr.plot.width= 6, repr.plot.height=30)\n",
        "\n",
        "last_lr_fit %>% \n",
        "  extract_fit_parsnip() %>%\n",
        "  tidy() %>%\n",
        "  ggplot() + geom_col(aes(y = term, x = estimate))"
      ],
      "metadata": {
        "id": "J5ZaZh4X6YkQ"
      },
      "execution_count": null,
      "outputs": []
    },
    {
      "cell_type": "code",
      "source": [],
      "metadata": {
        "id": "dSll8Lcc9-7K"
      },
      "execution_count": null,
      "outputs": []
    },
    {
      "cell_type": "code",
      "source": [
        "# Fit the logistic regression model\n",
        "set.seed(123)\n",
        "pga_lr_fit <- pga_lr_mod %>%\n",
        "  fit(made_cut ~ ., data = pga_other)\n",
        "\n",
        "# Make predictions on the validation set\n",
        "pga_lr_pred <- predict(pga_lr_fit, new_data = pga_validation, type = \"prob\") %>%\n",
        "  bind_cols(pga_validation) %>%\n",
        "  select(made_cut, .pred_1)\n",
        "\n",
        "# Calculate TPR and FPR for different threshold values\n",
        "roc_data <- pga_lr_pred %>%\n",
        "  roc_curve(made_cut, .pred_1) %>%\n",
        "  bind_cols(data.frame(threshold = seq(0, 1, by = 0.01))) %>%\n",
        "  mutate(tpr = tp / (tp + fn), fpr = fp / (fp + tn))\n",
        "\n",
        "# Plot the ROC curve\n",
        "ggplot(roc_data, aes(x = fpr, y = tpr)) +\n",
        "  geom_line() +\n",
        "  geom_abline(slope = 1, intercept = 0, linetype = \"dashed\") +\n",
        "  labs(x = \"False Positive Rate\", y = \"True Positive Rate\", \n",
        "       title = \"ROC Curve for Predicting Made Cut\") +\n",
        "  theme_minimal()\n"
      ],
      "metadata": {
        "colab": {
          "base_uri": "https://localhost:8080/",
          "height": 373
        },
        "id": "nbmkIRrsIPku",
        "outputId": "5c10b76a-b9bf-41f4-9a42-fa7840ff0a07"
      },
      "execution_count": 175,
      "outputs": [
        {
          "output_type": "stream",
          "name": "stderr",
          "text": [
            "Warning message:\n",
            "“from glmnet C++ code (error code -2); Convergence for 2th lambda value not reached after maxit=100000 iterations; solutions for larger lambdas returned”\n"
          ]
        },
        {
          "output_type": "error",
          "ename": "ERROR",
          "evalue": "ignored",
          "traceback": [
            "\u001b[1m\u001b[33mError\u001b[39m in `.check_glmnet_penalty_predict()`:\u001b[22m\n\u001b[33m!\u001b[39m The glmnet model was fit with a single penalty value of 9.9e+35. Predicting with a value of 0.1 will give incorrect results from `glmnet()`.\nTraceback:\n",
            "1. predict(pga_lr_fit, new_data = pga_validation, type = \"prob\") %>% \n .     bind_cols(pga_validation) %>% select(made_cut, .pred_1)",
            "2. select(., made_cut, .pred_1)",
            "3. bind_cols(., pga_validation)",
            "4. list2(...)",
            "5. predict(pga_lr_fit, new_data = pga_validation, type = \"prob\")",
            "6. predict._lognet(pga_lr_fit, new_data = pga_validation, type = \"prob\")",
            "7. .check_glmnet_penalty_predict(penalty, object, multi)",
            "8. rlang::abort(glue::glue(\"The glmnet model was fit with a single penalty value of \", \n .     \"{object$fit$lambda}. Predicting with a value of {penalty} \", \n .     \"will give incorrect results from `glmnet()`.\"))",
            "9. signal_abort(cnd, .file)"
          ]
        }
      ]
    }
  ],
  "metadata": {
    "colab": {
      "provenance": []
    },
    "kernelspec": {
      "display_name": "R",
      "name": "ir"
    },
    "language_info": {
      "name": "R"
    }
  },
  "nbformat": 4,
  "nbformat_minor": 0
}